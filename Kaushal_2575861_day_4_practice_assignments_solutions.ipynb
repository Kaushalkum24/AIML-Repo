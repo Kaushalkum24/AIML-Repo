{
 "cells": [
  {
   "cell_type": "markdown",
   "id": "08cabfe9",
   "metadata": {},
   "source": [
    "# Exceptions and Command-Line Arguments"
   ]
  },
  {
   "cell_type": "markdown",
   "id": "60516560",
   "metadata": {},
   "source": [
    "## 1. Write a python program with Exception handling to input marks for five subjects Physics, Chemistry, Biology, Mathematics, and Computer. Calculate the percentage and grade and grade according to the following:\n",
    "i)    Percentage >=90%: Grade A     \n",
    "ii)   Percentage >=80%: Grade B     \n",
    "iii)  Percentage >=70%: Grade C     \n",
    "iv)   Percentage >=60%: Grade D     \n",
    "v)    Percentage >=40%: Grade E     \n",
    "vi)   Percentage =<40%: Grade F     "
   ]
  },
  {
   "cell_type": "code",
   "execution_count": 47,
   "id": "16da25e5",
   "metadata": {},
   "outputs": [
    {
     "name": "stdout",
     "output_type": "stream",
     "text": [
      "Enter the grade for Physics: -5\n",
      "Enter the grade for Chemistry: 5\n",
      "Enter the grade for Biology: 5\n",
      "Enter the grade for Mathematics: 5\n",
      "Enter the grade for Computer: 5\n",
      "Input is invalid. It should be positive\n"
     ]
    }
   ],
   "source": [
    "try:\n",
    "    p = int(input(\"Enter the grade for Physics: \"))\n",
    "    ch = int(input(\"Enter the grade for Chemistry: \"))\n",
    "    b = int(input(\"Enter the grade for Biology: \"))\n",
    "    m = int(input(\"Enter the grade for Mathematics: \"))\n",
    "    co = int(input(\"Enter the grade for Computer: \"))\n",
    "    \n",
    "    def grade(x):\n",
    "        if x>=90 and x<=100:\n",
    "            return \"A\"\n",
    "        elif x>=80:\n",
    "            return \"B\"\n",
    "        elif x>=70:\n",
    "            return \"C\"\n",
    "        elif x>=60:\n",
    "            return \"D\"\n",
    "        elif x>=40:\n",
    "            return \"E\"\n",
    "        elif x<=40:\n",
    "            return \"F\"\n",
    "    \n",
    "    if p<0 or ch<0 or b<0 or m<0 or co<0:\n",
    "        raise Exception (\"Input is invalid. It should be positive\")\n",
    "         \n",
    "    print(\"The grade for Physics:\",grade(p))\n",
    "    print(\"The grade for Chemistry:\",grade(ch))\n",
    "    print(\"The grade for Bilogy:\",grade(b))\n",
    "    print(\"The grade for Mathematics:\",grade(m))\n",
    "    print(\"The grade for Computer:\",grade(co))\n",
    "    avg = (p+ch+b+m+co)/5\n",
    "    print(\"For all subjects, percentage is {}% and grade is {}\".format(avg,grade(avg)))\n",
    "    \n",
    "except Exception as e:\n",
    "    print(e)\n",
    "except:\n",
    "    print(\"Please, enter integer values between 0 to 100\")"
   ]
  },
  {
   "cell_type": "markdown",
   "id": "807576ee",
   "metadata": {},
   "source": [
    "## 2. Write a python program with Exception handling to input electricity unit charges and calculate the total electricity bill according to the given condition:\n",
    "i)    For the first 50 units Rs. 0.50/unit    \n",
    "ii)   For the next 100 units Rs. 0.75/unit    \n",
    "iii)  For the next 100 units Rs. 1.20/unit    \n",
    "iv)   For units above 250 Rs. 1.50/unit    \n",
    "v)    An additional surcharge of 20% is added to the bill."
   ]
  },
  {
   "cell_type": "code",
   "execution_count": 2,
   "id": "be91e2cc",
   "metadata": {},
   "outputs": [
    {
     "name": "stdout",
     "output_type": "stream",
     "text": [
      "Enter the units consumed: -5\n",
      "unit cannot be negative\n"
     ]
    }
   ],
   "source": [
    "try:\n",
    "    u = int(input(\"Enter the units consumed: \"))\n",
    "    \n",
    "    if u<0:\n",
    "        raise Exception(\"unit cannot be negative\")\n",
    "    \n",
    "    elif u<=50:\n",
    "        charge = 0.50*u\n",
    "    elif u<=150:\n",
    "        charge = 25 + 0.75*(u-50)\n",
    "    elif u<=250:\n",
    "        charge = 100 +  1.20*(u-150)\n",
    "    else:\n",
    "        charge = 220 + 1.50*(u-250)\n",
    "   \n",
    "    \n",
    "    s = 1.2 * charge\n",
    "    \n",
    "    print(\"Electricity bill is:\", s)\n",
    "except Exception as e:\n",
    "    print(e)\n",
    "    \n",
    "except:\n",
    "    print(\"Check for errors\")"
   ]
  },
  {
   "cell_type": "markdown",
   "id": "760e510f",
   "metadata": {},
   "source": [
    "## 3. Write a python program with Exception handling to input the week number and print the weekday."
   ]
  },
  {
   "cell_type": "code",
   "execution_count": 64,
   "id": "31467d41",
   "metadata": {
    "scrolled": true
   },
   "outputs": [
    {
     "name": "stdout",
     "output_type": "stream",
     "text": [
      "Enter the week number: 2\n",
      "Week number is 2 and weekday is Tuesday\n"
     ]
    }
   ],
   "source": [
    "try:\n",
    "    n = int(input(\"Enter the week number: \"))\n",
    "    \n",
    "    if n>=1 and n<=7:\n",
    "        lst = [\"Monday\",\"Tuesday\",\"Wednesday\",\"Thursday\",\"Friday\",\"Saturday\",\"Sunday\"]\n",
    "        print(\"Week number is {} and weekday is {}\".format(n, lst[n-1]))    \n",
    "    else:\n",
    "        raise Exception(\"Please give positive value between 1 and 7\")\n",
    "        \n",
    "except Exception as e:\n",
    "    print(e)\n",
    "except:\n",
    "    print(\"Check for errors, you may have not entered an integer\")"
   ]
  },
  {
   "cell_type": "markdown",
   "id": "8255775c",
   "metadata": {},
   "source": [
    "## 4. Write a Python program to implement word count using command line arguments.\n",
    "i)   Create a text document \"apple.txt\" which contains text for wordcount.   \n",
    "ii)  Create a wordcount program which calls the \"apple.txt\" document by opening the file.   \n",
    "iii) If the word is present again in the \"apple.txt\", the wordcount is incremented by 1 until all the words are counted in the document.   \n",
    "iv)  Close the file.   \n",
    "v)   Create a command.py program which imports the wordcount.py program.   \n",
    "vi)  Count the number of words using command line arguments.   \n",
    "vii) Print each word and its count.  "
   ]
  },
  {
   "cell_type": "code",
   "execution_count": null,
   "id": "47520279",
   "metadata": {},
   "outputs": [],
   "source": [
    "# use this code in cla \n",
    "### take argument as apple.txt\n",
    "#py \n",
    "\n",
    "\n",
    "import sys\n",
    "\n",
    "def word_count(file_):\n",
    "    f = open(file_,'r')\n",
    "    text = f.read()\n",
    "    \n",
    "    lst1 = text.split()\n",
    "    \n",
    "    dict = {}\n",
    "    for word in lst1:\n",
    "        if word in dict:\n",
    "            dict[word] += 1\n",
    "        else:\n",
    "            dict[word] = 1\n",
    "    return dict\n",
    "\n",
    "    f.close()\n",
    "\n",
    "    \n",
    "file = sys.argv[1]\n",
    "dict = word_count(file)\n",
    "for k,v in dict.items():\n",
    "    print(k,\":\",v)"
   ]
  },
  {
   "cell_type": "markdown",
   "id": "68eb2a5a",
   "metadata": {},
   "source": [
    "## 5. Write a Python program for finding the most frequent words in a text read from a file.\n",
    "i)   Initially open the text file in read mode.   \n",
    "ii)  Make all the letters in the document into lowercase letters and split the words in each line.    \n",
    "iii) Get the words in an order.    \n",
    "iv)  Sort the words for finding the most frequent words in the file.   \n",
    "v)   Print the most frequent words in the file.    "
   ]
  },
  {
   "cell_type": "markdown",
   "id": "de5697c9",
   "metadata": {},
   "source": [
    "# use this code in cla \n",
    "### take file name as command1.py\n",
    "\n",
    "import sys\n",
    "f = open(\"story.txt\", \"r\")\n",
    "text = f.read().split()\n",
    "\n",
    "text2 = []\n",
    "for i in text:\n",
    "    text2.append(i.lower())\n",
    "\n",
    "d = {}\n",
    "for word in text2:\n",
    "    if word in d:\n",
    "        d[word] += 1\n",
    "    else:\n",
    "        d[word] = 1\n",
    "        \n",
    "x = sorted(d.items(), key = lambda x:x[1], reverse = True)        \n",
    "#print(x)\n",
    "d1 = {}\n",
    "for i in x:\n",
    "    print(i[0], \":\", i[1])\n",
    "    \n",
    "f.close()\n"
   ]
  },
  {
   "cell_type": "markdown",
   "id": "3ca115c2",
   "metadata": {},
   "source": [
    "## 6. File Processing with Command-Line Arguments-    Scenario: You are developing a command-line utility that processes text files. Users can specify input and output file paths as command-line arguments. Your program should handle exceptions gracefully.\n",
    "i)   Design a python program that takes two command-line arguments: the input file path and the output file path. Ensure that the program checks if both arguments are provided and that the input file exists.    \n",
    "ii)  Implement error handling to deal with scenarios such as missing input files, invalid file paths, or permission issues when writing to the output file.   \n",
    "iii) If an error occurs during file processing, display a user-friendly error message, and exit the program with a non-zero exit code.    \n",
    "iv)  Write test cases that cover various scenarios, including providing valid and invalid file paths as command-line arguments.\n"
   ]
  },
  {
   "cell_type": "markdown",
   "id": "a1253235",
   "metadata": {},
   "source": [
    "# use this code in cla \n",
    "###   write in command line::    py command2.py story.txt storyyyyy.txt\n",
    "\n",
    "\n",
    "import sys\n",
    "\n",
    "def file_pro(ip_f, op_f):\n",
    "    try:\n",
    "        with open(ip_f, 'r') as file1:\n",
    "            with open(op_f, 'w') as file2:\n",
    "                for x in file1:\n",
    "                    file2.write(x)\n",
    "        file1.close()\n",
    "        file2.close()\n",
    "    except FileNotFoundError:\n",
    "        print(\"Input file is not found in the given path\")\n",
    "        sys.exit(1)\n",
    "    except PermissionError:\n",
    "        print(\"We can't write to a file\")\n",
    "        sys.exit(1)\n",
    "    except:\n",
    "        print(\"There is an error. So, check for errors.\")\n",
    "        \n",
    "if len(sys.argv) != 3:\n",
    "    print(\"enter the path for both files\")\n",
    "    #sys.exit(1)\n",
    "    #exit if there are errors\n",
    "else:\n",
    "    in_f = sys.argv[1]\n",
    "    op_f = sys.argv[2]\n",
    "    \n",
    "file_pro(in_f, op_f)\n",
    "        \n",
    "        \n",
    "        \n",
    "        \n",
    "        \n",
    "        "
   ]
  }
 ],
 "metadata": {
  "kernelspec": {
   "display_name": "Python 3 (ipykernel)",
   "language": "python",
   "name": "python3"
  },
  "language_info": {
   "codemirror_mode": {
    "name": "ipython",
    "version": 3
   },
   "file_extension": ".py",
   "mimetype": "text/x-python",
   "name": "python",
   "nbconvert_exporter": "python",
   "pygments_lexer": "ipython3",
   "version": "3.11.4"
  }
 },
 "nbformat": 4,
 "nbformat_minor": 5
}

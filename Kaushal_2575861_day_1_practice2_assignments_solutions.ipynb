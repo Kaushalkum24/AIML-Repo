{
 "cells": [
  {
   "cell_type": "markdown",
   "id": "bd6c9806",
   "metadata": {},
   "source": [
    "# Control Structures"
   ]
  },
  {
   "cell_type": "markdown",
   "id": "19e5959d",
   "metadata": {},
   "source": [
    "## 1. Write a python program to find the first N Prime numbers."
   ]
  },
  {
   "cell_type": "code",
   "execution_count": 1,
   "id": "a4fe65bd",
   "metadata": {},
   "outputs": [
    {
     "name": "stdout",
     "output_type": "stream",
     "text": [
      "Enter the number:5\n",
      "2\n",
      "3\n",
      "5\n",
      "7\n",
      "11\n"
     ]
    }
   ],
   "source": [
    "x = int(input(\"Enter the number:\" ))\n",
    "n = x*x + 1\n",
    "lst = []\n",
    "for i in range(1,n+1):\n",
    "    lst1 = [] #list for numbers having more than one factor \n",
    "    for j in range(1,i):\n",
    "        if i%j==0:\n",
    "            lst1.append(j)\n",
    "    if len(lst1)==1: #if list is having only one factor it will print number\n",
    "        lst.append(i)\n",
    "for i in range(x):\n",
    "    print(lst[i])"
   ]
  },
  {
   "cell_type": "markdown",
   "id": "08845e83",
   "metadata": {},
   "source": [
    "## Write a python code that calculates the salary of an employee. Prompt the user to enter the Basic Salary, HRA, TA, and DA. Add these components to calculate the gross minus tax as net salary."
   ]
  },
  {
   "cell_type": "code",
   "execution_count": 2,
   "id": "30451f87",
   "metadata": {},
   "outputs": [
    {
     "name": "stdout",
     "output_type": "stream",
     "text": [
      "Enter the basic salary: 20000\n",
      "Enter the hra %: 25\n",
      "Enter the ta %: 10\n",
      "Enter the da %: 10\n",
      "Enter the tax %: 20\n",
      "Basic salry is:  20000.0\n",
      "HRA is:  5000.0\n",
      "TA is:  2000.0\n",
      "DA is:  2000.0\n",
      "The gross pay is:  29000.0\n",
      "Tax as per salary:  5800.0\n",
      "The net pay after applying tax is:  23200.0\n"
     ]
    }
   ],
   "source": [
    "basic = float(input(\"Enter the basic salary: \"))\n",
    "\n",
    "hra_per = float(input(\"Enter the hra %: \"))\n",
    "hra = basic * hra_per/100\n",
    "\n",
    "ta_per = float(input(\"Enter the ta %: \"))\n",
    "ta = basic * ta_per/100\n",
    "\n",
    "da_per = float(input(\"Enter the da %: \"))\n",
    "da = basic * da_per/100\n",
    "\n",
    "tax_per = float(input(\"Enter the tax %: \"))\n",
    "\n",
    "gross = basic + hra + ta + da\n",
    "net = gross - (gross * tax_per)/100\n",
    "\n",
    "print(\"Basic salry is: \", basic)\n",
    "print(\"HRA is: \", hra)\n",
    "print(\"TA is: \", ta)\n",
    "print(\"DA is: \", da)\n",
    "print(\"The gross pay is: \", gross)\n",
    "print(\"Tax as per salary: \", (gross * tax_per)/100)\n",
    "\n",
    "print(\"The net pay after applying tax is: \", net)"
   ]
  },
  {
   "cell_type": "markdown",
   "id": "8e7c405d",
   "metadata": {},
   "source": [
    "## 3. Write a python program to search for a string in the given list."
   ]
  },
  {
   "cell_type": "code",
   "execution_count": 3,
   "id": "ed4052b0",
   "metadata": {},
   "outputs": [
    {
     "name": "stdout",
     "output_type": "stream",
     "text": [
      "Mphasis is available in the list\n"
     ]
    }
   ],
   "source": [
    "l = [1, 34, 'Mphasis', 'Python', 2.99]\n",
    "s = 'Mphasis'\n",
    "if s in l:\n",
    "    print(f'{s} is available in the list')"
   ]
  },
  {
   "cell_type": "markdown",
   "id": "5608647a",
   "metadata": {},
   "source": [
    "## 4. Write a Python function that accepts a string and calculates the number of upper-case letters and lower-case letters."
   ]
  },
  {
   "cell_type": "code",
   "execution_count": 4,
   "id": "e788a0a3",
   "metadata": {},
   "outputs": [
    {
     "name": "stdout",
     "output_type": "stream",
     "text": [
      "The number of upper-case letters are 5 and the number of lower-case letters are 10\n"
     ]
    }
   ],
   "source": [
    "def upper_lower(str):\n",
    "    lstu = []\n",
    "    lstl = []\n",
    "    for i in str:\n",
    "        if i.isupper():\n",
    "            lstu.append(i)\n",
    "        elif i.islower():\n",
    "            lstl.append(i)    \n",
    "        else:\n",
    "            pass\n",
    "    print(\"The number of upper-case letters are {} and the number of lower-case letters are {}\".format(len(lstu), len(lstl)))\n",
    "            \n",
    "s = \"Hi, I am an MphasiAN\"\n",
    "upper_lower(s)"
   ]
  },
  {
   "cell_type": "markdown",
   "id": "f56d86cb",
   "metadata": {},
   "source": [
    "## 5. Write a program to display the sum of odd numbers and even numbers that fall between 12 and 37."
   ]
  },
  {
   "cell_type": "code",
   "execution_count": 5,
   "id": "00fc48b6",
   "metadata": {},
   "outputs": [
    {
     "name": "stdout",
     "output_type": "stream",
     "text": [
      "The sum of odd numbers and even numbers between 12 and 37 are 288 and 312\n"
     ]
    }
   ],
   "source": [
    "lst = []\n",
    "for i in range(12, 37):\n",
    "    lst.append(i)\n",
    "odd = 0\n",
    "even = 0\n",
    "for i in range(25):\n",
    "    if lst[i]%2==0:\n",
    "        even = even + lst[i]\n",
    "    else:\n",
    "        odd = odd + lst[i]\n",
    "print(\"The sum of odd numbers and even numbers between 12 and 37 are {} and {}\".format(odd, even))"
   ]
  },
  {
   "cell_type": "markdown",
   "id": "78c558d2",
   "metadata": {},
   "source": [
    "## 6. Write a python program to print the table of any number."
   ]
  },
  {
   "cell_type": "code",
   "execution_count": 6,
   "id": "6bb56640",
   "metadata": {},
   "outputs": [
    {
     "name": "stdout",
     "output_type": "stream",
     "text": [
      "Enter the number for printing the table: 9\n",
      "9 X 1 = 9\n",
      "9 X 2 = 18\n",
      "9 X 3 = 27\n",
      "9 X 4 = 36\n",
      "9 X 5 = 45\n",
      "9 X 6 = 54\n",
      "9 X 7 = 63\n",
      "9 X 8 = 72\n",
      "9 X 9 = 81\n",
      "9 X 10 = 90\n"
     ]
    }
   ],
   "source": [
    "n = int(input(\"Enter the number for printing the table: \"))\n",
    "for i in range(1,11):\n",
    "    print(\"{} X {} = {}\".format(n, i, n*i))"
   ]
  },
  {
   "cell_type": "markdown",
   "id": "9dcdabb6",
   "metadata": {},
   "source": [
    "## 7. Write a python program to sum the first 10 prime numbers."
   ]
  },
  {
   "cell_type": "code",
   "execution_count": 7,
   "id": "4f0a0957",
   "metadata": {},
   "outputs": [
    {
     "name": "stdout",
     "output_type": "stream",
     "text": [
      "129\n"
     ]
    }
   ],
   "source": [
    "x = 10\n",
    "n = x*x + 1\n",
    "lst = []\n",
    "for i in range(1,n+1):\n",
    "    lst1 = [] #list for numbers having more than one factor \n",
    "    for j in range(1,i):\n",
    "        if i%j==0:\n",
    "            lst1.append(j)\n",
    "    if len(lst1)==1: #if list is having only one factor it will print number\n",
    "        lst.append(i)\n",
    "    \n",
    "s = 0\n",
    "lst2 = []\n",
    "for i in range(x):\n",
    "    lst2.append(lst[i])\n",
    "    \n",
    "#print(lst2)\n",
    "print(sum(lst2))"
   ]
  },
  {
   "cell_type": "markdown",
   "id": "33a066db",
   "metadata": {},
   "source": [
    "## 8. Write a python program to implement arithmetic operations using needed if statement."
   ]
  },
  {
   "cell_type": "code",
   "execution_count": 8,
   "id": "c4a6d564",
   "metadata": {},
   "outputs": [
    {
     "name": "stdout",
     "output_type": "stream",
     "text": [
      "Enter the first number: 9\n",
      "Enter a operator +,-,*,/ for operation: /\n",
      "Enter the second number: 2\n",
      "9.0 / 2.0 = 4.5\n"
     ]
    }
   ],
   "source": [
    "n1 = float(input(\"Enter the first number: \"))\n",
    "o = input(\"Enter a operator +,-,*,/ for operation: \")\n",
    "n2 = float(input(\"Enter the second number: \"))\n",
    "\n",
    "if o == '+':\n",
    "    print(n1, \"+\", n2, \"=\", n1+n2)\n",
    "elif o == '-':\n",
    "    print(n1, \"-\", n2, \"=\", n1-n2)\n",
    "elif o == '*':\n",
    "    print(n1, \"*\", n2, \"=\", n1*n2)\n",
    "elif o == '/':\n",
    "    print(n1, \"/\", n2, \"=\", n1/n2)\n",
    "else: \n",
    "    print(\"wrong input for operation\")\n"
   ]
  },
  {
   "cell_type": "markdown",
   "id": "4e264615",
   "metadata": {},
   "source": [
    "## 9. Write a python program to take the temperature in Celsius and convert it to a Fahrenheit."
   ]
  },
  {
   "cell_type": "code",
   "execution_count": 9,
   "id": "a0cd1cd3",
   "metadata": {},
   "outputs": [
    {
     "name": "stdout",
     "output_type": "stream",
     "text": [
      "Enter the temperature in Celsius: -40\n",
      "The temperature in Fahrenheit is: -40.0\n"
     ]
    }
   ],
   "source": [
    "c = float(input(\"Enter the temperature in Celsius: \"))\n",
    "f = (9/5)*c + 32\n",
    "print(\"The temperature in Fahrenheit is:\",f)"
   ]
  },
  {
   "cell_type": "markdown",
   "id": "b1e3583d",
   "metadata": {},
   "source": [
    "## 10. Write a python program to find a maximum and minimum number in a list without using inbuilt functions."
   ]
  },
  {
   "cell_type": "code",
   "execution_count": 10,
   "id": "2e7e091e",
   "metadata": {},
   "outputs": [
    {
     "name": "stdout",
     "output_type": "stream",
     "text": [
      "[3, 20, 98, 34, 1, 25]\n",
      "maximum number is: 98\n",
      "minimum number is: 1\n"
     ]
    }
   ],
   "source": [
    "lst = [3, 20, 98, 34, 1, 25]\n",
    "maxi = lst[0]\n",
    "for i in lst:\n",
    "    if i>maxi:\n",
    "        maxi = i\n",
    "    \n",
    "mini = lst[0]\n",
    "for j in lst:\n",
    "    if j<mini:\n",
    "        mini = j\n",
    "print(lst)\n",
    "print(\"maximum number is:\", maxi)\n",
    "print(\"minimum number is:\", mini)"
   ]
  },
  {
   "cell_type": "markdown",
   "id": "b8d040b8",
   "metadata": {},
   "source": [
    "## 11. Write a program in python to print out the number of seconds in 30-day month 30 days, 24 hours in a day, 60 minutes per hour, 60 seconds in a minute."
   ]
  },
  {
   "cell_type": "code",
   "execution_count": 11,
   "id": "95f7243a",
   "metadata": {},
   "outputs": [
    {
     "name": "stdout",
     "output_type": "stream",
     "text": [
      "1 minute = 60 seconds\n",
      "1 hour = 60 minutes\n",
      "1 day = 24 hour\n",
      "1 month = 30 days\n",
      "Number of seconds in a 30 day month is: 2592000\n"
     ]
    }
   ],
   "source": [
    "print(\"1 minute = 60 seconds\")\n",
    "print(\"1 hour = 60 minutes\")\n",
    "print(\"1 day = 24 hour\")\n",
    "print(\"1 month = 30 days\")\n",
    "s = 30*24*60*60\n",
    "print(\"Number of seconds in a 30 day month is:\",s)"
   ]
  },
  {
   "cell_type": "markdown",
   "id": "732860b2",
   "metadata": {},
   "source": [
    "## 12. Write a program in python to print out the number of seconds in a year."
   ]
  },
  {
   "cell_type": "code",
   "execution_count": 12,
   "id": "3b303a46",
   "metadata": {},
   "outputs": [
    {
     "name": "stdout",
     "output_type": "stream",
     "text": [
      "1 minute = 60 seconds\n",
      "1 hour = 60 minutes\n",
      "1 day = 24 hour\n",
      "1 year = 365 days\n",
      "Number of seconds in a year is: 31536000\n"
     ]
    }
   ],
   "source": [
    "print(\"1 minute = 60 seconds\")\n",
    "print(\"1 hour = 60 minutes\")\n",
    "print(\"1 day = 24 hour\")\n",
    "print(\"1 year = 365 days\")\n",
    "s = 365*24*60*60\n",
    "print(\"Number of seconds in a year is:\",s)"
   ]
  },
  {
   "cell_type": "markdown",
   "id": "93dfd8ee",
   "metadata": {},
   "source": [
    "## 13. A high-speed train can travel at an average speed of 150 mph, how long will it take a train travelling at this speed to travel from London to Glasgow which is 414 miles away?"
   ]
  },
  {
   "cell_type": "code",
   "execution_count": 13,
   "id": "f7e6c98c",
   "metadata": {},
   "outputs": [
    {
     "name": "stdout",
     "output_type": "stream",
     "text": [
      "Speed of the train is 150 mph\n",
      "The distance from London to Glasgow is 414 miles\n",
      "The time taken by the train will be 2.76 hours\n"
     ]
    }
   ],
   "source": [
    "print(\"Speed of the train is 150 mph\")\n",
    "print(\"The distance from London to Glasgow is 414 miles\")\n",
    "t = 414/150\n",
    "print(\"The time taken by the train will be\", t, \"hours\")"
   ]
  },
  {
   "cell_type": "markdown",
   "id": "92a08430",
   "metadata": {},
   "source": [
    "## 14. Write a python program that defines a variable called days_in_each_school_year and assign 192 to the variable. The program should then print out the total hours that you spend in school in school from year 7 to year 11, if each day you spend 6 hours in school days_each_school_year = 192"
   ]
  },
  {
   "cell_type": "code",
   "execution_count": 14,
   "id": "c0e986cb",
   "metadata": {},
   "outputs": [
    {
     "name": "stdout",
     "output_type": "stream",
     "text": [
      "Hours spent every year will be 1152 hours\n",
      "Hours spent from year 7 to 11 will be 4608 hours\n"
     ]
    }
   ],
   "source": [
    "days_in_each_school_year = 192\n",
    "hr = days_in_each_school_year * 6\n",
    "print(\"Hours spent every year will be\",hr, \"hours\")\n",
    "print(\"Hours spent from year 7 to 11 will be\",4 * hr, \"hours\")"
   ]
  },
  {
   "cell_type": "markdown",
   "id": "7a94b3be",
   "metadata": {},
   "source": [
    "## 15. If the age of the Ram, Sam and Khan are input through the keyboard, write a python program to determine the eldest and youngest of the three."
   ]
  },
  {
   "cell_type": "code",
   "execution_count": 15,
   "id": "ca5b5eec",
   "metadata": {},
   "outputs": [
    {
     "name": "stdout",
     "output_type": "stream",
     "text": [
      "Enter the age of Ram: 55\n",
      "Enter the age of Sam: 45\n",
      "Enter the age of Khan: 99\n",
      "Khan is eldest\n",
      "Sam is youngest\n"
     ]
    }
   ],
   "source": [
    "r = int(input(\"Enter the age of Ram: \"))\n",
    "s = int(input(\"Enter the age of Sam: \"))\n",
    "k = int(input(\"Enter the age of Khan: \"))\n",
    "\n",
    "if r>s and r>k:\n",
    "    print(\"Ram is eldest\")\n",
    "elif s>k:\n",
    "    print(\"Sam is eldest\")\n",
    "else:\n",
    "    print(\"Khan is eldest\")\n",
    "    \n",
    "if r<s and r<k:\n",
    "    print(\"Ram is youngest\")\n",
    "elif s<k:\n",
    "    print(\"Sam is youngest\")\n",
    "else:\n",
    "    print(\"Khan is youngest\")\n",
    "    "
   ]
  },
  {
   "cell_type": "markdown",
   "id": "2bbd3ead",
   "metadata": {},
   "source": [
    "## 16. Write a python program to rotate a list by right n times with and without slicing technique."
   ]
  },
  {
   "cell_type": "code",
   "execution_count": 16,
   "id": "2ea620ac",
   "metadata": {},
   "outputs": [
    {
     "name": "stdout",
     "output_type": "stream",
     "text": [
      "Enter the number of times to rotate: 6\n",
      "with slicing: [5, 1, 2, 3, 4]\n",
      "without slicing: [5, 1, 2, 3, 4]\n"
     ]
    }
   ],
   "source": [
    "def with_slice(n):\n",
    "#with slicing\n",
    "    lst1 = lst\n",
    "    for i in range(n):\n",
    "        lst1 = lst1[::-1][:1] + lst1[:-1]\n",
    "    print(\"with slicing:\", lst1)\n",
    "\n",
    "def without_slice(n):\n",
    "#without slicing\n",
    "    if n>5:\n",
    "        n = n%5\n",
    "    lst2 = []\n",
    "    for i in range(len(lst)-n,len(lst)):\n",
    "        lst2.append(lst[i])\n",
    "    for i in range(len(lst)-n):\n",
    "        lst2.append(lst[i])\n",
    "    print(\"without slicing:\", lst2)\n",
    "    \n",
    "lst = [1, 2, 3, 4, 5]    \n",
    "n = int(input(\"Enter the number of times to rotate: \"))\n",
    "with_slice(n)\n",
    "without_slice(n)"
   ]
  },
  {
   "cell_type": "markdown",
   "id": "feb8ce01",
   "metadata": {},
   "source": [
    "# 17. Python Program to print the patterns given below:\n",
    "i)   \n",
    "1   \n",
    "1 1  \n",
    "1 2 1   \n",
    "1 3 3 1   \n",
    "1 4 6 4 1   \n",
    "1 5 10 10 5 1   \n",
    "1 6 15 20 15 6 1   \n"
   ]
  },
  {
   "cell_type": "code",
   "execution_count": 17,
   "id": "3ddb6e96",
   "metadata": {},
   "outputs": [
    {
     "name": "stdout",
     "output_type": "stream",
     "text": [
      "1 \n",
      "1 1 \n",
      "1 2 1 \n",
      "1 3 3 1 \n",
      "1 4 6 4 1 \n",
      "1 5 10 10 5 1 \n",
      "1 6 15 20 15 6 1 \n"
     ]
    }
   ],
   "source": [
    "def fact(num):\n",
    "    if num == 1 or num == 0:\n",
    "        return 1\n",
    "    else:\n",
    "        return (num * fact(num-1))\n",
    "    \n",
    "def nCr(n,r):\n",
    "    x = fact(n)/(fact(n-r) * fact(r))\n",
    "    return int(x)\n",
    "    \n",
    "term = 7\n",
    "for i in range(7):\n",
    "    for j in range(i+1):\n",
    "        print(nCr(i,j), end=\" \")\n",
    "    print()\n",
    "\n"
   ]
  },
  {
   "cell_type": "markdown",
   "id": "30b785ff",
   "metadata": {},
   "source": [
    "# 17. Python Program to print the patterns given below:\n",
    "ii)     \n",
    "a   \n",
    "a a   \n",
    "a a a   \n",
    "a a a a   \n",
    "a a a a a   \n"
   ]
  },
  {
   "cell_type": "code",
   "execution_count": 18,
   "id": "e24b7556",
   "metadata": {},
   "outputs": [
    {
     "name": "stdout",
     "output_type": "stream",
     "text": [
      "a \n",
      "a a \n",
      "a a a \n",
      "a a a a \n",
      "a a a a a \n"
     ]
    }
   ],
   "source": [
    "for i in range(5):\n",
    "    for j in range(i+1):\n",
    "        print(\"a\", end = \" \")\n",
    "    print()"
   ]
  },
  {
   "cell_type": "markdown",
   "id": "2d924e57",
   "metadata": {},
   "source": [
    "# 17. Python Program to print the patterns given below:\n",
    "iii)    \n",
    "-------a    \n",
    "------a a  \n",
    "-----a a a   \n",
    "----a a a a   \n",
    "---a a a a a   \n",
    "--a a a a a a     \n",
    "-a a a a a a a  "
   ]
  },
  {
   "cell_type": "code",
   "execution_count": 19,
   "id": "5f65f0f6",
   "metadata": {},
   "outputs": [
    {
     "name": "stdout",
     "output_type": "stream",
     "text": [
      "        a \n",
      "       a a \n",
      "      a a a \n",
      "     a a a a \n",
      "    a a a a a \n",
      "   a a a a a a \n",
      "  a a a a a a a \n"
     ]
    }
   ],
   "source": [
    "for i in range(7):\n",
    "    print(\" \"*(7-i), end =\" \")\n",
    "    for j in range(i+1):\n",
    "        print(\"a\", end = \" \")\n",
    "    print()"
   ]
  },
  {
   "cell_type": "markdown",
   "id": "f32dfdb6",
   "metadata": {},
   "source": [
    "# 17. Python Program to print the patterns given below:\n",
    "iv)   \n",
    "P   \n",
    "Py   \n",
    "Pyt   \n",
    "Pyth   \n",
    "Pytho   \n",
    "Python   "
   ]
  },
  {
   "cell_type": "code",
   "execution_count": 20,
   "id": "a473e7d4",
   "metadata": {},
   "outputs": [
    {
     "name": "stdout",
     "output_type": "stream",
     "text": [
      "P\n",
      "Py\n",
      "Pyt\n",
      "Pyth\n",
      "Pytho\n",
      "Python\n"
     ]
    }
   ],
   "source": [
    "for i in range(6):\n",
    "    print(\"Python\"[:i+1])"
   ]
  }
 ],
 "metadata": {
  "kernelspec": {
   "display_name": "Python 3 (ipykernel)",
   "language": "python",
   "name": "python3"
  },
  "language_info": {
   "codemirror_mode": {
    "name": "ipython",
    "version": 3
   },
   "file_extension": ".py",
   "mimetype": "text/x-python",
   "name": "python",
   "nbconvert_exporter": "python",
   "pygments_lexer": "ipython3",
   "version": "3.11.4"
  }
 },
 "nbformat": 4,
 "nbformat_minor": 5
}

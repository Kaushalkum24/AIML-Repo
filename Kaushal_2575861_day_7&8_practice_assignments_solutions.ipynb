{
 "cells": [
  {
   "cell_type": "markdown",
   "id": "2b9e4a00",
   "metadata": {},
   "source": [
    "# Implementation of data structures in Python"
   ]
  },
  {
   "cell_type": "markdown",
   "id": "f1205d84",
   "metadata": {},
   "source": [
    "### 1. Write a Python program to find a target values in a list using linear search with following steps:  \n",
    "a) Initialize the list to store the input elements.    \n",
    "b) Initialize found = False.   \n",
    "c) Enter the item to be searched (match_item).   \n",
    "d) For each element in the list----- if match_item=value: return match_item's position.    \n",
    "e) If the match_item is not in the list, display an error message that the item is not found in the list.   "
   ]
  },
  {
   "cell_type": "code",
   "execution_count": 2,
   "id": "3f0e46d3",
   "metadata": {},
   "outputs": [
    {
     "name": "stdout",
     "output_type": "stream",
     "text": [
      "Enter the elements by giving space\n",
      "4 6 8 2\n",
      "Enter the element to be found: 9\n",
      "Element not found in the list\n"
     ]
    }
   ],
   "source": [
    "def linear_search(lst, match_item):\n",
    "    i = 0\n",
    "    found = False\n",
    "    while i<len(lst) and found == False:\n",
    "        if lst[i]==match_item:\n",
    "            print(f\"Element found at postion: {i+1}\")\n",
    "            found = True\n",
    "            break\n",
    "        i += 1\n",
    "    if found == False:\n",
    "        print(\"Element not found in the list\")\n",
    "\n",
    "\n",
    "\n",
    "print(\"Enter the elements by giving space\")\n",
    "lst = list(map(int, input().split()))\n",
    "\n",
    "n = int(input(\"Enter the element to be found: \"))\n",
    "linear_search(lst,n)"
   ]
  },
  {
   "cell_type": "code",
   "execution_count": null,
   "id": "3846df31",
   "metadata": {},
   "outputs": [],
   "source": []
  },
  {
   "cell_type": "markdown",
   "id": "5a06e79c",
   "metadata": {},
   "source": [
    "### 2. Write a Python program to implement binary search to find the target values from the list:   \n",
    "a) Create a separate function to do binary search.   \n",
    "b) Get the number of inputs from the user.   \n",
    "c) Store the inputs individually in the list.    \n",
    "d) In binary search function at first sort the list in order to start the search from middle of the list.   \n",
    "e) Compare the middle element to right and left elements to search target element.   \n",
    "f) If greater, move to right of list or else move to another side of the list.   \n",
    "g) Print the result along with the position of the element."
   ]
  },
  {
   "cell_type": "code",
   "execution_count": 6,
   "id": "84c80919",
   "metadata": {},
   "outputs": [
    {
     "name": "stdout",
     "output_type": "stream",
     "text": [
      "Enter the elements by giving space\n",
      "4 5 6 2 78 5\n",
      "sorted list: [2, 4, 5, 5, 6, 78]\n",
      "Enter the element you want to find: 5\n",
      "Element 5 Found at Position 3\n"
     ]
    }
   ],
   "source": [
    "def bin_search(lst, x):\n",
    "    \n",
    "    first=0\n",
    "    last=len(lst)-1\n",
    "    found=False\n",
    "    while(first<=last and not found):\n",
    "        mid=(first+last)//2\n",
    "        if lst[mid]==x:\n",
    "            found=True\n",
    "        \n",
    "        else:\n",
    "            if x<lst[mid]:\n",
    "                last=mid-1\n",
    "            else:\n",
    "                first=mid+1\n",
    "                \n",
    "    if found:\n",
    "        print(f'Element {x} Found at Position {mid+1}')\n",
    "    else:\n",
    "        print(f'Element {x} is not found in the list')\n",
    "    \n",
    "\n",
    "print(\"Enter the elements by giving space\")\n",
    "#list to be inserted     \n",
    "lst = list(map(int, input().split()))\n",
    "\n",
    "#list to be sorted first\n",
    "lst.sort()\n",
    "print(\"sorted list:\",lst)\n",
    "\n",
    "n = int(input(\"Enter the element you want to find: \"))\n",
    "#bin_search(lst, element)\n",
    "bin_search(lst,n)"
   ]
  },
  {
   "cell_type": "code",
   "execution_count": null,
   "id": "d257ae1a",
   "metadata": {},
   "outputs": [],
   "source": []
  },
  {
   "cell_type": "code",
   "execution_count": 3,
   "id": "d2aaecca",
   "metadata": {},
   "outputs": [],
   "source": []
  },
  {
   "cell_type": "markdown",
   "id": "f9e0c09a",
   "metadata": {},
   "source": [
    "### 6. Write a Python script to perform the following operations on a singly linked list\n",
    "a) Create a list   \n",
    "b) Find the smallest element from the list    \n",
    "c) Insert an element if it is not a duplicate element   \n",
    "d) Display the elements in reverse order\n"
   ]
  },
  {
   "cell_type": "code",
   "execution_count": null,
   "id": "79691836",
   "metadata": {},
   "outputs": [],
   "source": []
  },
  {
   "cell_type": "code",
   "execution_count": null,
   "id": "4430ebd2",
   "metadata": {},
   "outputs": [],
   "source": []
  },
  {
   "cell_type": "code",
   "execution_count": 3,
   "id": "ff257f38",
   "metadata": {},
   "outputs": [],
   "source": [
    "class Node:\n",
    "    #initializin the node class and taking the data inside node\n",
    "    def __init__(self, data):\n",
    "        self.data = data\n",
    "        self.next = None\n",
    "\n",
    "class LinkedList:\n",
    "    #create the class for single linked list\n",
    "    def __init__(self):\n",
    "        self.head = None\n",
    "\n",
    "    #inserting the value in linked list\n",
    "    def insert(self, data):\n",
    "        if self.head is None:\n",
    "            self.head = Node(data)\n",
    "            return\n",
    "\n",
    "        current = self.head\n",
    "        while current.next is not None:\n",
    "            if current.data == data:\n",
    "                return\n",
    "            current = current.next\n",
    "\n",
    "        if current.data == data:\n",
    "            return\n",
    "\n",
    "        current.next = Node(data)\n",
    "\n",
    "    def find_smallest(self):\n",
    "        if self.head is None:\n",
    "            return None\n",
    "\n",
    "        smallest = self.head.data\n",
    "        current = self.head.next\n",
    "        while current is not None:\n",
    "            if current.data < smallest:\n",
    "                smallest = current.data\n",
    "            current = current.next\n",
    "\n",
    "        return smallest\n",
    "\n",
    "    def reverse(self):\n",
    "        prev = None\n",
    "        current = self.head\n",
    "        while current is not None:\n",
    "            next_node = current.next\n",
    "            current.next = prev\n",
    "            prev = current\n",
    "            current = next_node\n",
    "\n",
    "        self.head = prev\n",
    "\n",
    "    def display(self):\n",
    "        if self.head is None:\n",
    "            print(\"List is empty\")\n",
    "            return\n",
    "\n",
    "        current = self.head\n",
    "        while current is not None:\n",
    "            print(current.data, end=\" \")\n",
    "            current = current.next"
   ]
  },
  {
   "cell_type": "code",
   "execution_count": 4,
   "id": "e491624b",
   "metadata": {},
   "outputs": [
    {
     "name": "stdout",
     "output_type": "stream",
     "text": [
      "Smallest element: 1\n",
      "Elements in reverse order:\n",
      "1 7 3 5 "
     ]
    }
   ],
   "source": [
    "linked_list = LinkedList()\n",
    "linked_list.insert(5)\n",
    "linked_list.insert(3)\n",
    "linked_list.insert(7)\n",
    "linked_list.insert(1)\n",
    "\n",
    "# Find the smallest element from the list\n",
    "smallest_element = linked_list.find_smallest()\n",
    "print(f\"Smallest element: {smallest_element}\")\n",
    "\n",
    "# Insert an element if it is not a duplicate element\n",
    "linked_list.insert(3)\n",
    "\n",
    "# Display the elements in reverse order\n",
    "linked_list.reverse()\n",
    "print(\"Elements in reverse order:\")\n",
    "linked_list.display()"
   ]
  },
  {
   "cell_type": "code",
   "execution_count": null,
   "id": "ba79fc88",
   "metadata": {},
   "outputs": [],
   "source": []
  },
  {
   "cell_type": "code",
   "execution_count": null,
   "id": "278d22b8",
   "metadata": {},
   "outputs": [],
   "source": []
  },
  {
   "cell_type": "markdown",
   "id": "197705c5",
   "metadata": {},
   "source": [
    "### 7. Write a python program to implement the various operations for Stack ADT i.) Push ii) Pop iii.) Display."
   ]
  },
  {
   "cell_type": "code",
   "execution_count": 19,
   "id": "21736dfa",
   "metadata": {},
   "outputs": [],
   "source": [
    "class Stack:\n",
    "    \n",
    "    def __init__(self):\n",
    "        self.__stack=[]\n",
    "        \n",
    "    def is_empty(self):\n",
    "        if len(self.__stack)==0:\n",
    "            return True\n",
    "        else:\n",
    "            return False\n",
    "        \n",
    "    def size(self):\n",
    "        return len(self.__stack)\n",
    "        \n",
    "    def push(self,item):\n",
    "        self.__stack.append(item)\n",
    "        \n",
    "    def pop(self):\n",
    "        if len(self.__stack)==0:\n",
    "            raise Exception('Stack is empty!!- no need to call pop function ')\n",
    "            \n",
    "        else:\n",
    "            return self.__stack.pop()\n",
    "            \n",
    "    def display(self):\n",
    "        print(\"displaying stack:\", self.__stack)\n",
    "    def peek(self):\n",
    "        if (self.is_empty()):\n",
    "            print(\"Empty stack, so can't printout\")\n",
    "        else:\n",
    "            return self.__stack[len(self.__stack)-1]\n",
    "        \n",
    "s=Stack()\n",
    "for i in range(1,11):\n",
    "    s.push(i)"
   ]
  },
  {
   "cell_type": "code",
   "execution_count": 20,
   "id": "70828eea",
   "metadata": {},
   "outputs": [
    {
     "name": "stdout",
     "output_type": "stream",
     "text": [
      "displaying stack: [1, 2, 3, 4, 5, 6, 7, 8, 9, 10]\n",
      "one element added=55\n",
      "top or peek element is: 55\n",
      "element to be removed 55\n",
      "displaying stack: [1, 2, 3, 4, 5, 6, 7, 8, 9, 10]\n"
     ]
    }
   ],
   "source": [
    "s.display()\n",
    "print(\"one element added=55\")\n",
    "s.push(55)\n",
    "print(\"top or peek element is:\",s.peek())\n",
    "print(\"element to be removed\", s.pop())\n",
    "s.display()"
   ]
  },
  {
   "cell_type": "markdown",
   "id": "d2c73778",
   "metadata": {},
   "source": [
    "### 8. Write a python script to implement the various operations for Queue ADT i.) Insert ii.) Delete iii) Display.\n"
   ]
  },
  {
   "cell_type": "code",
   "execution_count": 32,
   "id": "a220313d",
   "metadata": {},
   "outputs": [],
   "source": [
    "class queue:\n",
    "    def __init__(self):\n",
    "        self.__queue = []\n",
    "    \n",
    "    def is_empty(self):\n",
    "        if len(self.__queue)==0:\n",
    "            return True\n",
    "        else:\n",
    "            return False\n",
    "    \n",
    "    def peek(self):\n",
    "        print(self.__queue)\n",
    "        if (self.is_empty()):\n",
    "            print('Queue is Empty, not able to show the peek element')\n",
    "        else:\n",
    "            return self.__queue[len(self.__queue)-1]\n",
    "        \n",
    "    def display(self):\n",
    "        print(\"Queue elements are:\",self.__queue)\n",
    "        \n",
    "    def enqueue(self,item):\n",
    "        self.__queue.append(item)\n",
    "        \n",
    "    def dequeue(self):\n",
    "        if len(self.__queue)==0:\n",
    "            print('Stack is empty!!- no need to call pop function ')\n",
    "            \n",
    "        else:\n",
    "            return self.__queue.pop(0)\n",
    "        \n",
    "q=queue()\n",
    "for i in range(1,11):\n",
    "    q.enqueue(i)"
   ]
  },
  {
   "cell_type": "code",
   "execution_count": 33,
   "id": "8bc6a7fd",
   "metadata": {},
   "outputs": [
    {
     "name": "stdout",
     "output_type": "stream",
     "text": [
      "inserting an element:5 to enqueue\n",
      "Queue elements are: [1, 2, 3, 4, 5, 6, 7, 8, 9, 10, 5]\n",
      "deleting first element from queue\n",
      "Queue elements are: [2, 3, 4, 5, 6, 7, 8, 9, 10, 5]\n"
     ]
    }
   ],
   "source": [
    "#for inserting \n",
    "print(\"inserting an element:5 to enqueue\")\n",
    "q.enqueue(5)\n",
    "q.display()\n",
    "\n",
    "#for deleting\n",
    "print(\"deleting first element from queue\")\n",
    "q.dequeue()\n",
    "q.display()"
   ]
  },
  {
   "cell_type": "markdown",
   "id": "38a0a98d",
   "metadata": {},
   "source": [
    "### 9. Write a program in python to convert the following infix expression to its postfix form using push and pop operations of a Stack  \n",
    "a) A/B^C+D*E-F*G  \n",
    "b) (B^2-4*A*C)^(1/2)(100)"
   ]
  },
  {
   "cell_type": "code",
   "execution_count": 2,
   "id": "faf627d5",
   "metadata": {},
   "outputs": [
    {
     "name": "stdout",
     "output_type": "stream",
     "text": [
      "ABC^/DE*+FG*\n"
     ]
    }
   ],
   "source": [
    "\n",
    "\n",
    "def push(lst,i):\n",
    "    return lst.append(i)\n",
    "#A/B^C+D*E-F*G  \n",
    "d = {\"+\":1, \"-\":1, \"*\":2, \"/\":2, \"^\":3}\n",
    "exp = \"A/B^C+D*E-F*G\"\n",
    "exp2 = \"\"\n",
    "stack = []\n",
    "\n",
    "for i in exp:\n",
    "    if i.isalnum():\n",
    "        exp2 = exp2 + i\n",
    "    else:\n",
    "        push(stack,i)\n",
    "        n = len(stack)\n",
    "        if n>1:\n",
    "            if d[stack[-2]] >= d[stack[-1]]:\n",
    "                for j in range(len(stack)-1):\n",
    "                    exp2 = exp2 + stack[len(stack) - j - 2]\n",
    "                stack = []\n",
    "                push(stack,i)\n",
    "\n",
    "if len(stack)>0:\n",
    "    for i in stack:\n",
    "        x = stack.pop()\n",
    "        exp2 = exp2 + x\n",
    "\n",
    "    \n",
    "    \n",
    "print(exp2)"
   ]
  },
  {
   "cell_type": "code",
   "execution_count": null,
   "id": "aaa1dfad",
   "metadata": {},
   "outputs": [],
   "source": [
    "#(B^2-4*A*C)^(D/E)(F)"
   ]
  },
  {
   "cell_type": "code",
   "execution_count": 1,
   "id": "0f8716a0",
   "metadata": {},
   "outputs": [
    {
     "ename": "KeyError",
     "evalue": "'('",
     "output_type": "error",
     "traceback": [
      "\u001b[1;31m---------------------------------------------------------------------------\u001b[0m",
      "\u001b[1;31mKeyError\u001b[0m                                  Traceback (most recent call last)",
      "Cell \u001b[1;32mIn[1], line 27\u001b[0m\n\u001b[0;32m     25\u001b[0m n \u001b[38;5;241m=\u001b[39m \u001b[38;5;28mlen\u001b[39m(stack)\n\u001b[0;32m     26\u001b[0m \u001b[38;5;28;01mif\u001b[39;00m n\u001b[38;5;241m>\u001b[39m\u001b[38;5;241m1\u001b[39m:\n\u001b[1;32m---> 27\u001b[0m     \u001b[38;5;28;01mif\u001b[39;00m d[stack[\u001b[38;5;241m-\u001b[39m\u001b[38;5;241m2\u001b[39m]] \u001b[38;5;241m>\u001b[39m\u001b[38;5;241m=\u001b[39m d[stack[\u001b[38;5;241m-\u001b[39m\u001b[38;5;241m1\u001b[39m]]:\n\u001b[0;32m     28\u001b[0m         \u001b[38;5;28;01mfor\u001b[39;00m j \u001b[38;5;129;01min\u001b[39;00m \u001b[38;5;28mrange\u001b[39m(\u001b[38;5;28mlen\u001b[39m(stack)\u001b[38;5;241m-\u001b[39m\u001b[38;5;241m1\u001b[39m):\n\u001b[0;32m     29\u001b[0m             exp2 \u001b[38;5;241m=\u001b[39m exp2 \u001b[38;5;241m+\u001b[39m stack[\u001b[38;5;28mlen\u001b[39m(stack) \u001b[38;5;241m-\u001b[39m j \u001b[38;5;241m-\u001b[39m \u001b[38;5;241m2\u001b[39m]\n",
      "\u001b[1;31mKeyError\u001b[0m: '('"
     ]
    }
   ],
   "source": [
    "\n",
    "\n",
    "def push(lst,i):\n",
    "    return lst.append(i)\n",
    "#A/B^C+D*E-F*G  \n",
    "d = {\"+\":1, \"-\":1, \"*\":2, \"/\":2, \"^\":3}\n",
    "exp = \"(A+B)–C*(D/E))+F\"\n",
    "exp2 = \"\"\n",
    "stack = []\n",
    "\n",
    "for i in exp:\n",
    "    if i.isalnum():\n",
    "        exp2 = exp2 + i\n",
    "    \n",
    "    elif i==\"(\":\n",
    "        stack.append(i)\n",
    "    elif i==\")\":\n",
    "        while stack[-1] != \"(\":\n",
    "            e = stack.pop()\n",
    "            exp2.append(e)\n",
    "        stack.pop()\n",
    "    \n",
    "    \n",
    "    \n",
    "    else:\n",
    "        push(stack,i)\n",
    "        n = len(stack)\n",
    "        if n>1:\n",
    "            if d[stack[-2]] >= d[stack[-1]]:\n",
    "                for j in range(len(stack)-1):\n",
    "                    exp2 = exp2 + stack[len(stack) - j - 2]\n",
    "                stack = []\n",
    "                push(stack,i)\n",
    "\n",
    "if len(stack)>0:\n",
    "    for i in stack:\n",
    "        x = stack.pop()\n",
    "        exp2 = exp2 + x\n",
    "\n",
    "    \n",
    "    \n",
    "print(exp2)"
   ]
  },
  {
   "cell_type": "code",
   "execution_count": 5,
   "id": "32ad2dff",
   "metadata": {},
   "outputs": [
    {
     "name": "stdout",
     "output_type": "stream",
     "text": [
      "0\n",
      "1\n",
      "2\n",
      "3\n",
      "4\n",
      "16\n"
     ]
    }
   ],
   "source": [
    "for i in range(5):\n",
    "    print(i)\n",
    "    \n",
    "print(i**2)"
   ]
  },
  {
   "cell_type": "code",
   "execution_count": null,
   "id": "d093e1a6",
   "metadata": {},
   "outputs": [],
   "source": []
  },
  {
   "cell_type": "code",
   "execution_count": null,
   "id": "d59035d0",
   "metadata": {},
   "outputs": [],
   "source": []
  },
  {
   "cell_type": "markdown",
   "id": "314a159f",
   "metadata": {},
   "source": [
    "### 3. Write a Python program for sorting a list of elements using selection sort algorithm:\n",
    "a) Assume two lists: Sorted list- Initially empty and Unsorted List-Given input list.    \n",
    "b) In the first iteration, find the smallest element in the unsorted list and place it in the sorted list.   \n",
    "c) In the second iteration, find the smallest element in the unsorted list and place it in the correct position by comparing with the element in the sorted list.   \n",
    "d) In the third iteration, again find the smallest element in the unsorted list and place it in the correct position by comparing with the elements in the sorted list.    \n",
    "e) This process continues till the unsorted list becomes empty.  \n",
    "f.) Display the sorted list.\n"
   ]
  },
  {
   "cell_type": "code",
   "execution_count": 80,
   "id": "9ba9844b",
   "metadata": {},
   "outputs": [
    {
     "name": "stdout",
     "output_type": "stream",
     "text": [
      "[6, 12, 23, 45, 55]\n"
     ]
    }
   ],
   "source": [
    "#unsorted list\n",
    "lst = [23, 45, 12, 55, 6]\n",
    "\n",
    "for i in range(len(lst)):\n",
    "    temp = lst[i]\n",
    "    for j in range(i,len(lst)):\n",
    "        if temp>lst[j]:\n",
    "            temp = lst[j]\n",
    "            j1 = j\n",
    "        \n",
    "            \n",
    "    lst[i],lst[j1] = lst[j1],lst[i]\n",
    "    \n",
    "    #lst1.append()\n",
    "print(lst)"
   ]
  },
  {
   "cell_type": "code",
   "execution_count": null,
   "id": "9e6c8795",
   "metadata": {},
   "outputs": [],
   "source": []
  },
  {
   "cell_type": "markdown",
   "id": "738ade3f",
   "metadata": {},
   "source": [
    "### 4. Write a Python program for sorting a list of elements using insertion sort algorithm:\n",
    "a) Assume two lists: Sorted list- Initially empty and Unsorted List-Given input list.    \n",
    "b) In the first iteration, take the first element in the unsorted list and insert it in Sorted list.   \n",
    "c) In the second iteration, take the second element in the given list and compare with the element in the sorted sub list and place it in the correct position.   \n",
    "d) In the third iteration, take the third element in the given list and compare elements in the sorted sub list and place the elements in the correct position.   \n",
    "e) This process continues until the last element is inserted in the sorted sub list.   \n",
    "f) Display the sorted elements."
   ]
  },
  {
   "cell_type": "code",
   "execution_count": 24,
   "id": "a3af44f9",
   "metadata": {},
   "outputs": [
    {
     "name": "stdout",
     "output_type": "stream",
     "text": [
      "[1, 3, 6, 15, 23, 45, 233]\n"
     ]
    }
   ],
   "source": [
    "def insertion_sort(lst):\n",
    "    n=len(lst)\n",
    "    \n",
    "    #using another list for which will be sorted by taking elements from 1st list\n",
    "    lst1 = []\n",
    "\n",
    "    \n",
    "    for i in range(0,len(lst)):\n",
    "        if i!=0:\n",
    "            temp = lst[i]\n",
    "            lst1.append(temp)\n",
    "            j = i-1\n",
    "            while lst1[j]>temp and j>=0:\n",
    "                lst1[j],lst1[j+1] = lst1[j+1],lst1[j]\n",
    "                temp = lst1[j]\n",
    "                j = j-1\n",
    "        else:\n",
    "            lst1.append(lst[i])\n",
    "    \n",
    "    print(lst1)\n",
    "                \n",
    "insertion_sort([23,1,15,3,233,45,6])"
   ]
  },
  {
   "cell_type": "markdown",
   "id": "7cba3b7c",
   "metadata": {},
   "source": [
    "### 5. Write a Python program that performs merge sort on a list of numbers:\n",
    "a) Divide: If the given array has zero or one element, return.     \n",
    " Otherwise  \n",
    "ii) Divide the input list in to two halves each containing half of the elements. i.e. left half and right half.   \n",
    "b) Conquer: Recursively sort the two lists (left half and right half).   \n",
    "i) Call the merge sort on left half.  \n",
    "ii)Call the merge sort on right half.    \n",
    "C) Combine: Combine the elements back in the input list by merging the two sorted lists into a sorted sequence."
   ]
  },
  {
   "cell_type": "code",
   "execution_count": 26,
   "id": "d0390532",
   "metadata": {},
   "outputs": [
    {
     "name": "stdout",
     "output_type": "stream",
     "text": [
      "5 6 3 21 8 23\n",
      "original list: [5, 6, 3, 21, 8, 23]\n",
      "Breaking list:  [5, 6, 3, 21, 8, 23]\n",
      "Breaking list:  [5, 6, 3]\n",
      "Breaking list:  [5]\n",
      "Breaking list:  [6, 3]\n",
      "Breaking list:  [6]\n",
      "Breaking list:  [3]\n",
      "Merging: [3, 6]\n",
      "Merging: [3, 5, 6]\n",
      "Breaking list:  [21, 8, 23]\n",
      "Breaking list:  [21]\n",
      "Breaking list:  [8, 23]\n",
      "Breaking list:  [8]\n",
      "Breaking list:  [23]\n",
      "Merging: [8, 23]\n",
      "Merging: [8, 21, 23]\n",
      "Merging: [3, 5, 6, 8, 21, 23]\n",
      "[3, 5, 6, 8, 21, 23]\n"
     ]
    }
   ],
   "source": [
    "def merge_sort(lst):\n",
    "    print(\"Breaking list: \",lst)\n",
    "    if len(lst)>1:\n",
    "        m = len(lst)//2\n",
    "        left = lst[:m]\n",
    "        right = lst[m:]\n",
    "        merge_sort(left)\n",
    "        merge_sort(right)\n",
    "        i = 0\n",
    "        j = 0\n",
    "        k = 0\n",
    "        \n",
    "        while i<len(left) and j<len(right):\n",
    "            if left[i]<right[j]:\n",
    "                lst[k]=left[i]\n",
    "                i=i+1\n",
    "            else:\n",
    "                lst[k]=right[j]\n",
    "                j=j+1\n",
    "            k=k+1\n",
    "        while i<len(left):\n",
    "            lst[k]=left[i]\n",
    "            i=i+1\n",
    "            k=k+1\n",
    "        while j<len(right):\n",
    "            lst[k]=right[j]\n",
    "            j=j+1\n",
    "            k=k+1\n",
    "        print(\"Merging:\", lst)\n",
    "          \n",
    "    \n",
    "lst = list(map(int, input().split()))\n",
    "print(\"original list:\",lst)\n",
    "merge_sort(lst)\n",
    "print(lst)"
   ]
  },
  {
   "cell_type": "code",
   "execution_count": null,
   "id": "e6048338",
   "metadata": {},
   "outputs": [],
   "source": []
  }
 ],
 "metadata": {
  "kernelspec": {
   "display_name": "Python 3 (ipykernel)",
   "language": "python",
   "name": "python3"
  },
  "language_info": {
   "codemirror_mode": {
    "name": "ipython",
    "version": 3
   },
   "file_extension": ".py",
   "mimetype": "text/x-python",
   "name": "python",
   "nbconvert_exporter": "python",
   "pygments_lexer": "ipython3",
   "version": "3.11.4"
  }
 },
 "nbformat": 4,
 "nbformat_minor": 5
}

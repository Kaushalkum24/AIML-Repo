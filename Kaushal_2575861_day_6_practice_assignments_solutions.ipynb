{
 "cells": [
  {
   "cell_type": "markdown",
   "id": "9fbb8a34",
   "metadata": {},
   "source": [
    "# Object Oriented Programming in Python:"
   ]
  },
  {
   "cell_type": "markdown",
   "id": "afc43e35",
   "metadata": {},
   "source": [
    "### 1. Write a python program to create a base class \"Shape\" with methods to calculate area and perimeter. Then, create derived classes \"Circle\" and \"Rectangle\" that inherit from the base class and calculate their respective areas and perimeters. Demonstrate their usage in a program.\n"
   ]
  },
  {
   "cell_type": "code",
   "execution_count": 20,
   "id": "0bc014dd",
   "metadata": {},
   "outputs": [
    {
     "name": "stdout",
     "output_type": "stream",
     "text": [
      "area of circle is: 78.5\n",
      "perimeter is: 31.400000000000002\n",
      "area of rectangle: 35\n",
      "perimeter of rectangle: 24\n"
     ]
    }
   ],
   "source": [
    "\n",
    "#creating class shape\n",
    "class Shape():\n",
    "    def area():\n",
    "        print(\"area is: \")\n",
    "    def perimeter():\n",
    "        print(\"perimeter is: \")\n",
    "    \n",
    "class Circle(Shape):\n",
    "    def __init__(self, radius):\n",
    "        self.r = radius\n",
    "    def area(self):\n",
    "        ar = 3.14*self.r*self.r\n",
    "        print(\"area of circle is:\", ar)\n",
    "    def perimeter(self):\n",
    "        peri = 2 * 3.14 *self.r\n",
    "        print(\"perimeter is:\", peri)\n",
    "        \n",
    "class Rectangle(Shape):\n",
    "    def __init__ (self, length, breadth):\n",
    "        self.length = length\n",
    "        self.breadth = breadth\n",
    "    def area(self):\n",
    "        ar = self.length * self.breadth\n",
    "        print(\"area of rectangle:\", ar)\n",
    "    def perimeter(self):\n",
    "        peri = 2* self.length + 2 * self.breadth\n",
    "        print(\"perimeter of rectangle:\", peri)\n",
    "\n",
    "\n",
    "c = Circle(5)\n",
    "c.area()\n",
    "c.perimeter()\n",
    "\n",
    "r = Rectangle(5,7)\n",
    "r.area()\n",
    "r.perimeter()"
   ]
  },
  {
   "cell_type": "code",
   "execution_count": null,
   "id": "30fefba7",
   "metadata": {},
   "outputs": [],
   "source": []
  },
  {
   "cell_type": "markdown",
   "id": "2ef9ebcb",
   "metadata": {},
   "source": [
    "### You are developing an online quiz application where users can take quizzes on various topics and receive scores.    \n",
    "1. Create a class for quizzes and questions.    \n",
    "2. Implement a scoring system that calculated the user's score on a quiz.  \n",
    "3. How would you store and retrieve user progress, including quiz history and scores?\n"
   ]
  },
  {
   "cell_type": "code",
   "execution_count": 79,
   "id": "cf4bde59",
   "metadata": {},
   "outputs": [
    {
     "name": "stdout",
     "output_type": "stream",
     "text": [
      "What is the capital of Odisha?\n",
      "Options:\n",
      "(1) Bhubaneswar (2)Sambalpur (3)Cuttack (4)Deogarh\n",
      "Enter 1 or 2 or 3 or 4 from the above options: 4\n",
      "you lose the game, you score is 0\n"
     ]
    }
   ],
   "source": [
    "class Quizzes():\n",
    "    def init(self):\n",
    "        print(1)\n",
    "    \n",
    "    def Que1(self):\n",
    "        print(\"What is the capital of Odisha?\")\n",
    "        print(\"Options:\")\n",
    "        print(\"(1) Bhubaneswar (2)Sambalpur (3)Cuttack (4)Deogarh\")\n",
    "        \n",
    "    def Que2(self):\n",
    "        print(\"What is the Capital of Indian Union Territory Ladakh?\")\n",
    "        print(\"Options:\")\n",
    "        print(\"(1)Delhi (2)Ladakh (3)Mumbai (4)Kolkata\")\n",
    "     #   x = int(input(\"Enter 1 or 2 or 3 or 4 from the above options: \"))\n",
    "        \n",
    "    def Que3(self):\n",
    "        print(\"What is the Capital of Tripura?\")\n",
    "        print(\"Options:\")\n",
    "        print(\"(1)Aizawl (2)Agartala (3)Udaipur (4)Kanchanpur\")\n",
    "        \n",
    "        \n",
    "q = Quizzes()\n",
    "score = 0\n",
    "#qlist = [q.Que1(), q.Que2(), q.Que3()]\n",
    "#ans = [1, 2, 2]\n",
    "\n",
    "q.Que1()\n",
    "x = int(input(\"Enter 1 or 2 or 3 or 4 from the above options: \"))\n",
    "if x == 1:\n",
    "    score += 1\n",
    "    \n",
    "    print(\"*********NEXT QUESTION COMING********\")\n",
    "    q.Que2()\n",
    "    x = int(input(\"Enter 1 or 2 or 3 or 4 from the above options: \"))\n",
    "    \n",
    "    if x == 2:\n",
    "        score += 1\n",
    "        \n",
    "        print(\"*********NEXT QUESTION COMING********\")\n",
    "        q.Que3()\n",
    "        x = int(input(\"Enter 1 or 2 or 3 or 4 from the above options: \"))\n",
    "    \n",
    "        if x == 2:\n",
    "            score += 1\n",
    "            print(f\"You won the game, your score is {score}\")\n",
    "        else:\n",
    "            print(f\"you lose the game, you score is {score}\")\n",
    "    \n",
    "        \n",
    "    else:\n",
    "        print(f\"you lose the game, you score is {score}\")\n",
    "        \n",
    "else:\n",
    "    print(f\"you lose the game, you score is {score}\")\n"
   ]
  },
  {
   "cell_type": "code",
   "execution_count": null,
   "id": "a3180f8c",
   "metadata": {},
   "outputs": [],
   "source": []
  },
  {
   "cell_type": "markdown",
   "id": "56859ee4",
   "metadata": {},
   "source": [
    "### 2. Write a python script to create a class \"Person\" with private attributes for age and name. Implement a method to calculate a person's eligibility for voting based on their age. Ensure that age cannot be accessed directly but only through a getter method."
   ]
  },
  {
   "cell_type": "code",
   "execution_count": 33,
   "id": "7d35f4a7",
   "metadata": {},
   "outputs": [
    {
     "name": "stdout",
     "output_type": "stream",
     "text": [
      "Hello Kaushal! You are eligible for vote\n"
     ]
    }
   ],
   "source": [
    "class Person():\n",
    "    def __init__ (self, name):\n",
    "        self.__name = name\n",
    "        #self.__age = age\n",
    "    def set_age(self,a):\n",
    "        self.__age = a\n",
    "        \n",
    "    def get_age(self):\n",
    "        return self.__age\n",
    "    \n",
    "    def eligible(self):\n",
    "        if self.__age>=18:\n",
    "            print(f\"Hello {self.__name}! You are eligible for vote\")\n",
    "        else:\n",
    "            print(f\"Hello {self.__name}! You are not eligible for vote\")\n",
    "    \n",
    "    \n",
    "p = Person(\"Kaushal\")\n",
    "p.set_age(30)\n",
    "\n",
    "p.eligible()\n",
    "        \n",
    "    \n",
    "    "
   ]
  },
  {
   "cell_type": "code",
   "execution_count": null,
   "id": "ffc95730",
   "metadata": {},
   "outputs": [],
   "source": []
  },
  {
   "cell_type": "markdown",
   "id": "eb33370d",
   "metadata": {},
   "source": [
    "### 3. You are tasked with designing a Python class hierarchy for a simple banking system. The system should be able to handle different types of account, such as Savings Account and Checking Accounts. Both account types should have common attributes like an account number, account holder's name, and balance. However, Savings Accounts should have an additional attribute for interest rate, while Checking Accounts should have an attribute for overdraft limit.\n",
    "\n",
    "1. Create a Python class called BankAccount with the following attributes and methods:   \n",
    "a) Attributes: account_number, account_holder_name, balance   \n",
    "b) Methods: __init__() (constructor), deposit(), and withdraw()   \n",
    "2. Create two subclasses, SavingsAccount and CheckingAccount, that inherit from the BankAccount class.   \n",
    "3. Add the following attributes and methods to each subclass:   \n",
    "a) SavingsAccount:    \n",
    "(i) Additional attribute: interest_rate    \n",
    "(ii) Method: calculate_interest(), which calculates and adds interest to the account based on the interest rate.   \n",
    "b) CheckingAccount:    \n",
    "(i) Additional attribute: overdraft_limit    \n",
    "(ii) Method: withdraw(), which allows withdrawing money up to the overdraft limit (if available) without additional fees.    \n",
    "4. Write a program that creates instances of both SavingsAccount and CheckingAccount and demonstrates the use of their methods.   \n",
    "5. Implement proper encapsulation by making the attributes private where necessary and providing getter and setter methods as needed.   \n",
    "6. Handle any potential errors or exceptions that may occur during operations like withdrawals, deposits, or interest calculations.   \n",
    "7. Provide comments in your code to explain the purpose of each class, attribute, and method.  \n",
    "Note: Your code should create instances of the classes, simulate transactions, and showcase the differences between Savings Accounts and Checking Accounts.\n",
    "\n"
   ]
  },
  {
   "cell_type": "code",
   "execution_count": 177,
   "id": "29aa80ab",
   "metadata": {},
   "outputs": [],
   "source": [
    "class BankAccount():\n",
    "#a) Attributes: account_number, account_holder_name, balance\n",
    "#b) Methods: init() (constructor), deposit(), and withdraw()\n",
    "    def __init__(self, account_no, account_holder_name, balance):\n",
    "        self.__acc_no = account_no\n",
    "        self.__acc_holder = account_holder_name\n",
    "        self.__bal = balance\n",
    "        print(f\"Hello {self.__acc_holder}\")\n",
    "        \n",
    "    def get_account_no(self):\n",
    "        self.__acc_no\n",
    "    def get_account_holder(self):\n",
    "        return self.__acc_holder\n",
    "    def get_balance(self):\n",
    "        return self.__bal\n",
    "    \n",
    "    \n",
    "        \n",
    "    def deposit(self, amount):\n",
    "        self.amnt = amount\n",
    "        print(\"You account number:\",self.__acc_no)\n",
    "        \n",
    "        print(\"Amount to be added in the account:\", self.amnt)\n",
    "        print(\"You balance earlier in the account was:\", self.__bal)\n",
    "        \n",
    "        print(\"Now, your balance in the account is:\", self.amnt+self.__bal)\n",
    "        \n",
    "    def withdraw(self, amount):\n",
    "        self.amnt = amount\n",
    "        print(self.__acc_no)\n",
    "        \n",
    "        print(\"Amount to be withdrawn from the account:\", self.amnt)\n",
    "        print(\"You balance earlier in the account was:\", self.__bal)\n",
    "        if self.amnt<self.__bal:\n",
    "            print(\"Now, your balance in the account is:\", self.__bal-self.amnt)\n",
    "        \n",
    "        \n",
    "        \n",
    "class SavingAccount(BankAccount):\n",
    "    def _init_(self, account_no, account_holder_name, balance):\n",
    "        super().__init__(account_no, account_holder_name, balance)        \n",
    "        \n",
    "    def calculate_interest(self, interest_rate):\n",
    "        self.__interest_rate = interest_rate         \n",
    "        add_money = super().get_balance() * self.__interest_rate/100\n",
    "        print(f\"Interest rate is {self.__interest_rate}\")\n",
    "        super().deposit(add_money)\n",
    "        \n",
    "class CheckingAccount(BankAccount):\n",
    "    def _init_(self, account_no, account_holder_name, balance):\n",
    "        super().__init__(account_no, account_holder_name, balance)\n",
    "\n",
    "        \n",
    "    def withdraw(self, amount, overdraft_limit):\n",
    "        self.__overdraft_limit = overdraft_limit\n",
    "        self.__amount  = amount\n",
    "        if self.__overdraft_limit + super().get_balance() < amount :\n",
    "            print(\"Money can't be withdrawn\")\n",
    "        else:\n",
    "            super().withdraw(amount)\n",
    "        \n"
   ]
  },
  {
   "cell_type": "code",
   "execution_count": 143,
   "id": "2095a640",
   "metadata": {},
   "outputs": [
    {
     "name": "stdout",
     "output_type": "stream",
     "text": [
      "You account number: 123\n",
      "Amount to be added in the account: 500\n",
      "You balance earlier in the account was: 5000\n",
      "Now, your balance in the account is: 5500\n"
     ]
    }
   ],
   "source": [
    "x= BankAccount(123,\"Kaushal\",5000)\n",
    "x.deposit(500)\n"
   ]
  },
  {
   "cell_type": "code",
   "execution_count": 179,
   "id": "341f0f5b",
   "metadata": {},
   "outputs": [
    {
     "name": "stdout",
     "output_type": "stream",
     "text": [
      "Hello Kaushal\n",
      "Interest rate is 2\n",
      "You account number: 123\n",
      "Amount to be added in the account: 100.04\n",
      "You balance earlier in the account was: 5002\n",
      "Now, your balance in the account is: 5102.04\n"
     ]
    }
   ],
   "source": [
    "\n",
    "v = SavingAccount(123,\"Kaushal\",5002)\n",
    "v.calculate_interest(2)"
   ]
  },
  {
   "cell_type": "code",
   "execution_count": 180,
   "id": "9d378c4c",
   "metadata": {},
   "outputs": [
    {
     "name": "stdout",
     "output_type": "stream",
     "text": [
      "Hello Kaushal\n",
      "Money can't be withdrawn\n"
     ]
    }
   ],
   "source": [
    "c = CheckingAccount(123,\"Kaushal\",5000)\n",
    "c.withdraw(5200, 100)"
   ]
  },
  {
   "cell_type": "markdown",
   "id": "691320a2",
   "metadata": {},
   "source": [
    "### 4. You are developing an employee management system for a company. Ensure that the system utilizes encapsulation and polymorphism to handle different types of employees, such as full-time and part-time employees.\n",
    "1. Create a base class called \"Employee\" with private attributes for name, employee ID and salary. Implement getter and setter methods for these attributes.   \n",
    "2. Design two subclasses, \"FullTimeEmployee\" and \"PartTimeEmployee\", that inherit from \"Employee\". These subclasses should encapsulate specific properties like hours worked (for part-time employees) and annual salary (for full-time employees).   \n",
    "3. Override the salary calculation method in both subclasses to account from different payment structures.   \n",
    "4. Write a program that demonstrates polymorphism by creating instances of both \"FullTimeEmployee\" and \"PartTimeEmployee\". Calculate their salaries and display employee information."
   ]
  },
  {
   "cell_type": "code",
   "execution_count": 251,
   "id": "14eab02d",
   "metadata": {},
   "outputs": [],
   "source": [
    "class Employee():\n",
    "    def __init__ (self, name, employee_id, salary):\n",
    "        self.__name = name\n",
    "        self.__employee_id = employee_id\n",
    "        self.__salary = salary\n",
    "        \n",
    "    def set_name(self, name):\n",
    "        self.__name = name\n",
    "    def set_employee_id(self, employee_id):\n",
    "        self.__employee_id = employee_id\n",
    "    def set_salary(self, salary):\n",
    "        self.__salary = salary\n",
    "    \n",
    "    def get_name(self):\n",
    "        return self.__name\n",
    "    def get_employee_id(self):\n",
    "        return self.__employee_id\n",
    "    def get_salary(self):\n",
    "        return self.__salary\n",
    "    \n",
    "    \n",
    "class FullTimeEmployee(Employee):\n",
    "    def __init__(self, name, employee_id, salary1):\n",
    "        super().__init__(name, employee_id, salary1)\n",
    "        \n",
    "    def new_calculate_salary(self):\n",
    "        #overriding the method\n",
    "        #return self.get_salary()\n",
    "        return (super().get_salary() + 100)\n",
    "        \n",
    "    \n",
    "class PartTimeEmployee(Employee):\n",
    "        def __init__(self, name, employee_id, salary_per_hour, work_hours):\n",
    "            super().__init__(name, employee_id, salary_per_hour)\n",
    "            self.__work_hours = work_hours\n",
    "            \n",
    "        def set_work_hours(self, work_hours):\n",
    "            self.__work_hours = work_hours\n",
    "        def get_work_hours(self):\n",
    "            return self.__work_hours\n",
    "        \n",
    "        def new_calculate_salary(self):\n",
    "        #overriding the method\n",
    "        #return self.get_salary()\n",
    "            return (super().get_salary() * self.get_work_hours())\n",
    "        \n",
    "        "
   ]
  },
  {
   "cell_type": "code",
   "execution_count": 248,
   "id": "0baa3836",
   "metadata": {},
   "outputs": [
    {
     "name": "stdout",
     "output_type": "stream",
     "text": [
      "Hi Kaushal\n",
      "Your employee_id is 123\n",
      "your calculated salary is 600\n"
     ]
    }
   ],
   "source": [
    "x = FullTimeEmployee(\"Kaushal\", 123, 500)\n",
    "print(f\"Hi {x.get_name()}\")\n",
    "print(f\"Your employee_id is {x.get_employee_id()}\")\n",
    "sal = x.new_calculate_salary()\n",
    "print(f\"your calculated salary is {sal}\")\n"
   ]
  },
  {
   "cell_type": "code",
   "execution_count": 252,
   "id": "fb194911",
   "metadata": {},
   "outputs": [
    {
     "name": "stdout",
     "output_type": "stream",
     "text": [
      "Hi Kaushal\n",
      "Your employee_id is 123\n",
      "your calculated salary is 5000\n"
     ]
    }
   ],
   "source": [
    "y = PartTimeEmployee(\"Kaushal\", 123, 500, 10)\n",
    "print(f\"Hi {y.get_name()}\")\n",
    "print(f\"Your employee_id is {y.get_employee_id()}\")\n",
    "sal = y.new_calculate_salary()\n",
    "print(f\"your calculated salary is {sal}\")\n"
   ]
  },
  {
   "cell_type": "code",
   "execution_count": null,
   "id": "1a0e5eb0",
   "metadata": {},
   "outputs": [],
   "source": [
    "\n"
   ]
  },
  {
   "cell_type": "markdown",
   "id": "ffdcffde",
   "metadata": {},
   "source": [
    "### 5. Library Management System-Scenario:\n",
    "#### You are developing a library management system where you need to handle a books, patrons, and library transactions.\n",
    "1. Create a class hierarchy that includes classes for books (e.g., Book), patrons (e.g., Patron), and transactions (e.g., Transaction). Define attributes and methods for each class.  \n",
    "2. Implement encapsulation by making relevant attributes private and providing getter and setter methods where necessary.  \n",
    "3. Use inheritance to represent different types of books (e.g., fiction, non-fiction) as subclass of the Book class. Ensure that each book type can have specific attributes and methods.  \n",
    "4. Demonstrate polymorphism by allowing patrons to check out and return books, regardless of the book type.   \n",
    "5. Implement a method for tracking overdue books and notifying patrons.   \n",
    "6. Consider scenarios like book reservations, late fees, and library staff interactions in your design."
   ]
  },
  {
   "cell_type": "code",
   "execution_count": 266,
   "id": "6bea84c9",
   "metadata": {},
   "outputs": [],
   "source": [
    "class Book():\n",
    "    def __init__(self, name, author, release_year):\n",
    "        self.__name = name\n",
    "        self.__author = author\n",
    "        self.__release_year = release_year\n",
    "    \n",
    "    def set_name(self, name):\n",
    "        self.__name = name\n",
    "    def get_name(self):\n",
    "        return self.__name\n",
    "    \n",
    "    def set_author(self, author):\n",
    "        self.__author = author\n",
    "    def get_author(self):\n",
    "        return self.__author\n",
    "    \n",
    "    def set_release_year(self, release_year):\n",
    "        self.__release_year = release_year\n",
    "    def get_release_year(self):\n",
    "        return self.__release_year\n",
    "    \n",
    "    \n",
    "class BookType(Book):\n",
    "    def __init__(self, name, author, release_year, type):\n",
    "        super().__init__(name, author, release_year)\n",
    "        self.__type = type\n",
    "    \n",
    "    def set_type(self, type):\n",
    "        self.__type = type\n",
    "    def get_type(self):\n",
    "        return self.__type\n",
    "    \n",
    "\n",
    "        \n",
    "        \n",
    "class Patron():\n",
    "    def __init__(self, name):\n",
    "        self.__name = name\n",
    "        print(f\"Hi, {self.__name}\")\n",
    "\n",
    "    def set_name(self, name):\n",
    "        self.__name  = name\n",
    "    def get_name(self):\n",
    "        return self.__name\n",
    "\n",
    "    def check_out(self, book):\n",
    "        print(f\"You have taken the book {book}\")\n",
    "\n",
    "    def return_book(self, book):\n",
    "        print(f\"You have submitted the book {book}\")\n",
    "\n",
    "    \n",
    "    \n",
    "class Transaction(Patron):\n",
    "    def __init__(self, name, book):\n",
    "        super().__init__(name)\n",
    "        self.__book = book\n",
    "        self.__due_date = None\n",
    "\n",
    "    def set_due_date(self, due_date):\n",
    "        self.__due_date = due_date\n",
    "\n",
    "    def get_due_date(self):\n",
    "        return self.__due_date\n",
    "\n",
    "    def is_overdue(self):\n",
    "        print(f\"have your paid earlier fees for {self.__book}?\")\n",
    "        option = input(\"Enter y for Yes or else n for No: \")\n",
    "        if option == \"y\":\n",
    "            print(\"That's great\")\n",
    "        else:\n",
    "            print(\"Plase, pay them. Thank you\")\n",
    "\n",
    "        "
   ]
  },
  {
   "cell_type": "code",
   "execution_count": 264,
   "id": "d53aacff",
   "metadata": {},
   "outputs": [
    {
     "name": "stdout",
     "output_type": "stream",
     "text": [
      "non-fiction\n"
     ]
    }
   ],
   "source": [
    "t = BookType(\"Ikigai\", \"Hector Garcia\", 2017, \"non-fiction\")\n",
    "print(t.get_type())"
   ]
  },
  {
   "cell_type": "code",
   "execution_count": 265,
   "id": "69716342",
   "metadata": {},
   "outputs": [
    {
     "name": "stdout",
     "output_type": "stream",
     "text": [
      "Hi, Kaushal\n",
      "You have taken the book IKIGAI\n",
      "You have submitted the book IKIGAI\n"
     ]
    }
   ],
   "source": [
    "a = Patron(\"Kaushal\")\n",
    "a.check_out(\"IKIGAI\")\n",
    "a.return_book(\"IKIGAI\")"
   ]
  },
  {
   "cell_type": "code",
   "execution_count": 267,
   "id": "8ac6f3e9",
   "metadata": {},
   "outputs": [
    {
     "name": "stdout",
     "output_type": "stream",
     "text": [
      "Hi, Kaushal\n",
      "have your paid earlier fees for IKIGAI?\n",
      "Enter y for Yes or else n for No: n\n",
      "Plase, pay them. Thank you\n"
     ]
    }
   ],
   "source": [
    "tra = Transaction(\"Kaushal\", \"IKIGAI\")\n",
    "tra.is_overdue()"
   ]
  },
  {
   "cell_type": "markdown",
   "id": "e494f341",
   "metadata": {},
   "source": [
    "### 6.Online Shopping Cart\n",
    "#### Scenario: You are tasked with designing a class hierarchy for an online shopping cart system. The system should handle products, shopping carts, and orders. Consider various OOP principles while designing this system.   \n",
    "1. Create a class hierarchy that includes classes for products (e.g., Product), shopping carts (e.g., ShoppingCart), and orders (e.g., Order). Define attributes and methods for each class.   \n",
    "2. Implement encapsulation by making relevant attributes private and providing getter and setter methods where necessary.   \n",
    "3. Use inheritance to represent different types of products (e.g., electronics, clothing) as subclasses of the Product class. Ensure that each product type can have specific attributes and methods.     \n",
    "4. Demonstrate polymorphism by allowing various product types to be added to a shopping cart and calculate the total cost of items in the cart.    \n",
    "5. Implement a method for placing an order, which transfers items from the shopping cart to an order.  \n",
    "Consider scenarios like out-of-stock products, discounts, and shipping costs in your design."
   ]
  },
  {
   "cell_type": "code",
   "execution_count": 283,
   "id": "4db4d926",
   "metadata": {},
   "outputs": [],
   "source": [
    "class Product():\n",
    "    def __init__(self, product_id, product_name, price):\n",
    "        self.__product_id = product_id\n",
    "        self.__product_name = product_name\n",
    "        self.__price = price\n",
    "        \n",
    "        \n",
    "    def get_product_id(self):\n",
    "        return self.__product_id\n",
    "    def set_product_id(self, product_id):\n",
    "        self.__product_id = product_id\n",
    "            \n",
    "    def set_product_name(self, product_name):\n",
    "        self.__product_name = product_name\n",
    "    def get_product_name(self):\n",
    "        return self.__product_name\n",
    "        \n",
    "    def set_price(self, price):\n",
    "        self.__price = price\n",
    "    def get_price(self):\n",
    "        return self.__price\n",
    "        \n",
    "    \n",
    "class ShoppingCart(Product):\n",
    "    def __init__(self, product_id, product_name, price):\n",
    "        super().__init__(product_id, product_name, price)\n",
    "        \n",
    "    def add_item(self, product_name):\n",
    "        return product_name\n",
    "    \n",
    "    def remove_item(self, product_name):\n",
    "        return product_name\n",
    "    \n",
    "\n",
    "class Order(Product):\n",
    "    def __init__(self, product_id, product_name, price):\n",
    "        super().__init__(product_id, product_name, price)\n",
    "        \n",
    "    def item_cost(self, price):\n",
    "        return price\n",
    "    "
   ]
  },
  {
   "cell_type": "code",
   "execution_count": 285,
   "id": "1ce6b750",
   "metadata": {},
   "outputs": [
    {
     "name": "stdout",
     "output_type": "stream",
     "text": [
      "Product id is: 123\n",
      "Product name is: Laptop\n",
      "50000\n"
     ]
    }
   ],
   "source": [
    "p = Product(123, \"Laptop\", 50000)\n",
    "print(f\"Product id is: {p.get_product_id()}\")\n",
    "print(f\"Product name is: {p.get_product_name()}\")\n",
    "print(f\"{p.get_price()}\")"
   ]
  },
  {
   "cell_type": "code",
   "execution_count": 286,
   "id": "cf22727b",
   "metadata": {},
   "outputs": [
    {
     "name": "stdout",
     "output_type": "stream",
     "text": [
      "items to be added in shopping cart: Laptop\n",
      "items to be removed from shopping cart: Laptop\n"
     ]
    }
   ],
   "source": [
    "s = ShoppingCart(123, \"Laptop\", 50000)\n",
    "print(\"items to be added in shopping cart:\", s.add_item(\"Laptop\"))\n",
    "print(\"items to be removed from shopping cart:\", s.remove_item(\"Laptop\"))"
   ]
  },
  {
   "cell_type": "code",
   "execution_count": 290,
   "id": "8f5722bf",
   "metadata": {},
   "outputs": [
    {
     "name": "stdout",
     "output_type": "stream",
     "text": [
      "total cost of items: 50000\n"
     ]
    }
   ],
   "source": [
    "o = Order(123, \"Laptop\", 50000)\n",
    "print(\"total cost of items:\", o.item_cost(50000))"
   ]
  },
  {
   "cell_type": "code",
   "execution_count": 281,
   "id": "ccab92dc",
   "metadata": {},
   "outputs": [],
   "source": []
  },
  {
   "cell_type": "code",
   "execution_count": null,
   "id": "b0fba54b",
   "metadata": {},
   "outputs": [],
   "source": []
  }
 ],
 "metadata": {
  "kernelspec": {
   "display_name": "Python 3 (ipykernel)",
   "language": "python",
   "name": "python3"
  },
  "language_info": {
   "codemirror_mode": {
    "name": "ipython",
    "version": 3
   },
   "file_extension": ".py",
   "mimetype": "text/x-python",
   "name": "python",
   "nbconvert_exporter": "python",
   "pygments_lexer": "ipython3",
   "version": "3.11.4"
  }
 },
 "nbformat": 4,
 "nbformat_minor": 5
}

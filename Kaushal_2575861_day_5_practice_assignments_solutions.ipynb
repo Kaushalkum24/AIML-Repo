{
 "cells": [
  {
   "cell_type": "markdown",
   "id": "6cd86c2d",
   "metadata": {},
   "source": [
    "# Database Programming with MySQL"
   ]
  },
  {
   "cell_type": "code",
   "execution_count": 1,
   "id": "0c8a71ad",
   "metadata": {},
   "outputs": [
    {
     "name": "stdout",
     "output_type": "stream",
     "text": [
      "<mysql.connector.connection.MySQLConnection object at 0x000002032060D450>\n",
      "connection established\n"
     ]
    }
   ],
   "source": [
    "#check if python installed in cmd\n",
    "import mysql.connector\n",
    "#now, we will establish a connection between python and mysql\n",
    "conn = mysql.connector.connect(host='localhost', user='root', password='Kaushal@1234')\n",
    "\n",
    "#check if connection is established\n",
    "print(conn)\n",
    "if conn.is_connected():\n",
    "    print(\"connection established\")"
   ]
  },
  {
   "cell_type": "code",
   "execution_count": 2,
   "id": "51fcf142",
   "metadata": {},
   "outputs": [],
   "source": [
    "#defining cursor\n",
    "cur = conn.cursor()"
   ]
  },
  {
   "cell_type": "markdown",
   "id": "429ac5c3",
   "metadata": {},
   "source": [
    "## 1. Implement Inventory Management in Python with MySQL\n",
    "a) Inventory management, a critical element of the supply chain, is the tracking of inventory from manufacturers to warehouses and from these facilities to a point of sale. The goal of inventory management is to have the right products in the right place at the right time.    \n",
    "b) The required Database is Inventory, and the required Tables are Purchases, Sales and Inventory.   \n",
    "c) Note: Apply your thoughts to demonstrate the DB Operation in Python"
   ]
  },
  {
   "cell_type": "code",
   "execution_count": 5,
   "id": "c93c2e76",
   "metadata": {},
   "outputs": [],
   "source": [
    "#Creating the database Inventory\n",
    "db0 = \"create database Inventory\"\n",
    "cur.execute(db0)"
   ]
  },
  {
   "cell_type": "code",
   "execution_count": null,
   "id": "bfe5f167",
   "metadata": {},
   "outputs": [],
   "source": [
    "#using the database Inventory\n",
    "db1 = \"use Inventory\"\n",
    "cur.execute(db1)"
   ]
  },
  {
   "cell_type": "code",
   "execution_count": 41,
   "id": "fbb1f9cd",
   "metadata": {},
   "outputs": [],
   "source": [
    "#Creating the Purchases Table\n",
    "Purch_table = \"create table Purchases (PurchaseID int primary key, Description varchar(50), Price int, InventoryID int, SalesID int)\"\n",
    "cur.execute(Purch_table)"
   ]
  },
  {
   "cell_type": "code",
   "execution_count": 42,
   "id": "e79f24a9",
   "metadata": {},
   "outputs": [],
   "source": [
    "#Creating the Sales Table\n",
    "Sale_table = \"create table Sales (SalesID int primary key, Quantity int, Price int)\"\n",
    "cur.execute(Sale_table)"
   ]
  },
  {
   "cell_type": "code",
   "execution_count": 43,
   "id": "d7e1e96d",
   "metadata": {},
   "outputs": [],
   "source": [
    "#Creating the Inventory Table\n",
    "Inven_table = \"create table Inventory (InventoryID int primary key, City varchar(20), Country varchar(20), No_of_staff int)\"\n",
    "cur.execute(Inven_table)"
   ]
  },
  {
   "cell_type": "code",
   "execution_count": null,
   "id": "2600891f",
   "metadata": {},
   "outputs": [],
   "source": []
  },
  {
   "cell_type": "markdown",
   "id": "5eaf0184",
   "metadata": {},
   "source": [
    "## 2. Customer Order Processing\n",
    "### Scenario: You are building a customer order processing system for an e-commerce company. The system needs to interact with a MySQL database to store customer orders, products, and order details.\n",
    "1) Design a MySQL database schema for the order processing system, including tables for customers, products and orders.   \n",
    "2) Write a Python program that connects to the database and allows customers to place new orders.   \n",
    "3) Implement a feature that calculates the total cost of an order and updates product quantities in the database.   \n",
    "4) How  would you handle cases where a product is no longer available when a customer places an order?   \n",
    "5) Develop a function to generate order reports for the company's finance department."
   ]
  },
  {
   "cell_type": "code",
   "execution_count": 48,
   "id": "839878e3",
   "metadata": {},
   "outputs": [
    {
     "name": "stdout",
     "output_type": "stream",
     "text": [
      "<mysql.connector.connection.MySQLConnection object at 0x00000203207AD650>\n",
      "connection established\n"
     ]
    }
   ],
   "source": [
    "#check if python installed in cmd\n",
    "import mysql.connector\n",
    "#now, we will establish a connection between python and mysql\n",
    "conn = mysql.connector.connect(host='localhost', user='root', password='Kaushal@1234')\n",
    "\n",
    "#check if connection is established\n",
    "print(conn)\n",
    "if conn.is_connected():\n",
    "    print(\"connection established\")"
   ]
  },
  {
   "cell_type": "code",
   "execution_count": null,
   "id": "326a1601",
   "metadata": {},
   "outputs": [],
   "source": [
    "#defining cursor\n",
    "cur = conn.cursor()"
   ]
  },
  {
   "cell_type": "code",
   "execution_count": null,
   "id": "3f799280",
   "metadata": {},
   "outputs": [],
   "source": []
  },
  {
   "cell_type": "code",
   "execution_count": 80,
   "id": "7416b9ec",
   "metadata": {},
   "outputs": [],
   "source": [
    "#Create the database e_company_db\n",
    "dbe0 = \"create database e_company_db\"\n",
    "cur.execute(dbe0)"
   ]
  },
  {
   "cell_type": "code",
   "execution_count": 5,
   "id": "59c5190f",
   "metadata": {},
   "outputs": [],
   "source": [
    "#Use the database e_company_db\n",
    "dbe1 = \"use e_company_db\"\n",
    "cur.execute(dbe1)"
   ]
  },
  {
   "cell_type": "code",
   "execution_count": 16,
   "id": "6f109b22",
   "metadata": {},
   "outputs": [],
   "source": [
    "#Creating the Customers Table\n",
    "Cust_table = \"create table Customers (CustomerID int primary key, Cust_Name varchar(20), Location varchar(20))\"\n",
    "cur.execute(Cust_table)"
   ]
  },
  {
   "cell_type": "code",
   "execution_count": 17,
   "id": "e70d68ab",
   "metadata": {},
   "outputs": [],
   "source": [
    "#inserting rows into customers table\n",
    "insert_cust = \"insert into Customers(CustomerID, Cust_Name, Location) values (%s, %s, %s)\"\n",
    "cust_val = [(100, 'John', 'Delhi'),\n",
    "            (101, 'Ram', 'Chennai'),\n",
    "            (102, 'Krishna', 'Pune'),\n",
    "            (103, 'Shreya', 'Noida')\n",
    "           ]\n",
    "\n",
    "cur.executemany(insert_cust, cust_val)\n",
    "conn.commit()"
   ]
  },
  {
   "cell_type": "code",
   "execution_count": 12,
   "id": "857f1056",
   "metadata": {},
   "outputs": [],
   "source": [
    "#Creating the Products Table\n",
    "Prod_table = \"create table Products (ProductID int primary key, Prod_Name varchar(50), Price int, Product_Quantity int)\"\n",
    "cur.execute(Prod_table)"
   ]
  },
  {
   "cell_type": "code",
   "execution_count": 20,
   "id": "0c3d11c3",
   "metadata": {},
   "outputs": [],
   "source": [
    "#inserting rows into Products table\n",
    "insert_prod = \"insert into Products(ProductID, Prod_Name, Price, Product_Quantity) values (%s, %s, %s, %s)\"\n",
    "prod_val = [(10, 'Product10', 1500, 10),\n",
    "            (11, 'Product11', 2500, 15),\n",
    "            (12, 'Product12', 2000, 5),\n",
    "            (13, 'Product13', 3000, 0)\n",
    "           ]\n",
    "\n",
    "cur.executemany(insert_prod, prod_val)\n",
    "conn.commit()"
   ]
  },
  {
   "cell_type": "code",
   "execution_count": 8,
   "id": "26417fcd",
   "metadata": {},
   "outputs": [],
   "source": [
    "#for deleting table if exists\n",
    "#d = \"drop table Orders\"\n",
    "#cur.execute(d)"
   ]
  },
  {
   "cell_type": "code",
   "execution_count": 12,
   "id": "26cadc38",
   "metadata": {},
   "outputs": [],
   "source": [
    "#Creating the Orders Table\n",
    "Ord_table = \"create table Orders (CustomerID int, ProductID int, OrderPrice int, QuantityOrder int)\"\n",
    "cur.execute(Ord_table)"
   ]
  },
  {
   "cell_type": "code",
   "execution_count": 13,
   "id": "46e9e32e",
   "metadata": {},
   "outputs": [],
   "source": [
    "#we will take a user defined function to enter a customer to customer's portal and place the order\n",
    "#and also we will update the products table and orders table\n",
    "def Cust_portal():\n",
    "    c_id = int(input(\"Enter you customer id: \"))\n",
    "    prdcts = ['Product10', 'Product11', 'Product12', 'Product13']\n",
    "    print(prdcts)\n",
    "    \n",
    "    p_id = int(input(\"Enter the last two digits from the name of the products to place the order: \"))\n",
    "    lst_p_id = []\n",
    "    lst_p_id.append(p_id)\n",
    "    Qty_ord = int(input(\"Enter the quantity of order you want to buy: \"))\n",
    "    \n",
    "    pric = \"select Price from Products where ProductID = %s\"\n",
    "    cur.execute(pric, lst_p_id)\n",
    "    #cursor will take only one row using fetchone\n",
    "    r = cur.fetchone()[0]\n",
    "    print(\"price for the product\", p_id, \"is:\", r)\n",
    "    \n",
    "    ord_price = r * Qty_ord\n",
    "    print(\"Total cost for the order will be:\", ord_price)\n",
    "    \n",
    "    \n",
    "    try:\n",
    "        lst1 = []\n",
    "        lst1.append(p_id)\n",
    "        x1 = \"select Product_Quantity from Products where ProductID = %s\"\n",
    "        cur.execute(x1, lst1)\n",
    "        r = cur.fetchone()[0]\n",
    "        \n",
    "        if r>0:\n",
    "            #insert the rows in table: orders\n",
    "            insert_ord = \"insert into Orders (CustomerID, ProductID, OrderPrice, QuantityOrder) values (%s,%s,%s,%s)\"\n",
    "            ord_val = (c_id, p_id, ord_price, Qty_ord)\n",
    "            cur.execute(insert_ord, ord_val)\n",
    "            conn.commit()\n",
    "            #print(\"1 row inserted in orders table\")\n",
    "    \n",
    "            #updating products  table after palcing orders\n",
    "            lst_p_Qty = []\n",
    "            #Qty_ord is the quantity of product that purchased\n",
    "            lst_p_Qty.append(Qty_ord)\n",
    "            #p_id is the product id\n",
    "            lst_p_Qty.append(p_id)\n",
    "            # list will take both above the values and will be used below by calling them in cur.execute\n",
    "\n",
    "            upd = \"update Products set Product_Quantity = (Product_Quantity - %s) where ProductID = %s\"\n",
    "            cur.execute(upd, lst_p_Qty)\n",
    "            conn.commit()\n",
    "            #Now, the Products table has also been updated\n",
    "        else:\n",
    "            raise Exception(\"As the Quantity of Specific product is zero(0). So, order can't be placed\")\n",
    "    except Exception as e:\n",
    "        print(e)\n",
    "    except:\n",
    "        print(\"Check for errors\")\n",
    "        "
   ]
  },
  {
   "cell_type": "code",
   "execution_count": 14,
   "id": "b77fd7a5",
   "metadata": {},
   "outputs": [
    {
     "name": "stdout",
     "output_type": "stream",
     "text": [
      "Enter you customer id: 100\n",
      "['Product10', 'Product11', 'Product12', 'Product13']\n",
      "Enter the last two digits from the name of the products to place the order: 10\n",
      "Enter the quantity of order you want to buy: 2\n",
      "price for the product 10 is: 1500\n",
      "Total cost for the order will be: 3000\n"
     ]
    }
   ],
   "source": [
    "# to invoke the function\n",
    "Cust_portal()"
   ]
  },
  {
   "cell_type": "code",
   "execution_count": 15,
   "id": "8e49955c",
   "metadata": {},
   "outputs": [
    {
     "name": "stdout",
     "output_type": "stream",
     "text": [
      "(CustomerID, ProductID, OrderPrice, QuantityOrder)\n",
      "(100, 10, 3000, 2)\n"
     ]
    }
   ],
   "source": [
    "# Develop a function to generate order reports\n",
    "orders_table = \"select * from Orders\"\n",
    "cur.execute(orders_table)\n",
    "#below code will accept all rows\n",
    "r = cur.fetchall()\n",
    "print(\"(CustomerID, ProductID, OrderPrice, QuantityOrder)\")\n",
    "for x in r:\n",
    "    print(x)"
   ]
  },
  {
   "cell_type": "code",
   "execution_count": null,
   "id": "545e0650",
   "metadata": {},
   "outputs": [],
   "source": []
  },
  {
   "cell_type": "markdown",
   "id": "a1871733",
   "metadata": {},
   "source": [
    "## 3. You are tasked with developing a Python program that connects to a MySQL database, retrieves data from a table, performs some operations on the data, and updates the database with the modified data. Please write Python code to accomplish this task.\n",
    "### Instructions:\n",
    "1) Assume that you have a MySQL database server running with the following details:     \n",
    "i) Host:localhost     \n",
    "ii) Port: 3306   \n",
    "iii) Username: your_username   \n",
    "iv) Password: your_password   \n",
    "v) Database Name : your database   \n",
    "vi) Table Name: your table   \n",
    "vii) The table has the following columns: id(int), name(varchar), quantity(int).   \n",
    "\n",
    "2) Your Python program should:    \n",
    "i) Connect to the MySQL database.     \n",
    "ii) Retrieve all records from the your_table table.   \n",
    "iii) Calculate the total quantity of all records retrieved.   \n",
    "iv) Update the quantity column of each record by doubling its value.   \n",
    "v) Commit the changes to the database.   \n",
    "vi) Close the database connection.   \n",
    "\n",
    "3) Handle any potential errors that may occur during the databse connection and data manipulation, such as connectionn failures or SQL errors.   \n",
    "4) Provide comments in your code to explain each step."
   ]
  },
  {
   "cell_type": "code",
   "execution_count": 47,
   "id": "e4d7f962",
   "metadata": {},
   "outputs": [
    {
     "name": "stdout",
     "output_type": "stream",
     "text": [
      "<mysql.connector.connection.MySQLConnection object at 0x00000203234245D0>\n",
      "connection established\n"
     ]
    }
   ],
   "source": [
    "try:\n",
    "    #check if python installed in cmd\n",
    "    import mysql.connector\n",
    "    #now, we will establish a connection between python and mysql \n",
    "    conn = mysql.connector.connect(host='localhost', user='root', password='Kaushal@1234')\n",
    "\n",
    "    #check if connection is established\n",
    "    print(conn)\n",
    "    if conn.is_connected():\n",
    "        print(\"connection established\")\n",
    "except:\n",
    "    print(\"check for errors\")"
   ]
  },
  {
   "cell_type": "code",
   "execution_count": 18,
   "id": "ec25ac46",
   "metadata": {},
   "outputs": [],
   "source": [
    "#defining cursor\n",
    "cur = conn.cursor()"
   ]
  },
  {
   "cell_type": "code",
   "execution_count": 20,
   "id": "052f3522",
   "metadata": {},
   "outputs": [],
   "source": [
    "#create the database your_db\n",
    "dby = \"create database your_db\"\n",
    "cur.execute(dby)"
   ]
  },
  {
   "cell_type": "code",
   "execution_count": 21,
   "id": "4d37a5ea",
   "metadata": {},
   "outputs": [],
   "source": [
    "#using the database your_db\n",
    "dby0 = \"use your_db\"\n",
    "cur.execute(dby0)"
   ]
  },
  {
   "cell_type": "code",
   "execution_count": 22,
   "id": "d01f0f70",
   "metadata": {},
   "outputs": [],
   "source": [
    "#create the table Products\n",
    "cust = \"create table Products (id int, name varchar(20), quantity int)\"\n",
    "cur.execute(cust)"
   ]
  },
  {
   "cell_type": "code",
   "execution_count": 23,
   "id": "14e870b2",
   "metadata": {},
   "outputs": [],
   "source": [
    "#inserting values to table products\n",
    "insert_prod = \"insert into Products(id, name, Quantity) values (%s, %s, %s)\"\n",
    "prod_val = [(1, 'Product1', 15),\n",
    "            (2, 'Product2', 25),\n",
    "            (3, 'Product3', 20),\n",
    "            (4, 'Product4', 30)\n",
    "           ]\n",
    "\n",
    "cur.executemany(insert_prod, prod_val)\n",
    "conn.commit()"
   ]
  },
  {
   "cell_type": "code",
   "execution_count": 28,
   "id": "f3e60256",
   "metadata": {},
   "outputs": [
    {
     "name": "stdout",
     "output_type": "stream",
     "text": [
      "(1, 'Product1', 15)\n",
      "(2, 'Product2', 25)\n",
      "(3, 'Product3', 20)\n",
      "(4, 'Product4', 30)\n",
      "Number of records: 4\n"
     ]
    }
   ],
   "source": [
    "#Retrieve all records from the Products table\n",
    "ret = \"select * from Products\"\n",
    "cur.execute(ret)\n",
    "r = cur.fetchall()\n",
    "for i in r:\n",
    "    print(i)\n",
    "    \n",
    "#Calculate the total quantity of all records retrieved.\n",
    "print(\"Number of records:\", len(r))"
   ]
  },
  {
   "cell_type": "code",
   "execution_count": 29,
   "id": "dd5f2325",
   "metadata": {},
   "outputs": [],
   "source": [
    "#Update the quantity column of each record by doubling its value.\n",
    "upd = \"update Products set Quantity = 2 * Quantity\"\n",
    "cur.execute(upd)"
   ]
  },
  {
   "cell_type": "code",
   "execution_count": 30,
   "id": "1d1ad6b5",
   "metadata": {},
   "outputs": [
    {
     "name": "stdout",
     "output_type": "stream",
     "text": [
      "(1, 'Product1', 30)\n",
      "(2, 'Product2', 50)\n",
      "(3, 'Product3', 40)\n",
      "(4, 'Product4', 60)\n"
     ]
    }
   ],
   "source": [
    "#We can see the values of quantity has been doubled \n",
    "ret = \"select * from Products\"\n",
    "cur.execute(ret)\n",
    "r = cur.fetchall()\n",
    "for i in r:\n",
    "    print(i)"
   ]
  },
  {
   "cell_type": "code",
   "execution_count": 32,
   "id": "029ee9c4",
   "metadata": {},
   "outputs": [],
   "source": [
    "#Commit the changes to the database.\n",
    "conn.commit()"
   ]
  },
  {
   "cell_type": "code",
   "execution_count": 33,
   "id": "be726992",
   "metadata": {},
   "outputs": [],
   "source": [
    "#Close the database connection.\n",
    "conn.close()"
   ]
  },
  {
   "cell_type": "code",
   "execution_count": null,
   "id": "4a92dfad",
   "metadata": {},
   "outputs": [],
   "source": []
  },
  {
   "cell_type": "markdown",
   "id": "0d580efc",
   "metadata": {},
   "source": [
    "## 4. You are developing an employee management system for a company. The database should store employee information, including name, salary, department, and hire date. Managers should be able to view and update employee details.\n",
    "1) Design the database schema for the employee management system.   \n",
    "2) Write Python code to connect to the database and retrieve a list of employees in a specific department.   \n",
    "3) Implement a feature to update an employee's salary."
   ]
  },
  {
   "cell_type": "code",
   "execution_count": 19,
   "id": "3a9dcbad",
   "metadata": {},
   "outputs": [
    {
     "name": "stdout",
     "output_type": "stream",
     "text": [
      "<mysql.connector.connection.MySQLConnection object at 0x0000027DBD413510>\n",
      "connection established\n"
     ]
    }
   ],
   "source": [
    "#check if python installed in cmd\n",
    "import mysql.connector\n",
    "#now, we will establish a connection between python and mysql\n",
    "conn = mysql.connector.connect(host='localhost', user='root', password='Kaushal@1234')\n",
    "\n",
    "#check if connection is established\n",
    "print(conn)\n",
    "if conn.is_connected():\n",
    "    print(\"connection established\")\n"
   ]
  },
  {
   "cell_type": "code",
   "execution_count": 20,
   "id": "f9d483ca",
   "metadata": {},
   "outputs": [],
   "source": [
    "#defining cursor\n",
    "cur = conn.cursor()"
   ]
  },
  {
   "cell_type": "code",
   "execution_count": 21,
   "id": "571abd0c",
   "metadata": {},
   "outputs": [],
   "source": [
    "#using the database company_db\n",
    "db_c = \"use company_db\"\n",
    "cur.execute(db_c)"
   ]
  },
  {
   "cell_type": "code",
   "execution_count": 22,
   "id": "d18df222",
   "metadata": {},
   "outputs": [
    {
     "name": "stdout",
     "output_type": "stream",
     "text": [
      "Employees_ID for specific Department_ID = 50\n",
      "107\n",
      "108\n",
      "109\n",
      "110\n"
     ]
    }
   ],
   "source": [
    "dep = 50\n",
    "lst = []\n",
    "lst.append(dep)\n",
    "\n",
    "emp_dep = \"select EMPLOYEE_ID from employees where DEPARTMENT_ID = %s\"\n",
    "cur.execute(emp_dep,lst)\n",
    "r = cur.fetchall()\n",
    "print(\"Employees_ID for specific Department_ID = 50\")\n",
    "for i in r:\n",
    "    print(i[0])"
   ]
  },
  {
   "cell_type": "code",
   "execution_count": null,
   "id": "f1f8c78e",
   "metadata": {},
   "outputs": [],
   "source": []
  }
 ],
 "metadata": {
  "kernelspec": {
   "display_name": "Python 3 (ipykernel)",
   "language": "python",
   "name": "python3"
  },
  "language_info": {
   "codemirror_mode": {
    "name": "ipython",
    "version": 3
   },
   "file_extension": ".py",
   "mimetype": "text/x-python",
   "name": "python",
   "nbconvert_exporter": "python",
   "pygments_lexer": "ipython3",
   "version": "3.11.4"
  }
 },
 "nbformat": 4,
 "nbformat_minor": 5
}

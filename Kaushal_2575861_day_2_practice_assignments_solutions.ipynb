{
 "cells": [
  {
   "cell_type": "markdown",
   "id": "984c78ab",
   "metadata": {},
   "source": [
    " # 1. Write a python function to list even and odd numbers in a list."
   ]
  },
  {
   "cell_type": "code",
   "execution_count": 1,
   "id": "aa7530d9",
   "metadata": {},
   "outputs": [
    {
     "name": "stdout",
     "output_type": "stream",
     "text": [
      "list for odd numbers: [1, 89, 111]\n",
      "list for even numbers: [2, 66, 90]\n"
     ]
    }
   ],
   "source": [
    "def odd_even(lst):\n",
    "    lsto = []\n",
    "    lste = []\n",
    "    for i in lst:\n",
    "        if i%2==0:\n",
    "            lste.append(i)\n",
    "        else:\n",
    "            lsto.append(i)\n",
    "    print(\"list for odd numbers:\", lsto)\n",
    "    print(\"list for even numbers:\", lste)\n",
    "    \n",
    "l = [1,2,66,89,90,111]\n",
    "odd_even(l)"
   ]
  },
  {
   "cell_type": "markdown",
   "id": "d49a5e6d",
   "metadata": {},
   "source": [
    "# 2. Write and run a Python program that asks the user to enter 8 integers (one at a time), and then prints out how many of those integers were even numbers. For example, if the user entered 19, 6, 9, 20, 13, 7, 6, and 1, then your program should print out 3 since 3 of those numbers were even."
   ]
  },
  {
   "cell_type": "code",
   "execution_count": 2,
   "id": "b4709987",
   "metadata": {},
   "outputs": [
    {
     "name": "stdout",
     "output_type": "stream",
     "text": [
      "19 6 9 20 13 7 6 1\n",
      "Total even numbers in the list is: 3\n"
     ]
    }
   ],
   "source": [
    "def count_even(lst):\n",
    "    lste = []\n",
    "    for i in lst:\n",
    "        if i%2==0:\n",
    "            lste.append(i)\n",
    "    print(\"Total even numbers in the list is:\", len(lste))\n",
    "        \n",
    "l = list(map(int,input().split()))\n",
    "\n",
    "count_even(l)"
   ]
  },
  {
   "cell_type": "markdown",
   "id": "1c11ec75",
   "metadata": {},
   "source": [
    "# 3. Write a Python program where you take any positive integer n, if n is even, divide it by 2 to get n/2. If n is odd, multiply it by 3 and add 1 to obtain 3n+1. Repeat the process until you reach 1."
   ]
  },
  {
   "cell_type": "code",
   "execution_count": 3,
   "id": "5bedae1a",
   "metadata": {},
   "outputs": [
    {
     "name": "stdout",
     "output_type": "stream",
     "text": [
      "[6, 3.0, 10.0, 5.0, 16.0, 8.0, 4.0, 2.0, 1.0]\n"
     ]
    }
   ],
   "source": [
    "def prog(x):\n",
    "    lst = [x]\n",
    "    if x < 1:\n",
    "        return []\n",
    "    while x>1:\n",
    "        if x%2==0:\n",
    "            x = x/2        \n",
    "        else:\n",
    "            x = 3*x + 1\n",
    "        lst.append(x)\n",
    "#        prog(x)\n",
    "    return lst\n",
    "\n",
    "x = prog(6)\n",
    "print(x)"
   ]
  },
  {
   "cell_type": "markdown",
   "id": "41c9fcf1",
   "metadata": {},
   "source": [
    "# 4. Write a python program to compute the sum of all the multiples of 3 or 5 below 500."
   ]
  },
  {
   "cell_type": "code",
   "execution_count": 4,
   "id": "4acbfbd5",
   "metadata": {},
   "outputs": [
    {
     "name": "stdout",
     "output_type": "stream",
     "text": [
      "57918\n"
     ]
    }
   ],
   "source": [
    "s = 0\n",
    "for i in range(1,500):\n",
    "    if i%3==0 or i%5==0:\n",
    "        s = s + i\n",
    "       # print(i)\n",
    "print(s)"
   ]
  },
  {
   "cell_type": "markdown",
   "id": "6760017e",
   "metadata": {},
   "source": [
    "# 5. To write a python program to find the first n prime numbers from a list of given numbers."
   ]
  },
  {
   "cell_type": "code",
   "execution_count": 5,
   "id": "699b715e",
   "metadata": {},
   "outputs": [
    {
     "name": "stdout",
     "output_type": "stream",
     "text": [
      "Enter the number:5\n",
      "2\n",
      "3\n",
      "5\n",
      "7\n",
      "11\n"
     ]
    }
   ],
   "source": [
    "def prime_no(num):\n",
    "    x = num*num + 1\n",
    "    lst = []\n",
    "    for i in range(1,x+1):\n",
    "        lst1 = []\n",
    "        for j in range(1,i):\n",
    "            if i%j==0:\n",
    "                lst1.append(j)\n",
    "        if len(lst1)==1: \n",
    "            lst.append(i)\n",
    "    for i in range(num):\n",
    "        print(lst[i])\n",
    "    \n",
    "num = int(input(\"Enter the number:\" ))\n",
    "prime_no(num)"
   ]
  },
  {
   "cell_type": "markdown",
   "id": "b17a9b03",
   "metadata": {},
   "source": [
    "# 6. To write a python program to compute matrix multiplication."
   ]
  },
  {
   "cell_type": "code",
   "execution_count": 6,
   "id": "99ba08f0",
   "metadata": {},
   "outputs": [
    {
     "name": "stdout",
     "output_type": "stream",
     "text": [
      "[18, 33, 23]\n",
      "[51, 78, 53]\n",
      "[43, 92, 65]\n"
     ]
    }
   ],
   "source": [
    "m1 = [[1,2,3],\n",
    "     [4,5,6],\n",
    "     [2,5,9]]\n",
    "m2 = [[4,5,3],\n",
    "      [7,2,1],\n",
    "      [0,8,6]]\n",
    "mult = [[0,0,0],\n",
    "        [0,0,0],\n",
    "        [0,0,0]]\n",
    "for i in range(len(m1)):\n",
    "    for j in range(len(m2[0])):\n",
    "        for k in range(len(m2)):\n",
    "            mult[i][j] = mult[i][j] + m1[i][k] * m2[k][j]\n",
    "for i in mult:\n",
    "    print(i)"
   ]
  },
  {
   "cell_type": "markdown",
   "id": "7b0047f1",
   "metadata": {},
   "source": [
    "# 7. Write a python function to count the number of vowels in a string."
   ]
  },
  {
   "cell_type": "code",
   "execution_count": 7,
   "id": "faf45426",
   "metadata": {},
   "outputs": [
    {
     "name": "stdout",
     "output_type": "stream",
     "text": [
      "String is: I am an Mphaian. You are well\n",
      "the number of vowels are: 11\n"
     ]
    }
   ],
   "source": [
    "s = \"I am an Mphaian. You are well\"\n",
    "ad = 0\n",
    "\n",
    "for i in range(len(s)):\n",
    "    if s[i] in ['a','e','i','o','u','A','E','I','O','U']:\n",
    "        ad = ad + 1\n",
    "print('String is:', s)\n",
    "print('the number of vowels are:', ad)"
   ]
  },
  {
   "cell_type": "markdown",
   "id": "996ffa83",
   "metadata": {},
   "source": [
    "# 8. Write a python function for finding factorial for the given number using a recursive function."
   ]
  },
  {
   "cell_type": "code",
   "execution_count": 8,
   "id": "dc6d13f2",
   "metadata": {},
   "outputs": [
    {
     "name": "stdout",
     "output_type": "stream",
     "text": [
      "24\n"
     ]
    }
   ],
   "source": [
    "def fact(num):\n",
    "    if num == 1 or num == 0:\n",
    "        return 1\n",
    "    else:\n",
    "        return (num * fact(num-1))\n",
    "print(fact(4))"
   ]
  },
  {
   "cell_type": "markdown",
   "id": "38a420b9",
   "metadata": {},
   "source": [
    "# 9. Write a python function for generating the Fibonacci series using the function."
   ]
  },
  {
   "cell_type": "code",
   "execution_count": 9,
   "id": "3e436eae",
   "metadata": {},
   "outputs": [
    {
     "name": "stdout",
     "output_type": "stream",
     "text": [
      "[0, 1, 1, 2, 3, 5, 8, 13, 21, 34]\n"
     ]
    }
   ],
   "source": [
    "def fibo(n):\n",
    "    lst = []\n",
    "    a = 0\n",
    "    b = 1\n",
    "    lst.extend([a,b])\n",
    "    \n",
    "    for i in range(2,n):\n",
    "        c = a+b\n",
    "        lst.append(c)\n",
    "        a,b = b,c\n",
    "    print(lst)\n",
    "    \n",
    "fibo(10)"
   ]
  },
  {
   "cell_type": "markdown",
   "id": "84a814de",
   "metadata": {},
   "source": [
    "# 10. Python program to display the given integer in reverse order using the function without an in-built function."
   ]
  },
  {
   "cell_type": "code",
   "execution_count": 10,
   "id": "57feeaad",
   "metadata": {},
   "outputs": [
    {
     "name": "stdout",
     "output_type": "stream",
     "text": [
      "[6, 5, 4, 3, 2, 1]\n"
     ]
    }
   ],
   "source": [
    "def rev(lst):\n",
    "    lst1 = []\n",
    "    for i in range(len(lst)):\n",
    "        lst1.append(0)\n",
    "    for i in range(len(lst)):\n",
    "        lst1[i] = lst[len(lst)-i-1]\n",
    "    print(lst1)\n",
    "    \n",
    "l = [1,2,3,4,5,6]\n",
    "rev(l)\n"
   ]
  },
  {
   "cell_type": "markdown",
   "id": "513b8379",
   "metadata": {},
   "source": [
    "# 11. Write a python function to display all integers within the range 200-300 whose sum of digits is an even number."
   ]
  },
  {
   "cell_type": "code",
   "execution_count": 11,
   "id": "f4f74bfd",
   "metadata": {},
   "outputs": [
    {
     "name": "stdout",
     "output_type": "stream",
     "text": [
      "[200, 202, 204, 206, 208, 211, 213, 215, 217, 219, 220, 222, 224, 226, 228, 231, 233, 235, 237, 239, 240, 242, 244, 246, 248, 251, 253, 255, 257, 259, 260, 262, 264, 266, 268, 271, 273, 275, 277, 279, 280, 282, 284, 286, 288, 291, 293, 295, 297, 299]\n"
     ]
    }
   ],
   "source": [
    "def sum_even(n):\n",
    "    num = n\n",
    "    x = 0\n",
    "    for i in range(0,3):\n",
    "        x = x + n%10\n",
    "        n = n//10\n",
    "    if x%2==0:\n",
    "        return num\n",
    "    else:\n",
    "        return []\n",
    " \n",
    "lst = []\n",
    "for i in range(200,300):\n",
    "    a = sum_even(i)\n",
    "    if a == []:\n",
    "        pass\n",
    "    else:\n",
    "        lst.append(a)\n",
    "print(lst)"
   ]
  },
  {
   "cell_type": "markdown",
   "id": "581c7db0",
   "metadata": {},
   "source": [
    "# 12. Write a python function to find the number of digits and sum of digits for a given integer."
   ]
  },
  {
   "cell_type": "code",
   "execution_count": 12,
   "id": "8dbcd75b",
   "metadata": {},
   "outputs": [
    {
     "name": "stdout",
     "output_type": "stream",
     "text": [
      "Sum of digits is 16 and number of digits is 3\n"
     ]
    }
   ],
   "source": [
    "def digits(n):\n",
    "    num = n\n",
    "    count_digits = 0\n",
    "    sum_digits = 0\n",
    "    for i in range(n):\n",
    "        sum_digits += n%10\n",
    "        n = n//10\n",
    "        count_digits += 1\n",
    "        if n==0:\n",
    "            break\n",
    "    print(\"Sum of digits is {} and number of digits is {}\".format(sum_digits, count_digits))\n",
    "    \n",
    "digits(259)"
   ]
  },
  {
   "cell_type": "markdown",
   "id": "e5db0b2a",
   "metadata": {},
   "source": [
    "# 13. Write functions called is_sorted that takes a list as a parameter and returns True if the list is sorted in ascending order and False otherwise and has_ duplicates that takes a list and returns True if there is any element that appears more than once. It should not modify the original list."
   ]
  },
  {
   "cell_type": "code",
   "execution_count": 13,
   "id": "e3e5058c",
   "metadata": {},
   "outputs": [
    {
     "name": "stdout",
     "output_type": "stream",
     "text": [
      "False\n",
      "True\n"
     ]
    }
   ],
   "source": [
    "def is_sorted(lst):\n",
    "    if lst == sorted(lst):\n",
    "        return True\n",
    "    else:\n",
    "        return False\n",
    "    \n",
    "    \n",
    "def has_duplicates(lst):\n",
    "    s = set(lst)\n",
    "    if len(s) != len(lst):\n",
    "        return True\n",
    "    else:\n",
    "        return False\n",
    "    \n",
    "lst1 = [1,2,3,4,5,6,3]\n",
    "print(is_sorted(lst1))\n",
    "print(has_duplicates(lst1))"
   ]
  },
  {
   "cell_type": "markdown",
   "id": "3a5da97e",
   "metadata": {},
   "source": [
    "# 14. Write functions called nested_sum that takes a list of integers and adds up the element from all the nested lists and cumsum that that takes a list of numbers and returns the cumulative sum; that is, a new list where the i_th element is the sum of first i+1 elements from the original list."
   ]
  },
  {
   "cell_type": "code",
   "execution_count": 16,
   "id": "1bee977d",
   "metadata": {},
   "outputs": [
    {
     "name": "stdout",
     "output_type": "stream",
     "text": [
      "[6, 8, 17, 0, 24]\n"
     ]
    }
   ],
   "source": [
    "def nested_list(lst):\n",
    "    for i in range(len(lst)):\n",
    "        lst[i] = sum(lst[i])\n",
    "    print(lst)\n",
    "    \n",
    "lst = [[1,2,3],[5,3,0],[8,9],[0],[12,12]]\n",
    "nested_list(lst)"
   ]
  }
 ],
 "metadata": {
  "kernelspec": {
   "display_name": "Python 3 (ipykernel)",
   "language": "python",
   "name": "python3"
  },
  "language_info": {
   "codemirror_mode": {
    "name": "ipython",
    "version": 3
   },
   "file_extension": ".py",
   "mimetype": "text/x-python",
   "name": "python",
   "nbconvert_exporter": "python",
   "pygments_lexer": "ipython3",
   "version": "3.11.4"
  }
 },
 "nbformat": 4,
 "nbformat_minor": 5
}

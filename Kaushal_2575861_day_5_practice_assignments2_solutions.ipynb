{
 "cells": [
  {
   "cell_type": "markdown",
   "id": "c9c6da28",
   "metadata": {},
   "source": [
    "# Modules and Virtual Environments"
   ]
  },
  {
   "cell_type": "markdown",
   "id": "bb447add",
   "metadata": {},
   "source": [
    "## 1. Module Import and Management\n",
    "### Scenario: You are developing a complex Python project with multiple modules. To manage the project effectively, you need to import and use various modules. Additionally, you want to  organize your code using namespaces and avoid naming conflicts.\n",
    "#### Design a Python Program that demonstrates the following:\n",
    "1) Import multiple modules within your project.   \n",
    "2) Use the import statement to access functions, classes, and variables from imported modules.   \n",
    "3) Create your custom module and use it in your main program.   \n",
    "4) Handle naming conflicts and ensure proper namespacing.    \n",
    "5) Implement error handling for mission modules or incorrect module usage."
   ]
  },
  {
   "cell_type": "code",
   "execution_count": 17,
   "id": "e974d29e",
   "metadata": {},
   "outputs": [
    {
     "name": "stdout",
     "output_type": "stream",
     "text": [
      "5\n",
      "factorial of 4 is: 24\n",
      "value of pi is: 3.141592653589793\n",
      "square root of 4 is: 2.0\n"
     ]
    }
   ],
   "source": [
    "import math\n",
    "a = math.ceil(4.3)\n",
    "print(a)\n",
    "\n",
    "print(\"factorial of 4 is:\",math.factorial(4))\n",
    "print(\"value of pi is:\",math.pi)\n",
    "print(\"square root of 4 is:\", math.sqrt(4))"
   ]
  },
  {
   "cell_type": "code",
   "execution_count": 18,
   "id": "cc4be6db",
   "metadata": {},
   "outputs": [
    {
     "name": "stdout",
     "output_type": "stream",
     "text": [
      "Windows\n"
     ]
    }
   ],
   "source": [
    "import platform\n",
    "x = platform.system()\n",
    "print(x)"
   ]
  },
  {
   "cell_type": "code",
   "execution_count": 23,
   "id": "11817c03",
   "metadata": {},
   "outputs": [
    {
     "name": "stdout",
     "output_type": "stream",
     "text": [
      "['C:\\\\Users\\\\USER\\\\OneDrive\\\\Desktop\\\\ProjectRepository\\\\Jupyter-Repo', 'C:\\\\Users\\\\USER\\\\anaconda3\\\\python311.zip', 'C:\\\\Users\\\\USER\\\\anaconda3\\\\DLLs', 'C:\\\\Users\\\\USER\\\\anaconda3\\\\Lib', 'C:\\\\Users\\\\USER\\\\anaconda3', '', 'C:\\\\Users\\\\USER\\\\AppData\\\\Roaming\\\\Python\\\\Python311\\\\site-packages', 'C:\\\\Users\\\\USER\\\\anaconda3\\\\Lib\\\\site-packages', 'C:\\\\Users\\\\USER\\\\anaconda3\\\\Lib\\\\site-packages\\\\win32', 'C:\\\\Users\\\\USER\\\\anaconda3\\\\Lib\\\\site-packages\\\\win32\\\\lib', 'C:\\\\Users\\\\USER\\\\anaconda3\\\\Lib\\\\site-packages\\\\Pythonwin']\n"
     ]
    }
   ],
   "source": [
    "import sys\n",
    "print(sys.path)\n",
    "#it will return list of directories from where the interpreter will search for the required module."
   ]
  },
  {
   "cell_type": "code",
   "execution_count": 31,
   "id": "21195737",
   "metadata": {},
   "outputs": [
    {
     "name": "stdout",
     "output_type": "stream",
     "text": [
      "24\n"
     ]
    }
   ],
   "source": [
    "#Create your custom module and use it in your main program\n",
    "#a file has made named facto.py which the factorial of any number\n",
    "#we can take any number as argument in the function and it will return the factorial of the number\n",
    "try: \n",
    "    import facto\n",
    "    x = facto.fact(4)\n",
    "    print(x)\n",
    "except ModuleNotFoundError:\n",
    "    print(\"module not found\")"
   ]
  },
  {
   "cell_type": "code",
   "execution_count": null,
   "id": "f59981ba",
   "metadata": {},
   "outputs": [],
   "source": []
  },
  {
   "cell_type": "markdown",
   "id": "3481acc9",
   "metadata": {},
   "source": [
    "## 2. Virtual Environment Management\n",
    "### Scenario: You are working on multiple Python projects with different dependencies and versions. To avoid conflicts and ensure project isolation, you decide to use virtual environments.  \n",
    "#### Create a Python program that demonstrates the following: \n",
    "1) Create a virtual environment for a specific project.   \n",
    "2) Activate and deactivate virtual environments.   \n",
    "3) Install, upgrade, and uninstall packages within a virtual environment.   \n",
    "4) List the installed packages in a virtual environment.   \n",
    "5) Implement error handling for virtual environment operations."
   ]
  },
  {
   "cell_type": "code",
   "execution_count": 33,
   "id": "3e0b069b",
   "metadata": {},
   "outputs": [],
   "source": [
    "#going to the directory\n",
    "\\Python_Virtevn\n",
    "#create a new virtual environment giving name as Project1\n",
    "py -m venv Poject1\n",
    "#installing vitualenv in machine \n",
    "pip install virtualenv\n",
    "#activating the virtual environemnt\n",
    "Poject1\\Scripts\\activate.bat\n",
    "#deactivating the virtual environemnt\n",
    "deactivate"
   ]
  },
  {
   "cell_type": "code",
   "execution_count": null,
   "id": "c16d2404",
   "metadata": {},
   "outputs": [],
   "source": [
    "#For installing, upgrading, and uninstalling packages within a virtual environment\n",
    "#install numpy version:1.25.0\n",
    "pip install numpy 1.25.0\n",
    "#upgrade to a latest version of numpy\n",
    "pip install numpy --upgrade\n",
    "#unistall numpy\n",
    "pip uninstall numpy"
   ]
  },
  {
   "cell_type": "code",
   "execution_count": null,
   "id": "3b617b94",
   "metadata": {},
   "outputs": [],
   "source": [
    "#List the installed packages in a virtual environment\n",
    "pip list"
   ]
  },
  {
   "cell_type": "markdown",
   "id": "9ddef454",
   "metadata": {},
   "source": [
    "## 3. Module Dependency Resolution\n",
    "### Scenario: You are developing a Python application that relies on third-party packages. Managing dependencies and ensuring compatibility is crucial for your project's success.  \n",
    "#### Design a Python program that demonstrates the following: \n",
    "1) Use a requirements.txt file to specify project dependencies.   \n",
    "2) Automatically install all project dependencies from the requirements.txt file.   \n",
    "3) Ensure that the versions of installed packages are compatible.   \n",
    "4) Implement error handling for dependency resolution and installation."
   ]
  },
  {
   "cell_type": "code",
   "execution_count": null,
   "id": "f883154e",
   "metadata": {},
   "outputs": [],
   "source": [
    "#create a requirements.txt file\n",
    "pip list\n",
    "#add all the packages in the requirements.txt file\n",
    "pip freeze > requirements.txt\n",
    "Poject1\\Scripts\\activate.bat\n",
    "#install all packages from the requirements.txt file\n",
    "pip install -r requirements.txt\n",
    "Poject1\\Scripts\\deactivate.bat"
   ]
  },
  {
   "cell_type": "code",
   "execution_count": null,
   "id": "cf31f848",
   "metadata": {},
   "outputs": [],
   "source": []
  }
 ],
 "metadata": {
  "kernelspec": {
   "display_name": "Python 3 (ipykernel)",
   "language": "python",
   "name": "python3"
  },
  "language_info": {
   "codemirror_mode": {
    "name": "ipython",
    "version": 3
   },
   "file_extension": ".py",
   "mimetype": "text/x-python",
   "name": "python",
   "nbconvert_exporter": "python",
   "pygments_lexer": "ipython3",
   "version": "3.11.4"
  }
 },
 "nbformat": 4,
 "nbformat_minor": 5
}

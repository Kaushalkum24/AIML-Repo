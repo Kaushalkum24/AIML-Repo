{
 "cells": [
  {
   "cell_type": "markdown",
   "id": "3f6fe0d8",
   "metadata": {},
   "source": [
    "### 1. Create a 3x3x3 array with random values"
   ]
  },
  {
   "cell_type": "code",
   "execution_count": 36,
   "id": "16e61771",
   "metadata": {},
   "outputs": [
    {
     "name": "stdout",
     "output_type": "stream",
     "text": [
      "[[[0.99821388 0.5730311  0.29246411]\n",
      "  [0.11569337 0.26159717 0.24194798]\n",
      "  [0.91050559 0.83564603 0.03013295]]\n",
      "\n",
      " [[0.98838132 0.64469263 0.23646205]\n",
      "  [0.89204767 0.02362363 0.33265127]\n",
      "  [0.37876237 0.85183492 0.21594148]]\n",
      "\n",
      " [[0.69625164 0.78498852 0.22384522]\n",
      "  [0.88991835 0.25531371 0.36811902]\n",
      "  [0.47690376 0.20340493 0.54991716]]]\n"
     ]
    }
   ],
   "source": [
    "import numpy as np\n",
    "\n",
    "#a = np.array([[[1,2,3],[4,5,6],[7,8,9]],  [[5,6,2],[1,5,7],[5,3,7]],  [[0,8,9],[9,0,3],[2,1,7]]])\n",
    "\n",
    "a = np.random.random((3,3,3))\n",
    "print(a)"
   ]
  },
  {
   "cell_type": "markdown",
   "id": "c7fcaf51",
   "metadata": {},
   "source": [
    "### 2. Create a 5x5 matrix with values 1,2,3,4 just below the diagonal\n"
   ]
  },
  {
   "cell_type": "code",
   "execution_count": 21,
   "id": "177a8efb",
   "metadata": {},
   "outputs": [
    {
     "name": "stdout",
     "output_type": "stream",
     "text": [
      "[[0. 0. 0. 0. 0.]\n",
      " [1. 0. 0. 0. 0.]\n",
      " [0. 2. 0. 0. 0.]\n",
      " [0. 0. 3. 0. 0.]\n",
      " [0. 0. 0. 4. 0.]]\n"
     ]
    }
   ],
   "source": [
    "import random\n",
    "b = np.zeros((5,5))\n",
    "k=1\n",
    "for i in range(5):\n",
    "    for j in range(5):\n",
    "        if i==j+1:\n",
    "            b[i][j] = k\n",
    "            k = k+1\n",
    "            \n",
    "            #b[i][j] = random.randrange(1,5)\n",
    "            #it will random values between 1 and 4\n",
    "\n",
    "print(b)"
   ]
  },
  {
   "cell_type": "markdown",
   "id": "47984427",
   "metadata": {},
   "source": [
    "### 3. Create a 8x8 matrix and fill it with a checkerboard pattern\n"
   ]
  },
  {
   "cell_type": "code",
   "execution_count": 34,
   "id": "a8012283",
   "metadata": {},
   "outputs": [
    {
     "name": "stdout",
     "output_type": "stream",
     "text": [
      "[[0. 1. 0. 1. 0. 1. 0. 1.]\n",
      " [1. 0. 1. 0. 1. 0. 1. 0.]\n",
      " [0. 1. 0. 1. 0. 1. 0. 1.]\n",
      " [1. 0. 1. 0. 1. 0. 1. 0.]\n",
      " [0. 1. 0. 1. 0. 1. 0. 1.]\n",
      " [1. 0. 1. 0. 1. 0. 1. 0.]\n",
      " [0. 1. 0. 1. 0. 1. 0. 1.]\n",
      " [1. 0. 1. 0. 1. 0. 1. 0.]]\n"
     ]
    }
   ],
   "source": [
    "c = np.zeros((8,8))\n",
    "for i in range(8):\n",
    "    for j in range(8):\n",
    "        if (i+j)%2 == 1:\n",
    "            c[i][j] = 1\n",
    "\n",
    "print(c)"
   ]
  },
  {
   "cell_type": "markdown",
   "id": "9e3ea08c",
   "metadata": {},
   "source": [
    "### 4. Normalize a 5x5 random matrix\n"
   ]
  },
  {
   "cell_type": "code",
   "execution_count": 38,
   "id": "80b6d202",
   "metadata": {},
   "outputs": [
    {
     "name": "stdout",
     "output_type": "stream",
     "text": [
      "[[0.72810456 0.17150773 0.85983679 0.9948414  0.41201465]\n",
      " [0.73048232 0.99397978 0.96632219 0.53289552 0.35202193]\n",
      " [0.9666128  0.97155002 0.39748659 0.12185294 0.82781409]\n",
      " [0.17786533 0.81499914 0.84593948 0.12295077 0.11264428]\n",
      " [0.390092   0.12872024 0.24322836 0.31912384 0.78887606]]\n"
     ]
    }
   ],
   "source": [
    "d = np.random.random((5,5))\n",
    "print(d)"
   ]
  },
  {
   "cell_type": "markdown",
   "id": "86de4f95",
   "metadata": {},
   "source": [
    "### 5. How to find common values between two arrays?\n"
   ]
  },
  {
   "cell_type": "code",
   "execution_count": 39,
   "id": "33c864fe",
   "metadata": {},
   "outputs": [
    {
     "name": "stdout",
     "output_type": "stream",
     "text": [
      "[ 2 55]\n"
     ]
    }
   ],
   "source": [
    "a1 = np.array([1,55,67,4,2])\n",
    "a2 = np.array([2,55,5,6,7])\n",
    "common = np.intersect1d(a1,a2)\n",
    "print(common)"
   ]
  },
  {
   "cell_type": "markdown",
   "id": "ec294be9",
   "metadata": {},
   "source": [
    "### 6. How to get the dates of yesterday, today and tomorrow?"
   ]
  },
  {
   "cell_type": "code",
   "execution_count": 48,
   "id": "79bd7ce1",
   "metadata": {},
   "outputs": [
    {
     "name": "stdout",
     "output_type": "stream",
     "text": [
      "yesterday was: 2023-09-20\n",
      "today is: 2023-09-21\n",
      "tomorrow will be: 2023-09-22\n"
     ]
    }
   ],
   "source": [
    "yesterday = np.datetime64('today') - 1\n",
    "print('yesterday was:', yesterday)\n",
    "\n",
    "today = np.datetime64('today')\n",
    "print('today is:', today)\n",
    "\n",
    "tomorrow = np.datetime64('today') + 1\n",
    "print('tomorrow will be:', tomorrow)"
   ]
  },
  {
   "cell_type": "markdown",
   "id": "5a40e182",
   "metadata": {},
   "source": [
    "### 7. Consider two random array A and B, check if they are equal"
   ]
  },
  {
   "cell_type": "code",
   "execution_count": 56,
   "id": "70b6b2b2",
   "metadata": {},
   "outputs": [
    {
     "name": "stdout",
     "output_type": "stream",
     "text": [
      "False\n",
      "True\n"
     ]
    }
   ],
   "source": [
    "x1 = np.array([1,4,3,4])\n",
    "x2 = np.array([1,2,3,4])\n",
    "x3 = np.array([1,2,3,4])\n",
    "t_f1 = np.array_equal(x1,x2)\n",
    "print(t_f1)\n",
    "t_f2 = np.array_equal(x3,x2)\n",
    "print(t_f2)"
   ]
  },
  {
   "cell_type": "markdown",
   "id": "b5751c8d",
   "metadata": {},
   "source": [
    "### 8. Create random vector of size 10 and replace the maximum value by 0"
   ]
  },
  {
   "cell_type": "code",
   "execution_count": 64,
   "id": "70fcfb38",
   "metadata": {},
   "outputs": [
    {
     "name": "stdout",
     "output_type": "stream",
     "text": [
      "[0.33177276 0.15749732 0.8305681  0.2505152  0.88197782 0.34789383\n",
      " 0.47027404 0.32126151 0.33848383 0.98887558]\n",
      "9\n",
      "[0.33177276 0.15749732 0.8305681  0.2505152  0.88197782 0.34789383\n",
      " 0.47027404 0.32126151 0.33848383 0.        ]\n"
     ]
    }
   ],
   "source": [
    "mat = np.random.random(10)\n",
    "print(mat)\n",
    "k = mat.argmax()\n",
    "print(k)\n",
    "\n",
    "mat[k] = 0\n",
    "print(mat)"
   ]
  },
  {
   "cell_type": "markdown",
   "id": "c6b831ab",
   "metadata": {},
   "source": [
    "### 9. How to print all the values of an array?"
   ]
  },
  {
   "cell_type": "code",
   "execution_count": 131,
   "id": "1dca73f8",
   "metadata": {},
   "outputs": [
    {
     "name": "stdout",
     "output_type": "stream",
     "text": [
      "[[[ 1  2]\n",
      "  [ 4  5]]\n",
      "\n",
      " [[12 10]\n",
      "  [14 15]]]\n",
      "dimension: 3\n",
      "shape: (2, 2, 2)\n",
      "\n",
      "[[ 1  2  4  5 12 10 14 15]]\n",
      "\n",
      "[ 1  2  4  5 12 10 14 15]\n",
      "1\n",
      "2\n",
      "4\n",
      "5\n",
      "12\n",
      "10\n",
      "14\n",
      "15\n"
     ]
    }
   ],
   "source": [
    "aa = np.array([[[1,2],[4,5]], [[12,10],[14,15]]])\n",
    "print(aa)\n",
    "print('dimension:',np.ndim(aa))\n",
    "print('shape:', np.shape(aa))\n",
    "\n",
    "print()\n",
    "#n = a5.shape\n",
    "naa = aa.reshape(1,8)\n",
    "print(naa)\n",
    "print()\n",
    "\n",
    "naaa = naa.reshape(-1)\n",
    "print(naaa)\n",
    "for i in naaa:\n",
    "    print(i)"
   ]
  },
  {
   "cell_type": "markdown",
   "id": "af85403a",
   "metadata": {},
   "source": [
    "### 10. Subtract the mean of each row of a matrix"
   ]
  },
  {
   "cell_type": "code",
   "execution_count": 176,
   "id": "37ab7f94",
   "metadata": {},
   "outputs": [
    {
     "name": "stdout",
     "output_type": "stream",
     "text": [
      "original matrix is:\n",
      "[[ 1  2  3]\n",
      " [ 4  5  6]\n",
      " [ 7  8  9]\n",
      " [10 11 12]]\n",
      "mean for row 1 : 2.0\n",
      "mean for row 2 : 5.0\n",
      "mean for row 3 : 8.0\n",
      "mean for row 4 : 11.0\n",
      "[[-1  0  1]\n",
      " [-1  0  1]\n",
      " [-1  0  1]\n",
      " [-1  0  1]]\n"
     ]
    }
   ],
   "source": [
    "x = np.array([[1,2,3],[4,5,6],[7,8,9],[10,11,12]])\n",
    "print(\"original matrix is:\")\n",
    "print(x)\n",
    "\n",
    "for i in range(len(x)):\n",
    "    m = x[i].mean()\n",
    "    print('mean for row',i+1,':', x[i].mean())\n",
    "    for j in range(len(x[i])):\n",
    "        x[i][j] = x[i][j] - m\n",
    "print(x)"
   ]
  },
  {
   "cell_type": "markdown",
   "id": "1a71f3b2",
   "metadata": {},
   "source": [
    "### 11. Consider a given vector, how to add 1 to each element indexed by a second vector (be careful with repeated indices)?"
   ]
  },
  {
   "cell_type": "code",
   "execution_count": 184,
   "id": "2ef0a20a",
   "metadata": {},
   "outputs": [
    {
     "name": "stdout",
     "output_type": "stream",
     "text": [
      "[ 3 10 14 54  6]\n"
     ]
    }
   ],
   "source": [
    "import numpy as np\n",
    "vector = np.array([3,9,13,54,5])\n",
    "indices = np.array([2,1,1,4]) #at these indices(index) in vector array, element value will increase by 1\n",
    "for i in range(len(vector)):\n",
    "    if i in indices:\n",
    "        vector[i] = vector[i] + 1\n",
    "print(vector)"
   ]
  },
  {
   "cell_type": "markdown",
   "id": "7d5096b5",
   "metadata": {},
   "source": [
    "### 12. How to get the diagonal of a dot product?\n"
   ]
  },
  {
   "cell_type": "code",
   "execution_count": 102,
   "id": "dd8fdf28",
   "metadata": {},
   "outputs": [
    {
     "name": "stdout",
     "output_type": "stream",
     "text": [
      "first matrix:\n",
      " [[1 2 3]\n",
      " [4 5 6]\n",
      " [1 1 1]]\n",
      "second matrix:\n",
      " [[ 7  8  9]\n",
      " [10 11 12]\n",
      " [ 1  1  1]]\n",
      "dot product is:\n",
      " [[ 30  33  36]\n",
      " [ 84  93 102]\n",
      " [ 18  20  22]]\n",
      "30\n",
      "93\n",
      "22\n"
     ]
    }
   ],
   "source": [
    "x1 = np.array([[1,2,3],[4,5,6],[1,1,1]])\n",
    "print(\"first matrix:\\n\",x1)\n",
    "x2 = np.array([[7,8,9],[10,11,12],[1,1,1]])\n",
    "print(\"second matrix:\\n\",x2)\n",
    "a = np.dot(x1, x2)\n",
    "print(\"dot product is:\\n\",a)\n",
    "for i in range(len(a)):\n",
    "    for j in range(len(a)):\n",
    "        if i==j:\n",
    "            print(a[i][j])"
   ]
  },
  {
   "cell_type": "markdown",
   "id": "3814e0b1",
   "metadata": {},
   "source": [
    "### 13. How to find the most frequent value in an array?"
   ]
  },
  {
   "cell_type": "code",
   "execution_count": 126,
   "id": "99752cff",
   "metadata": {},
   "outputs": [
    {
     "name": "stdout",
     "output_type": "stream",
     "text": [
      "[3 1 5 2 0 8 3 9 6 8 1 5 3 8 0 5 4 7 3 4]\n",
      "3 3\n"
     ]
    }
   ],
   "source": [
    "x = np.random.randint(0,10,20)\n",
    "print(x)\n",
    "#bincount is used to get count of occurence for each element\n",
    "#method1\n",
    "freq_no = np.bincount(x).argmax()\n",
    "\n",
    "#method2\n",
    "count = np.bincount(x)\n",
    "freq_no1 = np.argmax(count)\n",
    "\n",
    "print(freq_no, freq_no1)"
   ]
  },
  {
   "cell_type": "markdown",
   "id": "0a7cdaf3",
   "metadata": {},
   "source": [
    "### 14. How to get the n largest values of an array"
   ]
  },
  {
   "cell_type": "code",
   "execution_count": 157,
   "id": "537c3b6e",
   "metadata": {},
   "outputs": [
    {
     "name": "stdout",
     "output_type": "stream",
     "text": [
      "[[  1  24  33]\n",
      " [ 34   5  62]\n",
      " [ 57  78  59]\n",
      " [105 141 127]]\n",
      "\n",
      "[  1  24  33  34   5  62  57  78  59 105 141 127]\n",
      "int32\n",
      "sorted array: [  1   5  24  33  34  57  59  62  78 105 127 141]\n",
      "141\n",
      "127\n",
      "105\n",
      "78\n"
     ]
    }
   ],
   "source": [
    "x = np.array([[1,24,33],[34,5,62],[57,78,59],[105,141,127]])\n",
    "print(x)\n",
    "print()\n",
    "\n",
    "x1 = x.reshape(-1)\n",
    "print(x1)\n",
    "print(x1.dtype)\n",
    "\n",
    "x1.sort()\n",
    "print(\"sorted array:\", x1)\n",
    "\n",
    "\n",
    "n = 5\n",
    "for i in range(len(x1)-1,(len(x1)-n),-1):\n",
    "    print(x1[i])"
   ]
  },
  {
   "cell_type": "markdown",
   "id": "263a8288",
   "metadata": {},
   "source": [
    "### 15. How to create a record array from a regular array?"
   ]
  },
  {
   "cell_type": "code",
   "execution_count": 197,
   "id": "b07157df",
   "metadata": {},
   "outputs": [
    {
     "name": "stdout",
     "output_type": "stream",
     "text": [
      "[['Kaushal' '29' '70']\n",
      " ['Krishna' '20' '72']\n",
      " ['Kumar' '30' '74']]\n",
      "\n",
      "Record array:\n",
      "[(b'Kaushal', 29., 70) (b'Krishna', 20., 72) (b'Kumar', 30., 74)]\n"
     ]
    }
   ],
   "source": [
    "import numpy as np\n",
    "\n",
    "array1 = np.array([\n",
    "    (\"Kaushal\", 29, 70),\n",
    "    (\"Krishna\", 20, 72),\n",
    "    (\"Kumar\", 30, 74)\n",
    "])\n",
    "\n",
    "print(array1)\n",
    "print()\n",
    "print(\"Record array:\")\n",
    "result = np.core.records.fromarrays(array1.T, names='col1, col2, col3', formats='S80, f8, i8')\n",
    "print(result)"
   ]
  },
  {
   "cell_type": "markdown",
   "id": "aee75777",
   "metadata": {},
   "source": [
    "### 16. How to swap two rows of an array?"
   ]
  },
  {
   "cell_type": "code",
   "execution_count": 162,
   "id": "c90d40dc",
   "metadata": {},
   "outputs": [
    {
     "name": "stdout",
     "output_type": "stream",
     "text": [
      "[[ 4  5  6]\n",
      " [ 1  2  3]\n",
      " [ 7  8  9]\n",
      " [10 11 12]]\n"
     ]
    }
   ],
   "source": [
    "x = np.array([[1,2,3],[4,5,6],[7,8,9],[10,11,12]])\n",
    "x[[0,1]] = x[[1,0]]\n",
    "\n",
    "print(x)"
   ]
  },
  {
   "cell_type": "markdown",
   "id": "787fe605",
   "metadata": {},
   "source": [
    "### 17. Write python code to reshape to the next dimension of numpy array?"
   ]
  },
  {
   "cell_type": "code",
   "execution_count": 166,
   "id": "65fe4e02",
   "metadata": {},
   "outputs": [
    {
     "name": "stdout",
     "output_type": "stream",
     "text": [
      "[[ 1  2]\n",
      " [ 3  4]\n",
      " [ 5  6]\n",
      " [ 7  8]\n",
      " [ 9 10]\n",
      " [11 12]]\n"
     ]
    }
   ],
   "source": [
    "x = np.array([[1,2,3],[4,5,6],[7,8,9],[10,11,12]])\n",
    "print(x.reshape(6,2))"
   ]
  }
 ],
 "metadata": {
  "kernelspec": {
   "display_name": "Python 3 (ipykernel)",
   "language": "python",
   "name": "python3"
  },
  "language_info": {
   "codemirror_mode": {
    "name": "ipython",
    "version": 3
   },
   "file_extension": ".py",
   "mimetype": "text/x-python",
   "name": "python",
   "nbconvert_exporter": "python",
   "pygments_lexer": "ipython3",
   "version": "3.11.4"
  }
 },
 "nbformat": 4,
 "nbformat_minor": 5
}

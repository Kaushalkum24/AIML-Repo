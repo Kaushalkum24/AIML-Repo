{
 "cells": [
  {
   "cell_type": "markdown",
   "id": "745ebdbc",
   "metadata": {},
   "source": [
    "# 1.  Manipulate using a list.\n",
    "i)      To add new elements to the end of the list   \n",
    "ii)     To reverse elements in the list   \n",
    "iii)    To display the same list of elements multiple times   \n",
    "iv)     To concatenate two list     \n",
    "v)      To sort the elements in the list in ascending order"
   ]
  },
  {
   "cell_type": "code",
   "execution_count": 1,
   "id": "6c6e3148",
   "metadata": {},
   "outputs": [
    {
     "name": "stdout",
     "output_type": "stream",
     "text": [
      "[1, 4.0, 90.5, 'python', '55']\n"
     ]
    }
   ],
   "source": [
    "lst = [1, 4.0, 90.5, 'python', '55']\n",
    "print(lst)"
   ]
  },
  {
   "cell_type": "code",
   "execution_count": 2,
   "id": "756fb813",
   "metadata": {},
   "outputs": [
    {
     "name": "stdout",
     "output_type": "stream",
     "text": [
      "[1, 4.0, 90.5, 'python', '55', 'mphasis']\n",
      "[1, 4.0, 90.5, 'python', '55', 'mphasis', 3, 9, 178]\n",
      "[1, 4.0, 90.5, 'jupiter', 'python', '55', 'mphasis', 3, 9, 178]\n"
     ]
    }
   ],
   "source": [
    "#To add new elements to the end of the list\n",
    "lst.append(\"mphasis\")\n",
    "print(lst)\n",
    "\n",
    "#to add element using extend\n",
    "lst.extend([3,9,178])\n",
    "print(lst)\n",
    "\n",
    "#add element in list using index at specified index\n",
    "lst.insert(3, 'jupiter')\n",
    "print(lst)"
   ]
  },
  {
   "cell_type": "code",
   "execution_count": 3,
   "id": "22214283",
   "metadata": {},
   "outputs": [
    {
     "name": "stdout",
     "output_type": "stream",
     "text": [
      "[178, 9, 3, 'mphasis', '55', 'python', 'jupiter', 90.5, 4.0, 1]\n"
     ]
    }
   ],
   "source": [
    "#To reverse elements in the list\n",
    "lst.reverse()\n",
    "print(lst)"
   ]
  },
  {
   "cell_type": "code",
   "execution_count": 4,
   "id": "879bb84b",
   "metadata": {},
   "outputs": [
    {
     "name": "stdout",
     "output_type": "stream",
     "text": [
      "[5, 9, 10, 5, 9, 10, 5, 9, 10]\n"
     ]
    }
   ],
   "source": [
    "#To display the same list of elements multiple times\n",
    "x = [5, 9, 10]\n",
    "print(x*3)"
   ]
  },
  {
   "cell_type": "code",
   "execution_count": 5,
   "id": "83679641",
   "metadata": {},
   "outputs": [
    {
     "name": "stdout",
     "output_type": "stream",
     "text": [
      "[178, 9, 3, 'mphasis', '55', 'python', 'jupiter', 90.5, 4.0, 1]\n",
      "[5, 9, 10]\n",
      "[178, 9, 3, 'mphasis', '55', 'python', 'jupiter', 90.5, 4.0, 1, 5, 9, 10]\n"
     ]
    }
   ],
   "source": [
    "#To concatenate two list\n",
    "print(lst)\n",
    "print(x)\n",
    "print(lst+x)"
   ]
  },
  {
   "cell_type": "code",
   "execution_count": 6,
   "id": "bbfd3f87",
   "metadata": {},
   "outputs": [
    {
     "name": "stdout",
     "output_type": "stream",
     "text": [
      "Before sorting:  [5, 56, 2]\n",
      "After sorting:  [2, 5, 56]\n"
     ]
    }
   ],
   "source": [
    "#To sort the elements in the list in ascending order\n",
    "lst2 = [5,56,2]\n",
    "print('Before sorting: ', lst2)\n",
    "lst2.sort()\n",
    "print('After sorting: ', lst2)"
   ]
  },
  {
   "cell_type": "markdown",
   "id": "8f050eb0",
   "metadata": {},
   "source": [
    "# 2.  Write a python program to do in the tuples.\n",
    "i)    Manipulate using tuples     \n",
    "ii)   To add new elements to the end of the tuples    \n",
    "iii)  To reverse elements in the tuple    \n",
    "iv)   To display the elements of the same tuple multiple times    \n",
    "v)    To concatenate two tuples     \n",
    "vi)   To sort the element in the tuple in ascending order"
   ]
  },
  {
   "cell_type": "code",
   "execution_count": 7,
   "id": "379bcdd8",
   "metadata": {},
   "outputs": [
    {
     "name": "stdout",
     "output_type": "stream",
     "text": [
      "(106, 20, 91, 54)\n"
     ]
    }
   ],
   "source": [
    "#Manipulate using tuples\n",
    "t = (106, 20, 91, 54)\n",
    "print(t)"
   ]
  },
  {
   "cell_type": "code",
   "execution_count": 8,
   "id": "08057f23",
   "metadata": {},
   "outputs": [
    {
     "name": "stdout",
     "output_type": "stream",
     "text": [
      "(106, 20, 91, 54, 17)\n"
     ]
    }
   ],
   "source": [
    "#To add new elements to the end of the tuples\n",
    "#by concatenating\n",
    "t = t + (17,)\n",
    "print(t)"
   ]
  },
  {
   "cell_type": "code",
   "execution_count": 9,
   "id": "75c47862",
   "metadata": {},
   "outputs": [
    {
     "name": "stdout",
     "output_type": "stream",
     "text": [
      "Reversed tuple (17, 54, 91, 20, 106)\n"
     ]
    }
   ],
   "source": [
    "#To reverse elements in the tuple\n",
    "t = t[::-1]\n",
    "print('Reversed tuple', t)"
   ]
  },
  {
   "cell_type": "code",
   "execution_count": 10,
   "id": "9541d244",
   "metadata": {},
   "outputs": [
    {
     "name": "stdout",
     "output_type": "stream",
     "text": [
      "(4, 81, 4, 81, 4, 81)\n"
     ]
    }
   ],
   "source": [
    "#To display the elements of the same tuple multiple times\n",
    "tup = (4, 81)\n",
    "print(tup*3)"
   ]
  },
  {
   "cell_type": "code",
   "execution_count": 11,
   "id": "0d3c4766",
   "metadata": {},
   "outputs": [
    {
     "name": "stdout",
     "output_type": "stream",
     "text": [
      "(4, 81, 17, 54, 91, 20, 106)\n"
     ]
    }
   ],
   "source": [
    "#To concatenate two tuples\n",
    "print(tup + t)"
   ]
  },
  {
   "cell_type": "code",
   "execution_count": 13,
   "id": "d400f337",
   "metadata": {},
   "outputs": [
    {
     "name": "stdout",
     "output_type": "stream",
     "text": [
      "[17, 20, 54, 91, 106]\n",
      "(17, 54, 91, 20, 106)\n"
     ]
    }
   ],
   "source": [
    "#To sort the element in the tuple in ascending order\n",
    "print(sorted(t))\n",
    "print(t)"
   ]
  },
  {
   "cell_type": "markdown",
   "id": "8059f1aa",
   "metadata": {},
   "source": [
    "# 3. Write a python program to implement the following using list\n",
    "i)    Create a list with integers(minimum 10 numbers)    \n",
    "ii)   How to display the last number in the list    \n",
    "iii)  Command for displaying values from list [0:4]    \n",
    "iv)   Command for displaying values from list [2:]    \n",
    "v)    Command for displaying values from list [:6]    "
   ]
  },
  {
   "cell_type": "code",
   "execution_count": 14,
   "id": "b18defea",
   "metadata": {},
   "outputs": [
    {
     "name": "stdout",
     "output_type": "stream",
     "text": [
      "[4, 3, 6, 9, 33, 67, 90, 32, 25, 56]\n"
     ]
    }
   ],
   "source": [
    "#Create a list with integers(minimum 10 numbers)\n",
    "lst = [4, 3, 6, 9, 33, 67, 90, 32, 25, 56]\n",
    "print(lst)"
   ]
  },
  {
   "cell_type": "code",
   "execution_count": 15,
   "id": "4165c226",
   "metadata": {},
   "outputs": [
    {
     "data": {
      "text/plain": [
       "56"
      ]
     },
     "execution_count": 15,
     "metadata": {},
     "output_type": "execute_result"
    }
   ],
   "source": [
    "#How to display the last number in the list\n",
    "lst[-1]"
   ]
  },
  {
   "cell_type": "code",
   "execution_count": 16,
   "id": "c98821e0",
   "metadata": {},
   "outputs": [
    {
     "data": {
      "text/plain": [
       "[4, 3, 6, 9]"
      ]
     },
     "execution_count": 16,
     "metadata": {},
     "output_type": "execute_result"
    }
   ],
   "source": [
    "#Command for displaying values from list [0:4]\n",
    "lst[0:4]"
   ]
  },
  {
   "cell_type": "code",
   "execution_count": 17,
   "id": "745958ad",
   "metadata": {},
   "outputs": [
    {
     "data": {
      "text/plain": [
       "[6, 9, 33, 67, 90, 32, 25, 56]"
      ]
     },
     "execution_count": 17,
     "metadata": {},
     "output_type": "execute_result"
    }
   ],
   "source": [
    "#Command for displaying values from list [2:]\n",
    "lst[2:]"
   ]
  },
  {
   "cell_type": "code",
   "execution_count": 18,
   "id": "e766028c",
   "metadata": {},
   "outputs": [
    {
     "data": {
      "text/plain": [
       "[4, 3, 6, 9, 33, 67]"
      ]
     },
     "execution_count": 18,
     "metadata": {},
     "output_type": "execute_result"
    }
   ],
   "source": [
    "#Command for displaying values from list [:6]\n",
    "lst[:6]"
   ]
  },
  {
   "cell_type": "markdown",
   "id": "7cfe06e3",
   "metadata": {},
   "source": [
    "# 4. Write a Python program: tuple1 = (10,50,20,40,30)\n",
    "i)    To display the elements 10 and 50 from tuple1   \n",
    "ii)   To display the length of tuple1      \n",
    "iii)  To find the minimum element from tuple1     \n",
    "iv)   To add all elements in the tuple1     \n",
    "v)    To display the same tuple1 multiple times"
   ]
  },
  {
   "cell_type": "code",
   "execution_count": 11,
   "id": "487a02e0",
   "metadata": {},
   "outputs": [
    {
     "data": {
      "text/plain": [
       "(10, 50, 20, 40, 30)"
      ]
     },
     "execution_count": 11,
     "metadata": {},
     "output_type": "execute_result"
    }
   ],
   "source": [
    "#Write a Python program: tuple1 = (10,50,20,40,30)\n",
    "tuple1 = (10, 50, 20, 40, 30)\n",
    "tuple1"
   ]
  },
  {
   "cell_type": "code",
   "execution_count": 13,
   "id": "b78a8a8a",
   "metadata": {},
   "outputs": [
    {
     "name": "stdout",
     "output_type": "stream",
     "text": [
      "(10, 50)\n",
      "50\n"
     ]
    }
   ],
   "source": [
    "#To display the elements 10 and 50 from tuple1\n",
    "print(tuple1[0:2])\n",
    "#print(tuple1[1])"
   ]
  },
  {
   "cell_type": "code",
   "execution_count": 23,
   "id": "9438fb3e",
   "metadata": {},
   "outputs": [
    {
     "data": {
      "text/plain": [
       "5"
      ]
     },
     "execution_count": 23,
     "metadata": {},
     "output_type": "execute_result"
    }
   ],
   "source": [
    "#To display the length of tuple1\n",
    "len(tuple1)"
   ]
  },
  {
   "cell_type": "code",
   "execution_count": 24,
   "id": "aa51adae",
   "metadata": {},
   "outputs": [
    {
     "data": {
      "text/plain": [
       "10"
      ]
     },
     "execution_count": 24,
     "metadata": {},
     "output_type": "execute_result"
    }
   ],
   "source": [
    "#To find the minimum element from tuple1\n",
    "min(tuple1)"
   ]
  },
  {
   "cell_type": "code",
   "execution_count": 25,
   "id": "27e929f7",
   "metadata": {},
   "outputs": [
    {
     "name": "stdout",
     "output_type": "stream",
     "text": [
      "150\n"
     ]
    }
   ],
   "source": [
    "#To add all elements in the tuple1\n",
    "sum = 0\n",
    "for i in tuple1:\n",
    "    sum = sum + i\n",
    "print(sum)"
   ]
  },
  {
   "cell_type": "code",
   "execution_count": 26,
   "id": "139aa5b9",
   "metadata": {},
   "outputs": [
    {
     "name": "stdout",
     "output_type": "stream",
     "text": [
      "(10, 50, 20, 40, 30, 10, 50, 20, 40, 30, 10, 50, 20, 40, 30, 10, 50, 20, 40, 30, 10, 50, 20, 40, 30, 10, 50, 20, 40, 30)\n"
     ]
    }
   ],
   "source": [
    "#To display the same tuple1 multiple times\n",
    "print(tuple1*6)"
   ]
  },
  {
   "cell_type": "markdown",
   "id": "9629bc84",
   "metadata": {},
   "source": [
    "# 5. Write a Python program:\n",
    "i)    To calculate the length of string    \n",
    "ii)   To reverse words in a string    \n",
    "iii)  To display the same string multiple times     \n",
    "iv)   To concatenate two strings     \n",
    "v)    Str1=\"South India\", using string slicing to display \"India\""
   ]
  },
  {
   "cell_type": "code",
   "execution_count": 27,
   "id": "50f53490",
   "metadata": {},
   "outputs": [
    {
     "data": {
      "text/plain": [
       "11"
      ]
     },
     "execution_count": 27,
     "metadata": {},
     "output_type": "execute_result"
    }
   ],
   "source": [
    "#To calculate the length of string\n",
    "s = \"Hello World\"\n",
    "len(s)"
   ]
  },
  {
   "cell_type": "code",
   "execution_count": 28,
   "id": "ed68a533",
   "metadata": {},
   "outputs": [
    {
     "data": {
      "text/plain": [
       "'dlroW olleH'"
      ]
     },
     "execution_count": 28,
     "metadata": {},
     "output_type": "execute_result"
    }
   ],
   "source": [
    "#To reverse words in a string\n",
    "s[::-1]"
   ]
  },
  {
   "cell_type": "code",
   "execution_count": 29,
   "id": "9702a4ed",
   "metadata": {},
   "outputs": [
    {
     "data": {
      "text/plain": [
       "'Hello WorldHello WorldHello WorldHello WorldHello World'"
      ]
     },
     "execution_count": 29,
     "metadata": {},
     "output_type": "execute_result"
    }
   ],
   "source": [
    "#To display the same string multiple times\n",
    "s*5"
   ]
  },
  {
   "cell_type": "code",
   "execution_count": 30,
   "id": "b66ae36f",
   "metadata": {},
   "outputs": [
    {
     "data": {
      "text/plain": [
       "'Hello WorldI am a coder'"
      ]
     },
     "execution_count": 30,
     "metadata": {},
     "output_type": "execute_result"
    }
   ],
   "source": [
    "#To concatenate two strings\n",
    "s2 = \"I am a coder\"\n",
    "s + s2"
   ]
  },
  {
   "cell_type": "code",
   "execution_count": 31,
   "id": "65f17dbf",
   "metadata": {},
   "outputs": [
    {
     "data": {
      "text/plain": [
       "'India'"
      ]
     },
     "execution_count": 31,
     "metadata": {},
     "output_type": "execute_result"
    }
   ],
   "source": [
    "#Str1=\"South India\", using string slicing to display \"India\"\n",
    "Str1=\"South India\"\n",
    "Str1[6:]"
   ]
  },
  {
   "cell_type": "markdown",
   "id": "06f7297e",
   "metadata": {},
   "source": [
    "# 6. Perform the following:\n",
    "i)    Creating the Dictionary     \n",
    "ii)   Accessing values amd keys in the Dictionary    \n",
    "iii)  Updating the dictionary using the function    \n",
    "iv)   Clear and delete the dictionary values    "
   ]
  },
  {
   "cell_type": "code",
   "execution_count": 50,
   "id": "90eb4e0f",
   "metadata": {},
   "outputs": [
    {
     "name": "stdout",
     "output_type": "stream",
     "text": [
      "{1: 'Comp', 4: 'Pen', 3: 'Phone', 2: 'Copy'}\n"
     ]
    }
   ],
   "source": [
    "#Creating the Dictionary\n",
    "d = {1:'Comp', 4:'Pen', 3:'Phone', 2:'Copy'}\n",
    "print(d)"
   ]
  },
  {
   "cell_type": "code",
   "execution_count": 51,
   "id": "ada8bb6f",
   "metadata": {},
   "outputs": [
    {
     "name": "stdout",
     "output_type": "stream",
     "text": [
      "Comp\n",
      "Pen\n",
      "dict_keys([1, 4, 3, 2])\n",
      "dict_values(['Comp', 'Pen', 'Phone', 'Copy'])\n"
     ]
    }
   ],
   "source": [
    "#Accessing values amd keys in the Dictionary\n",
    "print(d[1])\n",
    "print(d[4])\n",
    "\n",
    "k = d.keys()\n",
    "print(k)\n",
    "v = d.values()\n",
    "print(v)"
   ]
  },
  {
   "cell_type": "code",
   "execution_count": 52,
   "id": "de3f0712",
   "metadata": {},
   "outputs": [
    {
     "name": "stdout",
     "output_type": "stream",
     "text": [
      "{1: 'Comp', 4: 'Pen', 3: 'Phone', 2: 'Copies'}\n",
      "new dictionary {1: 'Comp', 4: 'Pen', 3: 'Telephone', 2: 'Copies', 5: 'Keyboard'}\n"
     ]
    }
   ],
   "source": [
    "#Updating the dictionary using the function\n",
    "d[2] = 'Copies'\n",
    "print(d)\n",
    "\n",
    "#taking new dictionary\n",
    "d2 = {3:'Telephone', 5:'Keyboard'}\n",
    "d.update(d2)\n",
    "print(\"new dictionary\", d)"
   ]
  },
  {
   "cell_type": "code",
   "execution_count": 53,
   "id": "0f47415f",
   "metadata": {},
   "outputs": [
    {
     "name": "stdout",
     "output_type": "stream",
     "text": [
      "after removing 1st one:  {4: 'Pen', 3: 'Telephone', 2: 'Copies', 5: 'Keyboard'}\n",
      "dictionary delted using clear function\n"
     ]
    }
   ],
   "source": [
    "#Clear and delete the dictionary values\n",
    "del d[1]\n",
    "print(\"after removing 1st one: \", d)\n",
    "d.clear()\n",
    "print(\"dictionary delted using clear function\")\n"
   ]
  },
  {
   "cell_type": "markdown",
   "id": "90d7a9fb",
   "metadata": {},
   "source": [
    "# 7. Python program to insert a number to any position in a list "
   ]
  },
  {
   "cell_type": "code",
   "execution_count": 55,
   "id": "9c1251e6",
   "metadata": {},
   "outputs": [
    {
     "name": "stdout",
     "output_type": "stream",
     "text": [
      "[3, 14, 'Laptop', 6, 16, 5]\n"
     ]
    }
   ],
   "source": [
    "lst = [3, 14, 6, 16, 5]\n",
    "lst.insert(2, \"Laptop\")\n",
    "print(lst)"
   ]
  },
  {
   "cell_type": "markdown",
   "id": "a9f6b0cd",
   "metadata": {},
   "source": [
    "# 8. Python program to delete an element from a list by index"
   ]
  },
  {
   "cell_type": "code",
   "execution_count": 56,
   "id": "452ddbf9",
   "metadata": {},
   "outputs": [
    {
     "name": "stdout",
     "output_type": "stream",
     "text": [
      "[3, 14, 6, 16, 5]\n"
     ]
    }
   ],
   "source": [
    "lst = [3, 14, 'Laptop', 6, 16, 5]\n",
    "lst.pop(2)\n",
    "print(lst)"
   ]
  },
  {
   "cell_type": "markdown",
   "id": "2a93fe4e",
   "metadata": {},
   "source": [
    "# 9. Write a program to display number from 1 to 100"
   ]
  },
  {
   "cell_type": "code",
   "execution_count": 58,
   "id": "d36a5e7e",
   "metadata": {},
   "outputs": [
    {
     "name": "stdout",
     "output_type": "stream",
     "text": [
      "1 2 3 4 5 6 7 8 9 10 11 12 13 14 15 16 17 18 19 20 21 22 23 24 25 26 27 28 29 30 31 32 33 34 35 36 37 38 39 40 41 42 43 44 45 46 47 48 49 50 51 52 53 54 55 56 57 58 59 60 61 62 63 64 65 66 67 68 69 70 71 72 73 74 75 76 77 78 79 80 81 82 83 84 85 86 87 88 89 90 91 92 93 94 95 96 97 98 99 100 "
     ]
    }
   ],
   "source": [
    "for i in range(1,101):\n",
    "    print(i, end = ' ')"
   ]
  },
  {
   "cell_type": "markdown",
   "id": "6d1fb960",
   "metadata": {},
   "source": [
    "# 10. Write a python program to find the sum of all items in a tuple"
   ]
  },
  {
   "cell_type": "code",
   "execution_count": 59,
   "id": "3ef216c8",
   "metadata": {},
   "outputs": [
    {
     "name": "stdout",
     "output_type": "stream",
     "text": [
      "sum of all items in the tuple  (3, 14, 6, 16, 5)  is  150\n"
     ]
    }
   ],
   "source": [
    "t = (3, 14, 6, 16, 5)\n",
    "s = 0\n",
    "for i in tuple1:\n",
    "    s = s + i\n",
    "print(\"sum of all items in the tuple \", t, ' is ', s)"
   ]
  },
  {
   "cell_type": "markdown",
   "id": "9892e510",
   "metadata": {},
   "source": [
    "# 11. Create a dictionary containing three lambda functions square, cube and square root.\n",
    "i)     E.g. dict = {'Square':function for squaring, 'Cube':function for cube, 'Squareroot':function for square root}    \n",
    "ii)    Pass the values (input from the user) to the functions in the dictionary respectively.    \n",
    "iii)   Then add the outputs of each function and print it."
   ]
  },
  {
   "cell_type": "code",
   "execution_count": 5,
   "id": "989809fd",
   "metadata": {},
   "outputs": [
    {
     "name": "stdout",
     "output_type": "stream",
     "text": [
      "Enter the number4.0\n",
      "Square of the number is: 16.0\n",
      "Cube of the number is: 64.0\n",
      "Squareroot of the number is: 2.0\n",
      "Sum of all is: 82.0\n"
     ]
    }
   ],
   "source": [
    "n = float(input(\"Enter the number: \"))\n",
    "d = {'Square':(lambda x:x**2)(n), 'Cube':(lambda x:x**3)(n), 'Squareroot':(lambda x:x**0.5)(n)}\n",
    "print(\"Square of the number is:\", d['Square'])\n",
    "print(\"Cube of the number is:\", d['Cube'])\n",
    "print(\"Squareroot of the number is:\", d['Squareroot'])\n",
    "print('Sum of all is:', d['Square'] + d['Cube'] + d['Squareroot'])"
   ]
  },
  {
   "cell_type": "markdown",
   "id": "9029a28c",
   "metadata": {},
   "source": [
    "# 12. A list of words is given. Find the words from the list that have their second character in uppercase. \n",
    "## ls=['hello','Dear','hOw','ARe','You']"
   ]
  },
  {
   "cell_type": "code",
   "execution_count": 7,
   "id": "c2869649",
   "metadata": {},
   "outputs": [
    {
     "name": "stdout",
     "output_type": "stream",
     "text": [
      "hOw\n",
      "ARe\n"
     ]
    }
   ],
   "source": [
    "lst=['hello','Dear','hOw','ARe','You']\n",
    "for i in lst:\n",
    "    if i[1].isupper():\n",
    "        print(i)"
   ]
  },
  {
   "cell_type": "markdown",
   "id": "eb7bcad6",
   "metadata": {},
   "source": [
    "# 13. A dictionary of names and their weights on earth is given.    Find how much they will weigh on the moon. \n",
    "## (Use map and lamda functions) Formula : wMoon = (wEarth * GMoon)/GEarth\n",
    "i)    #Weight of people in kg     \n",
    "      ----> WeightOnEarth = {'John':45, 'Shelly':65, 'Marry':35}     \n",
    "ii)   #Gravitational force on the Moon: 1.622 m/s2    \n",
    "      ----> GMoon = 1.622    \n",
    "iii)  #Gravitational force on the Earth: 9.81 m/s2    \n",
    "      ----> GEarth = 9.81"
   ]
  },
  {
   "cell_type": "code",
   "execution_count": 51,
   "id": "c5951d5e",
   "metadata": {},
   "outputs": [
    {
     "name": "stdout",
     "output_type": "stream",
     "text": [
      "names of people: ['John', 'Shelly', 'Marry']\n",
      "their weight on moon: [7.44, 10.75, 5.79]\n"
     ]
    }
   ],
   "source": [
    "d = {'John':45, 'Shelly':65, 'Marry':35}\n",
    "GMoon = 1.622\n",
    "GEarth = 9.81\n",
    "\n",
    "\n",
    "names = map(lambda x:x,d.keys())\n",
    "print('names of people:',list(names))\n",
    "\n",
    "\n",
    "weights = map(lambda x:round(x*GMoon/GEarth,2) ,d.values())\n",
    "print(\"their weight on moon:\", list(weights))\n"
   ]
  }
 ],
 "metadata": {
  "kernelspec": {
   "display_name": "Python 3 (ipykernel)",
   "language": "python",
   "name": "python3"
  },
  "language_info": {
   "codemirror_mode": {
    "name": "ipython",
    "version": 3
   },
   "file_extension": ".py",
   "mimetype": "text/x-python",
   "name": "python",
   "nbconvert_exporter": "python",
   "pygments_lexer": "ipython3",
   "version": "3.11.4"
  }
 },
 "nbformat": 4,
 "nbformat_minor": 5
}

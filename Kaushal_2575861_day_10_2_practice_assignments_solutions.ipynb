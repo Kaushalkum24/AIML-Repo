{
 "cells": [
  {
   "cell_type": "code",
   "execution_count": 169,
   "id": "d12b2b1e",
   "metadata": {},
   "outputs": [],
   "source": [
    "%matplotlib inline\n",
    "import matplotlib.pyplot as plt\n",
    "import pandas as pd\n",
    "import numpy as np\n",
    "import seaborn as sns"
   ]
  },
  {
   "cell_type": "code",
   "execution_count": 4,
   "id": "27628544",
   "metadata": {},
   "outputs": [],
   "source": [
    "#from IPython.core.display import HTML\n",
    "#css= open('style-table.css').read()+ open('style-notebook.css').read()\n",
    "#HTML('<style>()</style>'.format(css))\n"
   ]
  },
  {
   "cell_type": "code",
   "execution_count": 5,
   "id": "283ff33b",
   "metadata": {},
   "outputs": [
    {
     "data": {
      "text/html": [
       "<div>\n",
       "<style scoped>\n",
       "    .dataframe tbody tr th:only-of-type {\n",
       "        vertical-align: middle;\n",
       "    }\n",
       "\n",
       "    .dataframe tbody tr th {\n",
       "        vertical-align: top;\n",
       "    }\n",
       "\n",
       "    .dataframe thead th {\n",
       "        text-align: right;\n",
       "    }\n",
       "</style>\n",
       "<table border=\"1\" class=\"dataframe\">\n",
       "  <thead>\n",
       "    <tr style=\"text-align: right;\">\n",
       "      <th></th>\n",
       "      <th>title</th>\n",
       "      <th>year</th>\n",
       "    </tr>\n",
       "  </thead>\n",
       "  <tbody>\n",
       "    <tr>\n",
       "      <th>0</th>\n",
       "      <td>Tasveer Mere Sanam</td>\n",
       "      <td>1996</td>\n",
       "    </tr>\n",
       "    <tr>\n",
       "      <th>1</th>\n",
       "      <td>Only You</td>\n",
       "      <td>1994</td>\n",
       "    </tr>\n",
       "    <tr>\n",
       "      <th>2</th>\n",
       "      <td>El pueblo del terror</td>\n",
       "      <td>1970</td>\n",
       "    </tr>\n",
       "    <tr>\n",
       "      <th>3</th>\n",
       "      <td>Machine</td>\n",
       "      <td>2007</td>\n",
       "    </tr>\n",
       "    <tr>\n",
       "      <th>4</th>\n",
       "      <td>MARy</td>\n",
       "      <td>2008</td>\n",
       "    </tr>\n",
       "  </tbody>\n",
       "</table>\n",
       "</div>"
      ],
      "text/plain": [
       "                  title  year\n",
       "0    Tasveer Mere Sanam  1996\n",
       "1              Only You  1994\n",
       "2  El pueblo del terror  1970\n",
       "3               Machine  2007\n",
       "4                  MARy  2008"
      ]
     },
     "execution_count": 5,
     "metadata": {},
     "output_type": "execute_result"
    }
   ],
   "source": [
    "titles = pd.read_csv('titles.csv')\n",
    "titles.head()"
   ]
  },
  {
   "cell_type": "code",
   "execution_count": 6,
   "id": "0f8a7bb4",
   "metadata": {},
   "outputs": [
    {
     "data": {
      "text/html": [
       "<div>\n",
       "<style scoped>\n",
       "    .dataframe tbody tr th:only-of-type {\n",
       "        vertical-align: middle;\n",
       "    }\n",
       "\n",
       "    .dataframe tbody tr th {\n",
       "        vertical-align: top;\n",
       "    }\n",
       "\n",
       "    .dataframe thead th {\n",
       "        text-align: right;\n",
       "    }\n",
       "</style>\n",
       "<table border=\"1\" class=\"dataframe\">\n",
       "  <thead>\n",
       "    <tr style=\"text-align: right;\">\n",
       "      <th></th>\n",
       "      <th>title</th>\n",
       "      <th>year</th>\n",
       "      <th>name</th>\n",
       "      <th>type</th>\n",
       "      <th>character</th>\n",
       "      <th>n</th>\n",
       "    </tr>\n",
       "  </thead>\n",
       "  <tbody>\n",
       "    <tr>\n",
       "      <th>0</th>\n",
       "      <td>Closet Monster</td>\n",
       "      <td>2015</td>\n",
       "      <td>Buffy #1</td>\n",
       "      <td>actor</td>\n",
       "      <td>Buffy 4</td>\n",
       "      <td>31.0</td>\n",
       "    </tr>\n",
       "    <tr>\n",
       "      <th>1</th>\n",
       "      <td>Suuri illusioni</td>\n",
       "      <td>1985</td>\n",
       "      <td>Homo $</td>\n",
       "      <td>actor</td>\n",
       "      <td>Guests</td>\n",
       "      <td>22.0</td>\n",
       "    </tr>\n",
       "    <tr>\n",
       "      <th>2</th>\n",
       "      <td>Battle of the Sexes</td>\n",
       "      <td>2017</td>\n",
       "      <td>$hutter</td>\n",
       "      <td>actor</td>\n",
       "      <td>Bobby Riggs Fan</td>\n",
       "      <td>10.0</td>\n",
       "    </tr>\n",
       "    <tr>\n",
       "      <th>3</th>\n",
       "      <td>Secret in Their Eyes</td>\n",
       "      <td>2015</td>\n",
       "      <td>$hutter</td>\n",
       "      <td>actor</td>\n",
       "      <td>2002 Dodger Fan</td>\n",
       "      <td>NaN</td>\n",
       "    </tr>\n",
       "    <tr>\n",
       "      <th>4</th>\n",
       "      <td>Steve Jobs</td>\n",
       "      <td>2015</td>\n",
       "      <td>$hutter</td>\n",
       "      <td>actor</td>\n",
       "      <td>1988 Opera House Patron</td>\n",
       "      <td>NaN</td>\n",
       "    </tr>\n",
       "  </tbody>\n",
       "</table>\n",
       "</div>"
      ],
      "text/plain": [
       "                  title  year      name   type                character     n\n",
       "0        Closet Monster  2015  Buffy #1  actor                  Buffy 4  31.0\n",
       "1       Suuri illusioni  1985    Homo $  actor                   Guests  22.0\n",
       "2   Battle of the Sexes  2017   $hutter  actor          Bobby Riggs Fan  10.0\n",
       "3  Secret in Their Eyes  2015   $hutter  actor          2002 Dodger Fan   NaN\n",
       "4            Steve Jobs  2015   $hutter  actor  1988 Opera House Patron   NaN"
      ]
     },
     "execution_count": 6,
     "metadata": {},
     "output_type": "execute_result"
    }
   ],
   "source": [
    "cast = pd.read_csv('cast.csv')\n",
    "cast.head()"
   ]
  },
  {
   "cell_type": "markdown",
   "id": "260d53d1",
   "metadata": {},
   "source": [
    "### What are the ten most common movie names of all time?"
   ]
  },
  {
   "cell_type": "code",
   "execution_count": 30,
   "id": "dcb6126a",
   "metadata": {},
   "outputs": [
    {
     "data": {
      "text/plain": [
       "Around the World in 80 Days           1364\n",
       "Hello Au Revoir                        726\n",
       "7 cajas                                689\n",
       "Thelma                                 593\n",
       "The Ten Commandments                   536\n",
       "The Eschatrilogy: Book of the Dead     517\n",
       "Cockneys vs Zombies                    496\n",
       "Catching Faith                         492\n",
       "The Dark Knight Rises                  458\n",
       "The Buccaneer                          437\n",
       "Name: title, dtype: int64"
      ]
     },
     "execution_count": 30,
     "metadata": {},
     "output_type": "execute_result"
    }
   ],
   "source": [
    "cast['title'].value_counts().iloc[:10]\n"
   ]
  },
  {
   "cell_type": "markdown",
   "id": "3a912f37",
   "metadata": {},
   "source": [
    "### Which three years of the 1930s saw the most films released?"
   ]
  },
  {
   "cell_type": "code",
   "execution_count": 39,
   "id": "b463142a",
   "metadata": {},
   "outputs": [
    {
     "data": {
      "text/plain": [
       "1937    27676\n",
       "1936    26019\n",
       "1938    25450\n",
       "Name: year, dtype: int64"
      ]
     },
     "execution_count": 39,
     "metadata": {},
     "output_type": "execute_result"
    }
   ],
   "source": [
    "year30_40 = cast.loc[(cast['year']>=1930) & (cast['year']<1940)]\n",
    "year30_40['year'].value_counts().head(3)"
   ]
  },
  {
   "cell_type": "markdown",
   "id": "a5128ee5",
   "metadata": {},
   "source": [
    "### Plot the number of films that have been released each decade over the history of cinema."
   ]
  },
  {
   "cell_type": "code",
   "execution_count": 37,
   "id": "5b783448",
   "metadata": {},
   "outputs": [
    {
     "data": {
      "text/plain": [
       "<Axes: xlabel='year'>"
      ]
     },
     "execution_count": 37,
     "metadata": {},
     "output_type": "execute_result"
    },
    {
     "data": {
      "image/png": "[encoded data removed]",
      "text/plain": [
       "<Figure size 500x300 with 1 Axes>"
      ]
     },
     "metadata": {},
     "output_type": "display_data"
    }
   ],
   "source": [
    "x = cast['year'].groupby((cast['year']//10)*10).count()\n",
    "x.plot(kind='bar', figsize=(5, 3))"
   ]
  },
  {
   "cell_type": "markdown",
   "id": "ee35b56c",
   "metadata": {},
   "source": [
    "### Plot the number of \"Hamlet\" films made each decade."
   ]
  },
  {
   "cell_type": "code",
   "execution_count": 175,
   "id": "dee12d64",
   "metadata": {},
   "outputs": [
    {
     "data": {
      "text/plain": [
       "<Axes: xlabel='year'>"
      ]
     },
     "execution_count": 175,
     "metadata": {},
     "output_type": "execute_result"
    },
    {
     "data": {
      "image/png": "[encoded data removed]",
      "text/plain": [
       "<Figure size 300x300 with 1 Axes>"
      ]
     },
     "metadata": {},
     "output_type": "display_data"
    }
   ],
   "source": [
    "hamlet = cast.loc[cast['title']=='Hamlet']\n",
    "x = hamlet['title'].groupby((hamlet['year']//10)*10).count()\n",
    "x.plot(kind='bar', figsize=(3,3))\n"
   ]
  },
  {
   "cell_type": "markdown",
   "id": "4d3ff4ff",
   "metadata": {},
   "source": [
    "### Plot the number of \"Rustler\" characters in each decade of the history of film."
   ]
  },
  {
   "cell_type": "code",
   "execution_count": 58,
   "id": "b2a1f28a",
   "metadata": {},
   "outputs": [
    {
     "data": {
      "text/plain": [
       "<Axes: xlabel='year'>"
      ]
     },
     "execution_count": 58,
     "metadata": {},
     "output_type": "execute_result"
    },
    {
     "data": {
      "image/png": "[encoded data removed]",
      "text/plain": [
       "<Figure size 300x300 with 1 Axes>"
      ]
     },
     "metadata": {},
     "output_type": "display_data"
    }
   ],
   "source": [
    "rustler = cast.loc[cast['character']=='Rustler']\n",
    "x = rustler['character'].groupby((rustler['year']//10)*10).count()\n",
    "x.plot(kind='bar',figsize=(3,3))"
   ]
  },
  {
   "cell_type": "markdown",
   "id": "c594482f",
   "metadata": {},
   "source": [
    "### Plot the number of \"Hamlet\" characters each decade."
   ]
  },
  {
   "cell_type": "code",
   "execution_count": 59,
   "id": "b2abb603",
   "metadata": {},
   "outputs": [
    {
     "data": {
      "text/plain": [
       "<Axes: xlabel='year'>"
      ]
     },
     "execution_count": 59,
     "metadata": {},
     "output_type": "execute_result"
    },
    {
     "data": {
      "image/png": "[encoded data removed]",
      "text/plain": [
       "<Figure size 400x300 with 1 Axes>"
      ]
     },
     "metadata": {},
     "output_type": "display_data"
    }
   ],
   "source": [
    "hamlet = cast.loc[cast['character']=='Hamlet']\n",
    "x = hamlet['character'].groupby((hamlet['year']//10)*10).count()\n",
    "x.plot(kind='bar', figsize=(4,3))"
   ]
  },
  {
   "cell_type": "markdown",
   "id": "da6e225a",
   "metadata": {},
   "source": [
    "### What are the 11 most common character names in movie history?"
   ]
  },
  {
   "cell_type": "code",
   "execution_count": 64,
   "id": "2b916490",
   "metadata": {},
   "outputs": [
    {
     "data": {
      "text/plain": [
       "character\n",
       "Himself        20746\n",
       "Dancer         12477\n",
       "Extra          11948\n",
       "Reporter        8434\n",
       "Student         7773\n",
       "Doctor          7669\n",
       "Party Guest     7245\n",
       "Policeman       7029\n",
       "Nurse           6999\n",
       "Bartender       6802\n",
       "Herself         6705\n",
       "Name: character, dtype: int64"
      ]
     },
     "execution_count": 64,
     "metadata": {},
     "output_type": "execute_result"
    }
   ],
   "source": [
    "char_count = cast['character'].groupby(cast['character']).count()\n",
    "char_count.sort_values(ascending=False).head(11)"
   ]
  },
  {
   "cell_type": "markdown",
   "id": "e9056f2b",
   "metadata": {},
   "source": [
    "### Who are the 10 people most often credited as \"Herself\" In film history?"
   ]
  },
  {
   "cell_type": "code",
   "execution_count": 76,
   "id": "2e9a2d0a",
   "metadata": {},
   "outputs": [
    {
     "data": {
      "text/plain": [
       "name\n",
       "Queen Elizabeth II        12\n",
       "Joyce Brothers             9\n",
       "Luisa Horga                9\n",
       "Mar?a Luisa (V) Mart?n     9\n",
       "Hillary Clinton            8\n",
       "Margaret Thatcher          8\n",
       "In?s J. Southern           6\n",
       "Marta Berrocal             6\n",
       "Oprah Winfrey              6\n",
       "Marilyn Monroe             6\n",
       "Name: name, dtype: int64"
      ]
     },
     "execution_count": 76,
     "metadata": {},
     "output_type": "execute_result"
    }
   ],
   "source": [
    "herself = cast.loc[cast['character']=='Herself']\n",
    "c = herself['name'].groupby(herself['name']).count()\n",
    "c.sort_values(ascending=False).head(10)"
   ]
  },
  {
   "cell_type": "markdown",
   "id": "f0d91f70",
   "metadata": {},
   "source": [
    "### Who are the 10 people most often credited as \"Himself\" in film history?"
   ]
  },
  {
   "cell_type": "code",
   "execution_count": 77,
   "id": "7d664593",
   "metadata": {},
   "outputs": [
    {
     "data": {
      "text/plain": [
       "name\n",
       "Adolf Hitler             99\n",
       "Richard Nixon            44\n",
       "Ronald Reagan            41\n",
       "John F. Kennedy          37\n",
       "George W. Bush           25\n",
       "Winston Churchill        24\n",
       "Martin Luther King       23\n",
       "Bill Clinton             22\n",
       "Ron Jeremy               22\n",
       "Franklin D. Roosevelt    21\n",
       "Name: name, dtype: int64"
      ]
     },
     "execution_count": 77,
     "metadata": {},
     "output_type": "execute_result"
    }
   ],
   "source": [
    "himself = cast.loc[cast['character']=='Himself']\n",
    "c = himself['name'].groupby(himself['name']).count()\n",
    "c.sort_values(ascending=False).head(10)"
   ]
  },
  {
   "cell_type": "markdown",
   "id": "ef11f61b",
   "metadata": {},
   "source": [
    "### Which actors or actresses appeared in the most movies in the year 1945?"
   ]
  },
  {
   "cell_type": "code",
   "execution_count": 91,
   "id": "6f40d941",
   "metadata": {},
   "outputs": [
    {
     "data": {
      "text/plain": [
       "name\n",
       "Emmett Vogan    39\n",
       "Name: name, dtype: int64"
      ]
     },
     "execution_count": 91,
     "metadata": {},
     "output_type": "execute_result"
    }
   ],
   "source": [
    "act = cast.loc[cast['year']==1945]\n",
    "a = act['name'].groupby(act['name']).count()\n",
    "a.sort_values(ascending=False).head(1)"
   ]
  },
  {
   "cell_type": "markdown",
   "id": "4ef0cfdc",
   "metadata": {},
   "source": [
    "### Which actors or actresses appeared in the most movies in the year 1985?"
   ]
  },
  {
   "cell_type": "code",
   "execution_count": 94,
   "id": "6077c4b0",
   "metadata": {},
   "outputs": [
    {
     "data": {
      "text/plain": [
       "name\n",
       "Mammootty    22\n",
       "Name: name, dtype: int64"
      ]
     },
     "execution_count": 94,
     "metadata": {},
     "output_type": "execute_result"
    }
   ],
   "source": [
    "act = cast.loc[cast['year']==1985]\n",
    "a = act['name'].groupby(act['name']).count()\n",
    "a.sort_values(ascending=False).head(1)"
   ]
  },
  {
   "cell_type": "markdown",
   "id": "6773b62b",
   "metadata": {},
   "source": [
    "### Plot how many roles Mammootty has played in each year of his career."
   ]
  },
  {
   "cell_type": "code",
   "execution_count": 101,
   "id": "df56d08f",
   "metadata": {},
   "outputs": [
    {
     "data": {
      "text/plain": [
       "<Axes: xlabel='year'>"
      ]
     },
     "execution_count": 101,
     "metadata": {},
     "output_type": "execute_result"
    },
    {
     "data": {
      "image/png": "[encoded data removed]",
      "text/plain": [
       "<Figure size 640x480 with 1 Axes>"
      ]
     },
     "metadata": {},
     "output_type": "display_data"
    }
   ],
   "source": [
    "mamm = cast.loc[cast['name']=='Mammootty']\n",
    "x= mamm['year'].groupby(mamm['year']).count()\n",
    "x.plot(kind='bar')"
   ]
  },
  {
   "cell_type": "markdown",
   "id": "945086db",
   "metadata": {},
   "source": [
    "### What are the 10 most frequent roles that start with the phrase \"Patron in\"?"
   ]
  },
  {
   "cell_type": "code",
   "execution_count": 114,
   "id": "3de485aa",
   "metadata": {},
   "outputs": [
    {
     "data": {
      "text/plain": [
       "Patron in Frisky Rabbit         16\n",
       "Patron in Chinese Restaurant     9\n",
       "Patron in the Coffee House       9\n",
       "Patron in Billiard Parlor        5\n",
       "Patron in restaurant             4\n",
       "Patron in Bar                    4\n",
       "Patron in cabaret                3\n",
       "Patron in Restaurant             3\n",
       "Patron in Club                   3\n",
       "Patron in booth                  2\n",
       "Name: character, dtype: int64"
      ]
     },
     "execution_count": 114,
     "metadata": {},
     "output_type": "execute_result"
    }
   ],
   "source": [
    "patron = cast.loc[cast['character'].str.startswith(\"Patron in\")]\n",
    "patron['character'].value_counts().head(10)"
   ]
  },
  {
   "cell_type": "markdown",
   "id": "7de70601",
   "metadata": {},
   "source": [
    "### What are the 10 most frequent roles that start with the word \"Science\"?"
   ]
  },
  {
   "cell_type": "code",
   "execution_count": 119,
   "id": "0613b56d",
   "metadata": {},
   "outputs": [
    {
     "data": {
      "text/plain": [
       "Science Teacher         60\n",
       "Science Student          9\n",
       "Science Fair Student     9\n",
       "Science Fair Judge       6\n",
       "Science Fair Kid         5\n",
       "Science Reporter         5\n",
       "Science Kid              5\n",
       "Science Club Member      5\n",
       "Science Promo Cadet      5\n",
       "Science                  4\n",
       "Name: character, dtype: int64"
      ]
     },
     "execution_count": 119,
     "metadata": {},
     "output_type": "execute_result"
    }
   ],
   "source": [
    "science = cast.loc[cast['character'].str.startswith('Science')]\n",
    "science['character'].value_counts().head(10)"
   ]
  },
  {
   "cell_type": "markdown",
   "id": "6dc72c1c",
   "metadata": {},
   "source": [
    "### Plot the n-values of the roles that Judi Dench has played over her career."
   ]
  },
  {
   "cell_type": "code",
   "execution_count": 128,
   "id": "063afcdd",
   "metadata": {},
   "outputs": [
    {
     "data": {
      "text/plain": [
       "<matplotlib.collections.PathCollection at 0x21228e1e8d0>"
      ]
     },
     "execution_count": 128,
     "metadata": {},
     "output_type": "execute_result"
    },
    {
     "data": {
      "image/png": "[encoded data removed]",
      "text/plain": [
       "<Figure size 640x480 with 1 Axes>"
      ]
     },
     "metadata": {},
     "output_type": "display_data"
    }
   ],
   "source": [
    "judi = cast.loc[cast['name']=='Judi Dench']\n",
    "plt.scatter(judi['n'],judi['year'], alpha=0.6)"
   ]
  },
  {
   "cell_type": "markdown",
   "id": "44557a33",
   "metadata": {},
   "source": [
    "### Plot the n-values of Cary Grant's roles through his career."
   ]
  },
  {
   "cell_type": "code",
   "execution_count": 140,
   "id": "9a696787",
   "metadata": {},
   "outputs": [
    {
     "data": {
      "text/plain": [
       "<matplotlib.collections.PathCollection at 0x21233d24590>"
      ]
     },
     "execution_count": 140,
     "metadata": {},
     "output_type": "execute_result"
    },
    {
     "data": {
      "image/png": "[encoded data removed]",
      "text/plain": [
       "<Figure size 1400x400 with 1 Axes>"
      ]
     },
     "metadata": {},
     "output_type": "display_data"
    }
   ],
   "source": [
    "cary = cast.loc[cast['name']=='Cary Grant']\n",
    "plt.figure(figsize=(14,4))\n",
    "plt.scatter(cary['year'], cary['n'], alpha=0.3)"
   ]
  },
  {
   "cell_type": "markdown",
   "id": "88da52b5",
   "metadata": {},
   "source": [
    "### Plot the n-value of the roles that Sidney Poitier has acted over the years."
   ]
  },
  {
   "cell_type": "code",
   "execution_count": 148,
   "id": "e0e43810",
   "metadata": {},
   "outputs": [
    {
     "data": {
      "text/plain": [
       "<matplotlib.collections.PathCollection at 0x2123425be50>"
      ]
     },
     "execution_count": 148,
     "metadata": {},
     "output_type": "execute_result"
    },
    {
     "data": {
      "image/png": "[encoded data removed]",
      "text/plain": [
       "<Figure size 1500x500 with 1 Axes>"
      ]
     },
     "metadata": {},
     "output_type": "display_data"
    }
   ],
   "source": [
    "sid = cast.loc[cast['name']=='Sidney Poitier']\n",
    "#sid[\"year\"].groupby(sid['year']).count()\n",
    "plt.figure(figsize=(15,5))\n",
    "plt.scatter(sid['year'],sid['n'])"
   ]
  },
  {
   "cell_type": "markdown",
   "id": "ac0ec296",
   "metadata": {},
   "source": [
    "### How many leading (n=1) roles were available to actors, and how many to actresses, in the 1950s?"
   ]
  },
  {
   "cell_type": "code",
   "execution_count": 163,
   "id": "c834ebd9",
   "metadata": {},
   "outputs": [
    {
     "data": {
      "text/plain": [
       "type\n",
       "actor      625\n",
       "actress    288\n",
       "Name: type, dtype: int64"
      ]
     },
     "execution_count": 163,
     "metadata": {},
     "output_type": "execute_result"
    }
   ],
   "source": [
    "x = cast.loc[(cast['n']==1) & (cast['year']==1950)]\n",
    "x['type'].groupby(x['type']).count()"
   ]
  },
  {
   "cell_type": "markdown",
   "id": "94c4c04c",
   "metadata": {},
   "source": [
    "### How many supporting roles (n=2) were available to actors and how many to actress in 1950s?"
   ]
  },
  {
   "cell_type": "code",
   "execution_count": 164,
   "id": "3cc6f1a5",
   "metadata": {},
   "outputs": [
    {
     "data": {
      "text/plain": [
       "type\n",
       "actor      441\n",
       "actress    414\n",
       "Name: type, dtype: int64"
      ]
     },
     "execution_count": 164,
     "metadata": {},
     "output_type": "execute_result"
    }
   ],
   "source": [
    "x = cast.loc[(cast['n']==2) & (cast['year']==1950)]\n",
    "x['type'].groupby(x['type']).count()"
   ]
  },
  {
   "cell_type": "code",
   "execution_count": null,
   "id": "56133cad",
   "metadata": {},
   "outputs": [],
   "source": []
  }
 ],
 "metadata": {
  "kernelspec": {
   "display_name": "Python 3 (ipykernel)",
   "language": "python",
   "name": "python3"
  },
  "language_info": {
   "codemirror_mode": {
    "name": "ipython",
    "version": 3
   },
   "file_extension": ".py",
   "mimetype": "text/x-python",
   "name": "python",
   "nbconvert_exporter": "python",
   "pygments_lexer": "ipython3",
   "version": "3.11.4"
  }
 },
 "nbformat": 4,
 "nbformat_minor": 5
}
